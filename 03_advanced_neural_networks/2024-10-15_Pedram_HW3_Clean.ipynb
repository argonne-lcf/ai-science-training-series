{
 "cells": [
  {
   "cell_type": "markdown",
   "metadata": {},
   "source": [
    "This code below is important as our models get bigger: this is wrapping the pytorch data loaders to put the data onto the GPU!"
   ]
  },
  {
   "cell_type": "markdown",
   "metadata": {},
   "source": [
    "# Week 3 Homework Submission"
   ]
  },
  {
   "cell_type": "markdown",
   "metadata": {},
   "source": [
    "Your homework (part 1) for this week is to try to train the model again but with a different architecture.  Change one or more of the following:\n",
    "\n",
    "- The number of convolutions between downsampling\n",
    "- The number of filters in each layer\n",
    "- The initial \"patchify\" layer\n",
    "- Another hyper-parameter of your choosing\n",
    "\n",
    "\n",
    "And compare your final validation accuracy to the accuracy shown here.  Can you beat the validation accuracy shown?\n",
    "\n",
    "For full credit on the homework, you need to show (via text, or make a plot) the training and validation data sets' performance (loss and accuracy) for all the epochs you train.  You also need to explain, in several sentences, what you changed in the network and why you think it makes a difference."
   ]
  },
  {
   "cell_type": "code",
   "execution_count": 1,
   "metadata": {},
   "outputs": [
    {
     "name": "stderr",
     "output_type": "stream",
     "text": [
      "/software/python-anaconda-2023.09-el8-x86_64/lib/python3.11/site-packages/torchvision/transforms/v2/_deprecated.py:41: UserWarning: The transform `ToTensor()` is deprecated and will be removed in a future release. Instead, please use `v2.Compose([v2.ToImage(), v2.ToDtype(torch.float32, scale=True)])`.\n",
      "  warnings.warn(\n"
     ]
    },
    {
     "name": "stdout",
     "output_type": "stream",
     "text": [
      "Files already downloaded and verified\n",
      "Files already downloaded and verified\n"
     ]
    },
    {
     "name": "stderr",
     "output_type": "stream",
     "text": [
      "/software/python-anaconda-2023.09-el8-x86_64/lib/python3.11/site-packages/torch/utils/data/dataloader.py:558: UserWarning: This DataLoader will create 4 worker processes in total. Our suggested max number of worker in current system is 1, which is smaller than what this DataLoader is going to create. Please be aware that excessive worker creation might get DataLoader running slow or even freeze, lower the worker number to avoid potential slowness/freeze if necessary.\n",
      "  warnings.warn(_create_warning_msg(\n"
     ]
    }
   ],
   "source": [
    "import torch\n",
    "from torch.utils.data import DataLoader, random_split\n",
    "import torchvision\n",
    "from torchvision.transforms import v2\n",
    "\n",
    "# Downloading and transforming training data with augmentation\n",
    "training_data = torchvision.datasets.CIFAR10(\n",
    "    root=\"data\",\n",
    "    train=True,\n",
    "    download=True,\n",
    "    transform=v2.Compose([\n",
    "        v2.ToTensor(),\n",
    "        v2.RandomHorizontalFlip(),\n",
    "        v2.RandomResizedCrop(size=32, scale=[0.85, 1.0], antialias=False),\n",
    "        v2.ColorJitter(brightness=0.2, contrast=0.2, saturation=0.2),\n",
    "    ])\n",
    ")\n",
    "\n",
    "# Downloading and transforming test data\n",
    "test_data = torchvision.datasets.CIFAR10(\n",
    "    root=\"data\",\n",
    "    train=False,\n",
    "    download=True,\n",
    "    transform=v2.ToTensor()  # Direct transformation to tensor for test data\n",
    ")\n",
    "\n",
    "# Splitting training data into training and validation sets\n",
    "train_size = int(0.8 * len(training_data))\n",
    "val_size = len(training_data) - train_size\n",
    "training_data, validation_data = random_split(\n",
    "    training_data, [train_size, val_size],\n",
    "    generator=torch.Generator().manual_seed(55)  # Ensuring reproducibility\n",
    ")\n",
    "\n",
    "# Defining batch size for data loaders\n",
    "batch_size = 128\n",
    "\n",
    "# Optimizing DataLoader creation for faster loading times\n",
    "train_dataloader = DataLoader(\n",
    "    training_data,\n",
    "    batch_size=batch_size,\n",
    "    pin_memory=True,  # Speeds up data transfer to GPU\n",
    "    shuffle=True,     # Shuffling training data\n",
    "    num_workers=4     # Parallelizing data loading\n",
    ")\n",
    "\n",
    "val_dataloader = DataLoader(\n",
    "    validation_data,\n",
    "    batch_size=batch_size,\n",
    "    pin_memory=True,\n",
    "    shuffle=False,    # No need to shuffle validation data\n",
    "    num_workers=4\n",
    ")"
   ]
  },
  {
   "cell_type": "code",
   "execution_count": 2,
   "metadata": {},
   "outputs": [
    {
     "name": "stderr",
     "output_type": "stream",
     "text": [
      "/software/python-anaconda-2023.09-el8-x86_64/lib/python3.11/site-packages/torch/utils/data/dataloader.py:558: UserWarning: This DataLoader will create 4 worker processes in total. Our suggested max number of worker in current system is 1, which is smaller than what this DataLoader is going to create. Please be aware that excessive worker creation might get DataLoader running slow or even freeze, lower the worker number to avoid potential slowness/freeze if necessary.\n",
      "  warnings.warn(_create_warning_msg(\n"
     ]
    },
    {
     "data": {
      "image/png": "[encoded data removed]",
      "text/plain": [
       "<Figure size 640x480 with 1 Axes>"
      ]
     },
     "metadata": {},
     "output_type": "display_data"
    }
   ],
   "source": [
    "from matplotlib import pyplot as plt\n",
    "%matplotlib inline\n",
    "\n",
    "batch, (X, Y) = next(enumerate(train_dataloader))\n",
    "plt.imshow(X[0].cpu().permute((1,2,0))); plt.show()"
   ]
  },
  {
   "cell_type": "code",
   "execution_count": 3,
   "metadata": {},
   "outputs": [],
   "source": [
    "dev = torch.device(\n",
    "    \"cuda\") if torch.cuda.is_available() else torch.device(\"cpu\")\n",
    "\n",
    "\n",
    "def preprocess(x, y):\n",
    "    # CIFAR-10 is *color* images so 3 layers!\n",
    "    return x.view(-1, 3, 32, 32).to(dev), y.to(dev)\n",
    "\n",
    "\n",
    "class WrappedDataLoader:\n",
    "    def __init__(self, dl, func):\n",
    "        self.dl = dl\n",
    "        self.func = func\n",
    "\n",
    "    def __len__(self):\n",
    "        return len(self.dl)\n",
    "\n",
    "    def __iter__(self):\n",
    "        for b in self.dl:\n",
    "            yield (self.func(*b))\n",
    "\n",
    "\n",
    "train_dataloader = WrappedDataLoader(train_dataloader, preprocess)\n",
    "val_dataloader = WrappedDataLoader(val_dataloader, preprocess)"
   ]
  },
  {
   "cell_type": "code",
   "execution_count": 4,
   "metadata": {},
   "outputs": [],
   "source": [
    "from torch import nn\n",
    "import torch\n",
    "\n",
    "\n",
    "class Downsampler(nn.Module):\n",
    "    def __init__(self, in_channels, out_channels, stride=2):\n",
    "        super(Downsampler, self).__init__()\n",
    "\n",
    "        self.norm = nn.BatchNorm2d(in_channels)  # Better for conv layers than LayerNorm\n",
    "        self.downsample = nn.Conv2d(\n",
    "            in_channels=in_channels,\n",
    "            out_channels=out_channels,\n",
    "            kernel_size=stride,\n",
    "            stride=stride,\n",
    "        )\n",
    "\n",
    "    def forward(self, inputs):\n",
    "        return self.downsample(self.norm(inputs))\n",
    "\n",
    "\n",
    "class ConvNextBlock(nn.Module):\n",
    "    def __init__(self, in_channels):\n",
    "        super(ConvNextBlock, self).__init__()\n",
    "\n",
    "        self.conv1 = nn.Conv2d(in_channels, in_channels, kernel_size=5, padding=2, groups=in_channels)\n",
    "        self.norm = nn.BatchNorm2d(in_channels)\n",
    "        self.conv2 = nn.Conv2d(in_channels, 4 * in_channels, kernel_size=1)\n",
    "        self.conv3 = nn.Conv2d(4 * in_channels, in_channels, kernel_size=1)\n",
    "        self.dropout = nn.Dropout(p=0.5)\n",
    "\n",
    "    def forward(self, inputs):\n",
    "        x = self.conv1(inputs)\n",
    "        x = self.norm(x)\n",
    "        x = self.conv2(x)\n",
    "        x = self.conv3(x)\n",
    "        x = nn.functional.gelu(x)\n",
    "        x = self.dropout(x)\n",
    "        return x + inputs  # Residual connection\n",
    "\n",
    "\n",
    "class Classifier(nn.Module):\n",
    "    def __init__(self, n_initial_filters, n_stages, blocks_per_stage):\n",
    "        super(Classifier, self).__init__()\n",
    "\n",
    "        self.stem = nn.Conv2d(in_channels=3, out_channels=n_initial_filters, kernel_size=1, stride=1)\n",
    "        self.norm1 = nn.BatchNorm2d(n_initial_filters)\n",
    "\n",
    "        current_n_filters = n_initial_filters\n",
    "        layers = []\n",
    "\n",
    "        for i in range(n_stages):\n",
    "            for _ in range(blocks_per_stage):\n",
    "                layers.append(ConvNextBlock(in_channels=current_n_filters))\n",
    "\n",
    "            if i != n_stages - 1:\n",
    "                layers.append(Downsampler(in_channels=current_n_filters, out_channels=2 * current_n_filters))\n",
    "                current_n_filters *= 2  # Double the number of filters\n",
    "\n",
    "        self.layers = nn.Sequential(*layers)\n",
    "\n",
    "        self.head = nn.Sequential(\n",
    "            nn.Flatten(),\n",
    "            nn.BatchNorm1d(current_n_filters),\n",
    "            nn.ReLU(),\n",
    "            nn.Dropout(p=0.5),\n",
    "            nn.Linear(current_n_filters, 128),\n",
    "            nn.ReLU(),\n",
    "            nn.Dropout(p=0.5),\n",
    "            nn.Linear(128, 10)\n",
    "        )\n",
    "\n",
    "    def forward(self, inputs):\n",
    "        x = self.stem(inputs)\n",
    "        x = self.norm1(x)\n",
    "        x = self.layers(x)\n",
    "        x = nn.functional.avg_pool2d(x, kernel_size=x.shape[2:])\n",
    "        x = self.head(x)\n",
    "        return x"
   ]
  },
  {
   "cell_type": "code",
   "execution_count": 5,
   "metadata": {},
   "outputs": [
    {
     "name": "stdout",
     "output_type": "stream",
     "text": [
      "==========================================================================================\n",
      "Layer (type:depth-idx)                   Output Shape              Param #\n",
      "==========================================================================================\n",
      "Classifier                               [128, 10]                 --\n",
      "├─Conv2d: 1-1                            [128, 64, 32, 32]         256\n",
      "├─BatchNorm2d: 1-2                       [128, 64, 32, 32]         128\n",
      "├─Sequential: 1-3                        [128, 256, 8, 8]          --\n",
      "│    └─ConvNextBlock: 2-1                [128, 64, 32, 32]         --\n",
      "│    │    └─Conv2d: 3-1                  [128, 64, 32, 32]         1,664\n",
      "│    │    └─BatchNorm2d: 3-2             [128, 64, 32, 32]         128\n",
      "│    │    └─Conv2d: 3-3                  [128, 256, 32, 32]        16,640\n",
      "│    │    └─Conv2d: 3-4                  [128, 64, 32, 32]         16,448\n",
      "│    │    └─Dropout: 3-5                 [128, 64, 32, 32]         --\n",
      "│    └─ConvNextBlock: 2-2                [128, 64, 32, 32]         --\n",
      "│    │    └─Conv2d: 3-6                  [128, 64, 32, 32]         1,664\n",
      "│    │    └─BatchNorm2d: 3-7             [128, 64, 32, 32]         128\n",
      "│    │    └─Conv2d: 3-8                  [128, 256, 32, 32]        16,640\n",
      "│    │    └─Conv2d: 3-9                  [128, 64, 32, 32]         16,448\n",
      "│    │    └─Dropout: 3-10                [128, 64, 32, 32]         --\n",
      "│    └─Downsampler: 2-3                  [128, 128, 16, 16]        --\n",
      "│    │    └─BatchNorm2d: 3-11            [128, 64, 32, 32]         128\n",
      "│    │    └─Conv2d: 3-12                 [128, 128, 16, 16]        32,896\n",
      "│    └─ConvNextBlock: 2-4                [128, 128, 16, 16]        --\n",
      "│    │    └─Conv2d: 3-13                 [128, 128, 16, 16]        3,328\n",
      "│    │    └─BatchNorm2d: 3-14            [128, 128, 16, 16]        256\n",
      "│    │    └─Conv2d: 3-15                 [128, 512, 16, 16]        66,048\n",
      "│    │    └─Conv2d: 3-16                 [128, 128, 16, 16]        65,664\n",
      "│    │    └─Dropout: 3-17                [128, 128, 16, 16]        --\n",
      "│    └─ConvNextBlock: 2-5                [128, 128, 16, 16]        --\n",
      "│    │    └─Conv2d: 3-18                 [128, 128, 16, 16]        3,328\n",
      "│    │    └─BatchNorm2d: 3-19            [128, 128, 16, 16]        256\n",
      "│    │    └─Conv2d: 3-20                 [128, 512, 16, 16]        66,048\n",
      "│    │    └─Conv2d: 3-21                 [128, 128, 16, 16]        65,664\n",
      "│    │    └─Dropout: 3-22                [128, 128, 16, 16]        --\n",
      "│    └─Downsampler: 2-6                  [128, 256, 8, 8]          --\n",
      "│    │    └─BatchNorm2d: 3-23            [128, 128, 16, 16]        256\n",
      "│    │    └─Conv2d: 3-24                 [128, 256, 8, 8]          131,328\n",
      "│    └─ConvNextBlock: 2-7                [128, 256, 8, 8]          --\n",
      "│    │    └─Conv2d: 3-25                 [128, 256, 8, 8]          6,656\n",
      "│    │    └─BatchNorm2d: 3-26            [128, 256, 8, 8]          512\n",
      "│    │    └─Conv2d: 3-27                 [128, 1024, 8, 8]         263,168\n",
      "│    │    └─Conv2d: 3-28                 [128, 256, 8, 8]          262,400\n",
      "│    │    └─Dropout: 3-29                [128, 256, 8, 8]          --\n",
      "│    └─ConvNextBlock: 2-8                [128, 256, 8, 8]          --\n",
      "│    │    └─Conv2d: 3-30                 [128, 256, 8, 8]          6,656\n",
      "│    │    └─BatchNorm2d: 3-31            [128, 256, 8, 8]          512\n",
      "│    │    └─Conv2d: 3-32                 [128, 1024, 8, 8]         263,168\n",
      "│    │    └─Conv2d: 3-33                 [128, 256, 8, 8]          262,400\n",
      "│    │    └─Dropout: 3-34                [128, 256, 8, 8]          --\n",
      "├─Sequential: 1-4                        [128, 10]                 --\n",
      "│    └─Flatten: 2-9                      [128, 256]                --\n",
      "│    └─BatchNorm1d: 2-10                 [128, 256]                512\n",
      "│    └─ReLU: 2-11                        [128, 256]                --\n",
      "│    └─Dropout: 2-12                     [128, 256]                --\n",
      "│    └─Linear: 2-13                      [128, 128]                32,896\n",
      "│    └─ReLU: 2-14                        [128, 128]                --\n",
      "│    └─Dropout: 2-15                     [128, 128]                --\n",
      "│    └─Linear: 2-16                      [128, 10]                 1,290\n",
      "==========================================================================================\n",
      "Total params: 1,605,514\n",
      "Trainable params: 1,605,514\n",
      "Non-trainable params: 0\n",
      "Total mult-adds (Units.GIGABYTES): 28.87\n",
      "==========================================================================================\n",
      "Input size (MB): 1.57\n",
      "Forward/backward pass size (MB): 1929.78\n",
      "Params size (MB): 6.42\n",
      "Estimated Total Size (MB): 1937.78\n",
      "==========================================================================================\n"
     ]
    }
   ],
   "source": [
    "model = Classifier(64, 3, 2)\n",
    "\n",
    "model.cuda()\n",
    "\n",
    "from torchinfo import summary\n",
    "\n",
    "print(summary(model, input_size=(batch_size, 3, 32, 32)))"
   ]
  },
  {
   "cell_type": "code",
   "execution_count": 6,
   "metadata": {},
   "outputs": [],
   "source": [
    "def evaluate(dataloader, model, loss_fn, val_bar):\n",
    "    # Set the model to evaluation mode - some NN pieces behave differently during training\n",
    "    # Unnecessary in this situation but added for best practices\n",
    "    model.eval()\n",
    "    size = len(dataloader)\n",
    "    num_batches = len(dataloader)\n",
    "    loss, correct = 0, 0\n",
    "\n",
    "    # We can save computation and memory by not calculating gradients here - we aren't optimizing\n",
    "    with torch.no_grad():\n",
    "        # loop over all of the batches\n",
    "        for X, y in dataloader:\n",
    "\n",
    "            pred = model(X)\n",
    "            loss += loss_fn(pred, y).item()\n",
    "            # how many are correct in this batch? Tracking for accuracy\n",
    "            correct += (pred.argmax(1) == y).type(torch.float).sum().item()\n",
    "            val_bar.update()\n",
    "\n",
    "    loss /= num_batches\n",
    "    correct /= (size*batch_size)\n",
    "\n",
    "    accuracy = 100*correct\n",
    "    return accuracy, loss"
   ]
  },
  {
   "cell_type": "code",
   "execution_count": 7,
   "metadata": {},
   "outputs": [],
   "source": [
    "def train_one_epoch(dataloader, model, loss_fn, optimizer, progress_bar):\n",
    "    # Set model to training mode\n",
    "    model.train()\n",
    "\n",
    "    # Loop over batches\n",
    "    for batch, (X, y) in enumerate(dataloader):\n",
    "        # Forward pass: compute predictions and loss\n",
    "        pred = model(X)\n",
    "        loss = loss_fn(pred, y)\n",
    "\n",
    "        # Backward pass: compute gradients and update parameters\n",
    "        optimizer.zero_grad()  # Reset gradients before the backward pass\n",
    "        loss.backward()  # Compute gradients\n",
    "        optimizer.step()  # Update model parameters\n",
    "\n",
    "        # Update the progress bar\n",
    "        progress_bar.update()"
   ]
  },
  {
   "cell_type": "code",
   "execution_count": 8,
   "metadata": {},
   "outputs": [],
   "source": [
    "loss_fn = nn.CrossEntropyLoss()\n",
    "optimizer = torch.optim.AdamW(model.parameters(), lr=0.001, weight_decay=0.01)"
   ]
  },
  {
   "cell_type": "code",
   "execution_count": null,
   "metadata": {},
   "outputs": [
    {
     "data": {
      "application/vnd.jupyter.widget-view+json": {
       "model_id": "2f95e52ac43f467490660d37de92635e",
       "version_major": 2,
       "version_minor": 0
      },
      "text/plain": [
       "Train Epoch 1/40:   0%|          | 0/313 [00:00<?, ?it/s]"
      ]
     },
     "metadata": {},
     "output_type": "display_data"
    },
    {
     "data": {
      "application/vnd.jupyter.widget-view+json": {
       "model_id": "71820375f96b42a0a6a654b1a22050bc",
       "version_major": 2,
       "version_minor": 0
      },
      "text/plain": [
       "Evaluate (Train) Epoch 1/40:   0%|          | 0/313 [00:00<?, ?it/s]"
      ]
     },
     "metadata": {},
     "output_type": "display_data"
    },
    {
     "name": "stdout",
     "output_type": "stream",
     "text": [
      "Epoch 1/40: Train Loss: 1.402, Train Accuracy: 48.415%\n"
     ]
    },
    {
     "data": {
      "application/vnd.jupyter.widget-view+json": {
       "model_id": "d75f6f0eac2e4a419d9692f4426a6832",
       "version_major": 2,
       "version_minor": 0
      },
      "text/plain": [
       "Validate Epoch 1/40:   0%|          | 0/79 [00:00<?, ?it/s]"
      ]
     },
     "metadata": {},
     "output_type": "display_data"
    },
    {
     "name": "stdout",
     "output_type": "stream",
     "text": [
      "Epoch 1/40: Validation Loss: 1.381, Validation Accuracy: 48.655%\n"
     ]
    },
    {
     "data": {
      "application/vnd.jupyter.widget-view+json": {
       "model_id": "f24de035440e441fad904328741b010f",
       "version_major": 2,
       "version_minor": 0
      },
      "text/plain": [
       "Train Epoch 2/40:   0%|          | 0/313 [00:00<?, ?it/s]"
      ]
     },
     "metadata": {},
     "output_type": "display_data"
    },
    {
     "data": {
      "application/vnd.jupyter.widget-view+json": {
       "model_id": "1c6df97edb30446bae036866fc9eb10a",
       "version_major": 2,
       "version_minor": 0
      },
      "text/plain": [
       "Evaluate (Train) Epoch 2/40:   0%|          | 0/313 [00:00<?, ?it/s]"
      ]
     },
     "metadata": {},
     "output_type": "display_data"
    },
    {
     "name": "stdout",
     "output_type": "stream",
     "text": [
      "Epoch 2/40: Train Loss: 1.163, Train Accuracy: 57.758%\n"
     ]
    },
    {
     "data": {
      "application/vnd.jupyter.widget-view+json": {
       "model_id": "024db18350814a1185d4a8132f5c50c7",
       "version_major": 2,
       "version_minor": 0
      },
      "text/plain": [
       "Validate Epoch 2/40:   0%|          | 0/79 [00:00<?, ?it/s]"
      ]
     },
     "metadata": {},
     "output_type": "display_data"
    },
    {
     "name": "stdout",
     "output_type": "stream",
     "text": [
      "Epoch 2/40: Validation Loss: 1.162, Validation Accuracy: 57.437%\n"
     ]
    },
    {
     "data": {
      "application/vnd.jupyter.widget-view+json": {
       "model_id": "a62c19bce2ad4541a7a911884b603fb6",
       "version_major": 2,
       "version_minor": 0
      },
      "text/plain": [
       "Train Epoch 3/40:   0%|          | 0/313 [00:00<?, ?it/s]"
      ]
     },
     "metadata": {},
     "output_type": "display_data"
    },
    {
     "data": {
      "application/vnd.jupyter.widget-view+json": {
       "model_id": "a653f6df8d574c508a3a6c5b6bf9cbdd",
       "version_major": 2,
       "version_minor": 0
      },
      "text/plain": [
       "Evaluate (Train) Epoch 3/40:   0%|          | 0/313 [00:00<?, ?it/s]"
      ]
     },
     "metadata": {},
     "output_type": "display_data"
    },
    {
     "name": "stdout",
     "output_type": "stream",
     "text": [
      "Epoch 3/40: Train Loss: 1.006, Train Accuracy: 63.770%\n"
     ]
    },
    {
     "data": {
      "application/vnd.jupyter.widget-view+json": {
       "model_id": "62a84f0de4934f51a0c3dae8a2851c01",
       "version_major": 2,
       "version_minor": 0
      },
      "text/plain": [
       "Validate Epoch 3/40:   0%|          | 0/79 [00:00<?, ?it/s]"
      ]
     },
     "metadata": {},
     "output_type": "display_data"
    },
    {
     "name": "stdout",
     "output_type": "stream",
     "text": [
      "Epoch 3/40: Validation Loss: 1.019, Validation Accuracy: 62.559%\n"
     ]
    },
    {
     "data": {
      "application/vnd.jupyter.widget-view+json": {
       "model_id": "b1630df5a59d44d38d7471d57c1cae96",
       "version_major": 2,
       "version_minor": 0
      },
      "text/plain": [
       "Train Epoch 4/40:   0%|          | 0/313 [00:00<?, ?it/s]"
      ]
     },
     "metadata": {},
     "output_type": "display_data"
    },
    {
     "data": {
      "application/vnd.jupyter.widget-view+json": {
       "model_id": "585efcd8d79d488caf23f997e309f4db",
       "version_major": 2,
       "version_minor": 0
      },
      "text/plain": [
       "Evaluate (Train) Epoch 4/40:   0%|          | 0/313 [00:00<?, ?it/s]"
      ]
     },
     "metadata": {},
     "output_type": "display_data"
    },
    {
     "name": "stdout",
     "output_type": "stream",
     "text": [
      "Epoch 4/40: Train Loss: 0.949, Train Accuracy: 66.039%\n"
     ]
    },
    {
     "data": {
      "application/vnd.jupyter.widget-view+json": {
       "model_id": "d11fd6bc01284f98b93675e113a95eda",
       "version_major": 2,
       "version_minor": 0
      },
      "text/plain": [
       "Validate Epoch 4/40:   0%|          | 0/79 [00:00<?, ?it/s]"
      ]
     },
     "metadata": {},
     "output_type": "display_data"
    },
    {
     "name": "stdout",
     "output_type": "stream",
     "text": [
      "Epoch 4/40: Validation Loss: 0.957, Validation Accuracy: 64.616%\n"
     ]
    },
    {
     "data": {
      "application/vnd.jupyter.widget-view+json": {
       "model_id": "17075ef2dde544e88adc4579b5864e5e",
       "version_major": 2,
       "version_minor": 0
      },
      "text/plain": [
       "Train Epoch 5/40:   0%|          | 0/313 [00:00<?, ?it/s]"
      ]
     },
     "metadata": {},
     "output_type": "display_data"
    },
    {
     "data": {
      "application/vnd.jupyter.widget-view+json": {
       "model_id": "b9c653b7b3b1420b86987e5011e18687",
       "version_major": 2,
       "version_minor": 0
      },
      "text/plain": [
       "Evaluate (Train) Epoch 5/40:   0%|          | 0/313 [00:00<?, ?it/s]"
      ]
     },
     "metadata": {},
     "output_type": "display_data"
    },
    {
     "name": "stdout",
     "output_type": "stream",
     "text": [
      "Epoch 5/40: Train Loss: 0.859, Train Accuracy: 69.594%\n"
     ]
    },
    {
     "data": {
      "application/vnd.jupyter.widget-view+json": {
       "model_id": "f5494df7f18e47ef90c71c52eb6dc5cf",
       "version_major": 2,
       "version_minor": 0
      },
      "text/plain": [
       "Validate Epoch 5/40:   0%|          | 0/79 [00:00<?, ?it/s]"
      ]
     },
     "metadata": {},
     "output_type": "display_data"
    },
    {
     "name": "stdout",
     "output_type": "stream",
     "text": [
      "Epoch 5/40: Validation Loss: 0.877, Validation Accuracy: 68.374%\n"
     ]
    },
    {
     "data": {
      "application/vnd.jupyter.widget-view+json": {
       "model_id": "227fb238c5714b0ea080a7ce4271dc31",
       "version_major": 2,
       "version_minor": 0
      },
      "text/plain": [
       "Train Epoch 6/40:   0%|          | 0/313 [00:00<?, ?it/s]"
      ]
     },
     "metadata": {},
     "output_type": "display_data"
    },
    {
     "data": {
      "application/vnd.jupyter.widget-view+json": {
       "model_id": "6e468fa3f4884e6c8166f6f80051b7ff",
       "version_major": 2,
       "version_minor": 0
      },
      "text/plain": [
       "Evaluate (Train) Epoch 6/40:   0%|          | 0/313 [00:00<?, ?it/s]"
      ]
     },
     "metadata": {},
     "output_type": "display_data"
    },
    {
     "name": "stdout",
     "output_type": "stream",
     "text": [
      "Epoch 6/40: Train Loss: 0.804, Train Accuracy: 71.610%\n"
     ]
    },
    {
     "data": {
      "application/vnd.jupyter.widget-view+json": {
       "model_id": "135ecdc5ed724352b02989cd7e4f8d07",
       "version_major": 2,
       "version_minor": 0
      },
      "text/plain": [
       "Validate Epoch 6/40:   0%|          | 0/79 [00:00<?, ?it/s]"
      ]
     },
     "metadata": {},
     "output_type": "display_data"
    },
    {
     "name": "stdout",
     "output_type": "stream",
     "text": [
      "Epoch 6/40: Validation Loss: 0.830, Validation Accuracy: 69.699%\n"
     ]
    },
    {
     "data": {
      "application/vnd.jupyter.widget-view+json": {
       "model_id": "3ca2399650794b63becedeb2f87f8ff4",
       "version_major": 2,
       "version_minor": 0
      },
      "text/plain": [
       "Train Epoch 7/40:   0%|          | 0/313 [00:00<?, ?it/s]"
      ]
     },
     "metadata": {},
     "output_type": "display_data"
    },
    {
     "data": {
      "application/vnd.jupyter.widget-view+json": {
       "model_id": "50d609084d684a0994b4e976345f693d",
       "version_major": 2,
       "version_minor": 0
      },
      "text/plain": [
       "Evaluate (Train) Epoch 7/40:   0%|          | 0/313 [00:00<?, ?it/s]"
      ]
     },
     "metadata": {},
     "output_type": "display_data"
    },
    {
     "name": "stdout",
     "output_type": "stream",
     "text": [
      "Epoch 7/40: Train Loss: 0.787, Train Accuracy: 71.546%\n"
     ]
    },
    {
     "data": {
      "application/vnd.jupyter.widget-view+json": {
       "model_id": "fbc3c81b3f124d6388f747875bc4aa6d",
       "version_major": 2,
       "version_minor": 0
      },
      "text/plain": [
       "Validate Epoch 7/40:   0%|          | 0/79 [00:00<?, ?it/s]"
      ]
     },
     "metadata": {},
     "output_type": "display_data"
    },
    {
     "name": "stdout",
     "output_type": "stream",
     "text": [
      "Epoch 7/40: Validation Loss: 0.802, Validation Accuracy: 70.303%\n"
     ]
    },
    {
     "data": {
      "application/vnd.jupyter.widget-view+json": {
       "model_id": "2ab45c9011eb4cb3ae2e3242b9246d56",
       "version_major": 2,
       "version_minor": 0
      },
      "text/plain": [
       "Train Epoch 8/40:   0%|          | 0/313 [00:00<?, ?it/s]"
      ]
     },
     "metadata": {},
     "output_type": "display_data"
    },
    {
     "data": {
      "application/vnd.jupyter.widget-view+json": {
       "model_id": "10ef61f21a034550b080ef2eb4c13033",
       "version_major": 2,
       "version_minor": 0
      },
      "text/plain": [
       "Evaluate (Train) Epoch 8/40:   0%|          | 0/313 [00:00<?, ?it/s]"
      ]
     },
     "metadata": {},
     "output_type": "display_data"
    },
    {
     "name": "stdout",
     "output_type": "stream",
     "text": [
      "Epoch 8/40: Train Loss: 0.703, Train Accuracy: 74.798%\n"
     ]
    },
    {
     "data": {
      "application/vnd.jupyter.widget-view+json": {
       "model_id": "4e6d18328f604e52be1276f3d4c4e2a0",
       "version_major": 2,
       "version_minor": 0
      },
      "text/plain": [
       "Validate Epoch 8/40:   0%|          | 0/79 [00:00<?, ?it/s]"
      ]
     },
     "metadata": {},
     "output_type": "display_data"
    },
    {
     "name": "stdout",
     "output_type": "stream",
     "text": [
      "Epoch 8/40: Validation Loss: 0.728, Validation Accuracy: 73.339%\n"
     ]
    },
    {
     "data": {
      "application/vnd.jupyter.widget-view+json": {
       "model_id": "0f8d4c72f4304bb2805315f74a00a399",
       "version_major": 2,
       "version_minor": 0
      },
      "text/plain": [
       "Train Epoch 9/40:   0%|          | 0/313 [00:00<?, ?it/s]"
      ]
     },
     "metadata": {},
     "output_type": "display_data"
    },
    {
     "data": {
      "application/vnd.jupyter.widget-view+json": {
       "model_id": "96ca3228bab045d4a99ca81078afafbb",
       "version_major": 2,
       "version_minor": 0
      },
      "text/plain": [
       "Evaluate (Train) Epoch 9/40:   0%|          | 0/313 [00:00<?, ?it/s]"
      ]
     },
     "metadata": {},
     "output_type": "display_data"
    },
    {
     "name": "stdout",
     "output_type": "stream",
     "text": [
      "Epoch 9/40: Train Loss: 0.706, Train Accuracy: 75.372%\n"
     ]
    },
    {
     "data": {
      "application/vnd.jupyter.widget-view+json": {
       "model_id": "81cf55046ad64c148871d4812112185b",
       "version_major": 2,
       "version_minor": 0
      },
      "text/plain": [
       "Validate Epoch 9/40:   0%|          | 0/79 [00:00<?, ?it/s]"
      ]
     },
     "metadata": {},
     "output_type": "display_data"
    },
    {
     "name": "stdout",
     "output_type": "stream",
     "text": [
      "Epoch 9/40: Validation Loss: 0.732, Validation Accuracy: 73.447%\n"
     ]
    },
    {
     "data": {
      "application/vnd.jupyter.widget-view+json": {
       "model_id": "9bcc2416b3e94f28b5e968bcc5e50103",
       "version_major": 2,
       "version_minor": 0
      },
      "text/plain": [
       "Train Epoch 10/40:   0%|          | 0/313 [00:00<?, ?it/s]"
      ]
     },
     "metadata": {},
     "output_type": "display_data"
    },
    {
     "data": {
      "application/vnd.jupyter.widget-view+json": {
       "model_id": "f677fe551fca4ea2aa526ae5037e9340",
       "version_major": 2,
       "version_minor": 0
      },
      "text/plain": [
       "Evaluate (Train) Epoch 10/40:   0%|          | 0/313 [00:00<?, ?it/s]"
      ]
     },
     "metadata": {},
     "output_type": "display_data"
    },
    {
     "name": "stdout",
     "output_type": "stream",
     "text": [
      "Epoch 10/40: Train Loss: 0.655, Train Accuracy: 76.820%\n"
     ]
    },
    {
     "data": {
      "application/vnd.jupyter.widget-view+json": {
       "model_id": "848078536b4b4a3c8b9754265dcf9e3c",
       "version_major": 2,
       "version_minor": 0
      },
      "text/plain": [
       "Validate Epoch 10/40:   0%|          | 0/79 [00:00<?, ?it/s]"
      ]
     },
     "metadata": {},
     "output_type": "display_data"
    },
    {
     "name": "stdout",
     "output_type": "stream",
     "text": [
      "Epoch 10/40: Validation Loss: 0.695, Validation Accuracy: 74.634%\n"
     ]
    },
    {
     "data": {
      "application/vnd.jupyter.widget-view+json": {
       "model_id": "6bb2e74ced5c4c42965210977305d723",
       "version_major": 2,
       "version_minor": 0
      },
      "text/plain": [
       "Train Epoch 11/40:   0%|          | 0/313 [00:00<?, ?it/s]"
      ]
     },
     "metadata": {},
     "output_type": "display_data"
    },
    {
     "data": {
      "application/vnd.jupyter.widget-view+json": {
       "model_id": "b719cf5fa714494baf930d19d80fbf2d",
       "version_major": 2,
       "version_minor": 0
      },
      "text/plain": [
       "Evaluate (Train) Epoch 11/40:   0%|          | 0/313 [00:00<?, ?it/s]"
      ]
     },
     "metadata": {},
     "output_type": "display_data"
    },
    {
     "name": "stdout",
     "output_type": "stream",
     "text": [
      "Epoch 11/40: Train Loss: 0.602, Train Accuracy: 79.166%\n"
     ]
    },
    {
     "data": {
      "application/vnd.jupyter.widget-view+json": {
       "model_id": "2a3c15594250435589599f903c70d89e",
       "version_major": 2,
       "version_minor": 0
      },
      "text/plain": [
       "Validate Epoch 11/40:   0%|          | 0/79 [00:00<?, ?it/s]"
      ]
     },
     "metadata": {},
     "output_type": "display_data"
    },
    {
     "name": "stdout",
     "output_type": "stream",
     "text": [
      "Epoch 11/40: Validation Loss: 0.649, Validation Accuracy: 77.027%\n"
     ]
    },
    {
     "data": {
      "application/vnd.jupyter.widget-view+json": {
       "model_id": "d5d6bf3a10da49ad9511af605de198b3",
       "version_major": 2,
       "version_minor": 0
      },
      "text/plain": [
       "Train Epoch 12/40:   0%|          | 0/313 [00:00<?, ?it/s]"
      ]
     },
     "metadata": {},
     "output_type": "display_data"
    },
    {
     "data": {
      "application/vnd.jupyter.widget-view+json": {
       "model_id": "f61de3984c224696a9215a6a925f5942",
       "version_major": 2,
       "version_minor": 0
      },
      "text/plain": [
       "Evaluate (Train) Epoch 12/40:   0%|          | 0/313 [00:00<?, ?it/s]"
      ]
     },
     "metadata": {},
     "output_type": "display_data"
    },
    {
     "name": "stdout",
     "output_type": "stream",
     "text": [
      "Epoch 12/40: Train Loss: 0.594, Train Accuracy: 79.263%\n"
     ]
    },
    {
     "data": {
      "application/vnd.jupyter.widget-view+json": {
       "model_id": "638a012d0f834c5d8f2ea247878c30bc",
       "version_major": 2,
       "version_minor": 0
      },
      "text/plain": [
       "Validate Epoch 12/40:   0%|          | 0/79 [00:00<?, ?it/s]"
      ]
     },
     "metadata": {},
     "output_type": "display_data"
    },
    {
     "name": "stdout",
     "output_type": "stream",
     "text": [
      "Epoch 12/40: Validation Loss: 0.633, Validation Accuracy: 77.265%\n"
     ]
    },
    {
     "data": {
      "application/vnd.jupyter.widget-view+json": {
       "model_id": "b944ee052f0446839bdd4105bbc3256f",
       "version_major": 2,
       "version_minor": 0
      },
      "text/plain": [
       "Train Epoch 13/40:   0%|          | 0/313 [00:00<?, ?it/s]"
      ]
     },
     "metadata": {},
     "output_type": "display_data"
    },
    {
     "data": {
      "application/vnd.jupyter.widget-view+json": {
       "model_id": "4cc08793f1444f2094b898dc984935fe",
       "version_major": 2,
       "version_minor": 0
      },
      "text/plain": [
       "Evaluate (Train) Epoch 13/40:   0%|          | 0/313 [00:00<?, ?it/s]"
      ]
     },
     "metadata": {},
     "output_type": "display_data"
    },
    {
     "name": "stdout",
     "output_type": "stream",
     "text": [
      "Epoch 13/40: Train Loss: 0.568, Train Accuracy: 80.174%\n"
     ]
    },
    {
     "data": {
      "application/vnd.jupyter.widget-view+json": {
       "model_id": "6552de64e6674cb087c24d395472002e",
       "version_major": 2,
       "version_minor": 0
      },
      "text/plain": [
       "Validate Epoch 13/40:   0%|          | 0/79 [00:00<?, ?it/s]"
      ]
     },
     "metadata": {},
     "output_type": "display_data"
    },
    {
     "name": "stdout",
     "output_type": "stream",
     "text": [
      "Epoch 13/40: Validation Loss: 0.605, Validation Accuracy: 78.491%\n"
     ]
    },
    {
     "data": {
      "application/vnd.jupyter.widget-view+json": {
       "model_id": "925594625e2b45d397545decda9a29a9",
       "version_major": 2,
       "version_minor": 0
      },
      "text/plain": [
       "Train Epoch 14/40:   0%|          | 0/313 [00:00<?, ?it/s]"
      ]
     },
     "metadata": {},
     "output_type": "display_data"
    }
   ],
   "source": [
    "# Define the number of epochs\n",
    "epochs = 40  # or any number of epochs you'd like to train for\n",
    "\n",
    "# Store results for plotting or analysis later\n",
    "train_loss = []\n",
    "train_accuracy = []\n",
    "val_loss = []\n",
    "val_accuracy = []\n",
    "\n",
    "# Training loop across epochs\n",
    "for epoch in range(epochs):\n",
    "    # Training phase\n",
    "    with tqdm(total=len(train_dataloader), position=0, leave=True, desc=f\"Train Epoch {epoch + 1}/{epochs}\") as train_bar:\n",
    "        train_one_epoch(train_dataloader, model, loss_fn, optimizer, train_bar)\n",
    "\n",
    "    # Evaluate on training data\n",
    "    with tqdm(total=len(train_dataloader), position=0, leave=True, desc=f\"Evaluate (Train) Epoch {epoch + 1}/{epochs}\") as train_eval_bar:\n",
    "        train_acc, train_loss_value = evaluate(train_dataloader, model, loss_fn, train_eval_bar)\n",
    "\n",
    "    print(f\"Epoch {epoch + 1}/{epochs}: Train Loss: {train_loss_value:.3f}, Train Accuracy: {train_acc:.3f}%\")\n",
    "    train_loss.append(train_loss_value)\n",
    "    train_accuracy.append(train_acc)\n",
    "\n",
    "    # Validation phase\n",
    "    with tqdm(total=len(val_dataloader), position=0, leave=True, desc=f\"Validate Epoch {epoch + 1}/{epochs}\") as val_bar:\n",
    "        val_acc, val_loss_value = evaluate(val_dataloader, model, loss_fn, val_bar)\n",
    "\n",
    "    print(f\"Epoch {epoch + 1}/{epochs}: Validation Loss: {val_loss_value:.3f}, Validation Accuracy: {val_acc:.3f}%\")\n",
    "    val_loss.append(val_loss_value)\n",
    "    val_accuracy.append(val_acc)"
   ]
  },
  {
   "cell_type": "code",
   "execution_count": null,
   "metadata": {},
   "outputs": [],
   "source": [
    "import matplotlib.pyplot as plt\n",
    "\n",
    "# After training and validation loops\n",
    "plt.figure(figsize=(10, 5))  # Optional: set figure size\n",
    "plt.plot(train_accuracy, label='Training Accuracy', marker='o')  # Optional: add marker\n",
    "plt.plot(val_accuracy, label='Validation Accuracy', marker='o')  # Optional: add marker\n",
    "plt.title('Accuracy per Epoch')\n",
    "plt.xlabel('Epoch')\n",
    "plt.ylabel('Accuracy (%)')\n",
    "plt.ylim(0, 100)  # Set y-axis limits to percentage\n",
    "plt.legend()\n",
    "plt.grid(True)  # Optional: add a grid for better readability\n",
    "plt.show()  # Display the plot"
   ]
  },
  {
   "cell_type": "code",
   "execution_count": null,
   "metadata": {},
   "outputs": [],
   "source": [
    "import matplotlib.pyplot as plt\n",
    "\n",
    "# After training and validation loops\n",
    "plt.figure(figsize=(10, 5))  # Optional: set figure size\n",
    "plt.plot(train_loss, label='Training Loss', marker='o')  # Optional: add marker\n",
    "plt.plot(val_loss, label='Validation Loss', marker='o')  # Optional: add marker\n",
    "plt.title('Loss per Epoch')\n",
    "plt.xlabel('Epoch')\n",
    "plt.ylabel('Loss')\n",
    "plt.ylim(0, max(max(train_loss), max(val_loss)) * 1.1)  # Adjust y-axis limit if needed\n",
    "plt.legend()\n",
    "plt.grid(True)  # Optional: add a grid for better readability\n",
    "plt.show()  # Display the plot"
   ]
  },
  {
   "cell_type": "markdown",
   "metadata": {},
   "source": [
    "After making some adjustments to the model, we achieved a validation accuracy of about 80%. Here’s what I changed:\n",
    "\n",
    "* Introduced an additional nn.Conv2d layer (layer 4).\n",
    "* Increased the number of dense layers.\n",
    "* Decreased the filter (kernel) size from 7 to 5, allowing the model to better capture finer details in the images.\n",
    "\n",
    "Initially, the model was experiencing overfitting, with training accuracy exceeding 90% while validation accuracy fell below 80%. To combat this, I implemented DropOut layers between the dense layers and raised the weight decay parameter to strengthen the impact of L2 Regularization."
   ]
  },
  {
   "cell_type": "markdown",
   "metadata": {},
   "source": [
    "### Some Other Points Regarding Optimization"
   ]
  },
  {
   "cell_type": "markdown",
   "metadata": {},
   "source": [
    "1.  pin_memory=True: Ensures faster transfer of batches from CPU to GPU by pinning memory.\n",
    "2.\tnum_workers=4: Leverages multiple CPU cores to load data in parallel for faster data loading.\n",
    "3.\tRandom Split Efficiency: Calculated the sizes of training and validation datasets explicitly.\n",
    "4.\tReproducibility: Used manual_seed for splitting the dataset to ensure the same split every time.\n",
    "5.\tCode Clarity: Grouped import statements and added comments for easier readability.\n",
    "6. Instead of passing shape (which can be inferred during runtime), we can use nn.GroupNorm or nn.BatchNorm2d in place of LayerNorm, as these are generally better suited for convolutional layers.\n",
    "7. Letting PyTorch manage the shape dynamically makes the code simpler and avoids hardcoding dimensions.\n",
    "8. Use functions from torch.nn.functional where possible to enhance flexibility (e.g., activation functions and padding).\n",
    "9. \tSwitched to BatchNorm2d for spatial data, as it’s better suited for convolutions.\n",
    "10. Removed shape tracking: This reduces complexity, as shapes can be handled dynamically during the forward pass.\n",
    "11. Used nn.functional where applicable for non-learnable operations like avg_pool2d.\n",
    "12. Using .sum() without the need to cast to float, which is more efficient.\n",
    "13. Passed batch_size explicitly instead of relying on a global variable.\n",
    "14. Moved optimizer.zero_grad() before loss.backward(). This is generally the preferred order to ensure gradients are cleared before computing the new ones.\n",
    "15. Changed j to epoch for better readability, and updated the range to start indexing from 1 for clarity during printing.\n",
    "16. Updated the desc parameter in tqdm to provide more meaningful epoch progress descriptions, making it clear which phase (training or validation) is running and the total number of epochs.\n",
    "17. Lists train_loss, train_accuracy, val_loss, and val_accuracy are updated consistently for both phases, ensuring correct storage for further analysis or visualization.\n",
    "18. position=0 and leave=True ensure proper display of progress bars without overlapping or disappearing.\n",
    "\n",
    "\n",
    " "
   ]
  },
  {
   "cell_type": "code",
   "execution_count": null,
   "metadata": {},
   "outputs": [],
   "source": []
  }
 ],
 "metadata": {
  "kernelspec": {
   "display_name": "Python 3",
   "language": "python",
   "name": "python3"
  },
  "language_info": {
   "codemirror_mode": {
    "name": "ipython",
    "version": 3
   },
   "file_extension": ".py",
   "mimetype": "text/x-python",
   "name": "python",
   "nbconvert_exporter": "python",
   "pygments_lexer": "ipython3",
   "version": "3.11.5"
  }
 },
 "nbformat": 4,
 "nbformat_minor": 4
}
