{
 "cells": [
  {
   "cell_type": "markdown",
   "id": "9f8bafa4",
   "metadata": {},
   "source": [
    "# Dataset Creation\n",
    "\n",
    "This code relies on data from a [Kaggle](https://www.kaggle.com/competitions/house-prices-advanced-regression-techniques/data?select=train.csv) that provides realestate data. We will extract the data for sale price vs floor area.\n"
   ]
  },
  {
   "cell_type": "code",
   "execution_count": 1,
   "id": "f3e657a2",
   "metadata": {},
   "outputs": [],
   "source": [
    "# going to use Pandas for easy handling of CSV files\n",
    "import pandas as pd"
   ]
  },
  {
   "cell_type": "code",
   "execution_count": 2,
   "id": "ed71c2b0",
   "metadata": {},
   "outputs": [
    {
     "name": "stdout",
     "output_type": "stream",
     "text": [
      "Index(['Id', 'MSSubClass', 'MSZoning', 'LotFrontage', 'LotArea', 'Street',\n",
      "       'Alley', 'LotShape', 'LandContour', 'Utilities', 'LotConfig',\n",
      "       'LandSlope', 'Neighborhood', 'Condition1', 'Condition2', 'BldgType',\n",
      "       'HouseStyle', 'OverallQual', 'OverallCond', 'YearBuilt', 'YearRemodAdd',\n",
      "       'RoofStyle', 'RoofMatl', 'Exterior1st', 'Exterior2nd', 'MasVnrType',\n",
      "       'MasVnrArea', 'ExterQual', 'ExterCond', 'Foundation', 'BsmtQual',\n",
      "       'BsmtCond', 'BsmtExposure', 'BsmtFinType1', 'BsmtFinSF1',\n",
      "       'BsmtFinType2', 'BsmtFinSF2', 'BsmtUnfSF', 'TotalBsmtSF', 'Heating',\n",
      "       'HeatingQC', 'CentralAir', 'Electrical', '1stFlrSF', '2ndFlrSF',\n",
      "       'LowQualFinSF', 'GrLivArea', 'BsmtFullBath', 'BsmtHalfBath', 'FullBath',\n",
      "       'HalfBath', 'BedroomAbvGr', 'KitchenAbvGr', 'KitchenQual',\n",
      "       'TotRmsAbvGrd', 'Functional', 'Fireplaces', 'FireplaceQu', 'GarageType',\n",
      "       'GarageYrBlt', 'GarageFinish', 'GarageCars', 'GarageArea', 'GarageQual',\n",
      "       'GarageCond', 'PavedDrive', 'WoodDeckSF', 'OpenPorchSF',\n",
      "       'EnclosedPorch', '3SsnPorch', 'ScreenPorch', 'PoolArea', 'PoolQC',\n",
      "       'Fence', 'MiscFeature', 'MiscVal', 'MoSold', 'YrSold', 'SaleType',\n",
      "       'SaleCondition', 'SalePrice'],\n",
      "      dtype='object')\n"
     ]
    }
   ],
   "source": [
    "# downloaded data from: \n",
    "# https://www.kaggle.com/competitions/house-prices-advanced-regression-techniques/data?select=train.csv\n",
    "df = pd.read_csv('realestate_data.csv')\n",
    "# print the columns\n",
    "print(df.columns)"
   ]
  },
  {
   "cell_type": "code",
   "execution_count": 3,
   "id": "80199721",
   "metadata": {},
   "outputs": [],
   "source": [
    "# want to select houses in reasonable condition\n",
    "df2 = df[df['OverallCond'] > 5] # clean up data a bit."
   ]
  },
  {
   "cell_type": "code",
   "execution_count": 4,
   "id": "c15f031b",
   "metadata": {},
   "outputs": [],
   "source": [
    "# only keeping the 'SalePrice' and 'GrLivArea' (above ground living area) columns\n",
    "slim_df = df2[['SalePrice','GrLivArea']]"
   ]
  },
  {
   "cell_type": "code",
   "execution_count": 5,
   "id": "3a667c0f",
   "metadata": {},
   "outputs": [],
   "source": [
    "# save this data as a new CSV file\n",
    "slim_df.to_csv('slimmed_realestate_data.csv')"
   ]
  },
  {
   "cell_type": "code",
   "execution_count": 6,
   "id": "8da06d3d",
   "metadata": {},
   "outputs": [
    {
     "data": {
      "text/plain": [
       "<AxesSubplot:xlabel='SalePrice'>"
      ]
     },
     "execution_count": 6,
     "metadata": {},
     "output_type": "execute_result"
    },
    {
     "data": {
      "image/png": "[encoded data removed]",
      "text/plain": [
       "<Figure size 432x288 with 1 Axes>"
      ]
     },
     "metadata": {
      "needs_background": "light"
     },
     "output_type": "display_data"
    }
   ],
   "source": [
    "# see a quick plot to verify this can be fit with linear regression.\n",
    "slim_df.plot(x='SalePrice',y='GrLivArea',style='.')"
   ]
  }
 ],
 "metadata": {
  "kernelspec": {
   "display_name": "Python 3 (ipykernel)",
   "language": "python",
   "name": "python3"
  },
  "language_info": {
   "codemirror_mode": {
    "name": "ipython",
    "version": 3
   },
   "file_extension": ".py",
   "mimetype": "text/x-python",
   "name": "python",
   "nbconvert_exporter": "python",
   "pygments_lexer": "ipython3",
   "version": "3.10.4"
  },
  "vscode": {
   "interpreter": {
    "hash": "867393496f968d090fe39c6b5b789c3d983ec615a76d244443762b40dc96c318"
   }
  }
 },
 "nbformat": 4,
 "nbformat_minor": 5
}
