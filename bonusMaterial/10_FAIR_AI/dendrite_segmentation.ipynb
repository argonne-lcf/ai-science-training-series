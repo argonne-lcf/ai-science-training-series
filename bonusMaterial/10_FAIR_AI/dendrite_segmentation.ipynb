{
 "cells": [
  {
   "cell_type": "markdown",
   "metadata": {
    "id": "7F9DUCDjnUjf"
   },
   "source": [
    "![foundry.png](data:image/png;base64,iVBORw0KGgoAAAANSUhEUgAAAaIAAAB/CAYAAACt3MYqAAAAAXNSR0IArs4c6QAAAHhlWElmTU0AKgAAAAgABAEaAAUAAAABAAAAPgEbAAUAAAABAAAARgEoAAMAAAABAAIAAIdpAAQAAAABAAAATgAAAAAAAABIAAAAAQAAAEgAAAABAAOgAQADAAAAAQABAACgAgAEAAAAAQAAAaKgAwAEAAAAAQAAAH8AAAAApKjjEAAAAAlwSFlzAAALEwAACxMBAJqcGAAAKWZJREFUeAHtXQmY1dTZzr0zw6ag4C7KIta2VhG3Wn9rK7/6/9pqrQpUUQSX4k6dgaLWarFaF/yLWNda3CpUBQGVKm21LS6oaMEZEKsVF1pRVFZZZpi75H/fOwmGkOQkmbvkJt/3PO8kOd9ZvvMm93znfFlG00SEAWFAGBAGhAFhQBgQBoQBYUAYEAaEAWFAGBAGhAFhQBgQBoQBYUAYEAaEAWFAGBAGhAFhQBgQBoQBYUAYEAaEAWFAGBAGhAFhQBgQBoQBYUAYEAaEAWFAGBAGhAFhQBgQBoQBYUAYEAaEAWFAGBAGhAFhQBgQBoQBYUAYEAaEAWFAGBAGhAFhQBgQBoQBYUAYEAaEAWFAGBAGhAFhQBgQBoQBYUAYEAaEAWFAGBAGhAFhQBgQBoQBYUAYEAaEgXYwkGpH2UgX1YcN+29N15+DkbHto+0ENOO4f2ry5CW2dDkUBoQBYSDSDKQjbV1I4/TBg7eFE/oDiifFCW1AX8eKEwp5wUgxYUAYqCgDsXREWseOd8IRdasos+VqXNdzaOotOKE7ytWktCMMCAPCQDEZiJ0j0s866xgQNEhLpToXk6jI1pVKtaCvP4qsfWKYMCAMCAMKBmLliPQzzuim5fOPoM9dFP2Oi5ohudGphx/+IC4dkn4IA8JA8hiIlSPCyuAenMJtE3EadT2LfjYhJPfbRPRXOikMCAOxZSA2jgiroeNxlk4COsX2bFk7xpBcNnuaNUn2hQFhQBioRgZi4Yj0ESO219LpyTgBSQrJjUo9+uh/qvGiE5uFAWFAGLAyUGs9qNr9bHYSbE+GE2oLyc1PTZnyQNWeLzFcGBAGhAELA1W/IsKLqyeiP8cBSQnJNWs1NUMt51B2hQFhQBioagaq2hHhxdUeeF/o9zgD21T1WfBv/Ab096LU73+/zH8RySkMCAPCQLQZqGpHhBdXHwS9yXhfSNMyeCrwFYTkeC9MRBgQBoSB2DBQtZ/AQUjulLCroddyXbWRm/aJzUn00ZHmmhq9/4JpDfIdOh9kSRZhQBgoLwNV6Yj0s8/eSctk3gVV2wWla6OW1k5s3l9bXddJS6Wre0Hop++51gzCedoVTdMvk08A+SFM8ggDwkDZGajOp+YymQfBVKiQ3I2tvbSN6dpEOCE9m89pee2tphnihMr+y5IGhQFhwDcDVbck0IcOPQO9+y7QwXcvjYzzct20Z3Pdtda6wEWDNlX5/Lqu5XPZFr0mI9+hq/zZEAuEAWHAg4GqCs3pp5++Cx5dZkiuq0efHFUb9BrthJb9tLVJCsnltdFYDckngByvCEkUBoSBqDBQXSuitq8nhHpf6LpML605XZeQkFwui/tCTeKEovIzEzuEAWHAi4GqcUT4ltxwPL58ODpT59UhJ91Lue2053Pba5m6wEWdqot0ml4IyeVbctmcfIcu0mdKjBMGhAGTgaoIzemnnba7Vlv7DowO/GXtdYWQ3P7aurqOiVgN8Sm5VF6/pHFG/YPmSY7Jli8tfxPYHdgV2AFoAT4DPgU+AhYA/EeBIsKAMFBFDFTHU3O1tfy33x3D8Hptpo/WkpSn5DLZLJzQ/JBO6CXw2ycMxz7KDEGel33ks2dhGHY48EPgKEAVll2FPE8D04GnAB3wI/xu37EuGens9gO49Sv87uEiwO2a/TN059oqq8fxaFua/ZBOllGBj+0Kl+MfIP0uF93fkT7MpuPv7Du2NK/DVihXW8DJAM/zXMCvjci6lVyMlCu3SnVP2ATVcgewj0HenZuH/D0BN+E5Pd5N6SN9HPKc55HvTeiO89DHVhV5R6SfeSZP3CFA4Lja8wjJzcWTctmOgYtW3Qk3QnL4Dp0e9jt0e6PTu5So4zsGrJcr9dOBG4DeAcr2QF4OrgQHQw5oTYBK+iKD1wDUAfogjogOaC+PRvs46LjS87LBLPIT7FxuHii2O0PvVif7bBcVD/b8PLbXc5mR6QNsHwDuBDhBCCJ+ubDW6cS3jgzPAXcDnJjQkXvJQii56nYTcnkUMAcIKjwXYwCvz5FNDlppXPKno9wRhOT2hH0TAa+T59iFtXqt9vPWvtomhOSSIHmG5HTtwqZpDcuqvL88188AU4AgTsje7SOQMB/gjz9OMhKdCfzUaAUIoIP6JfBvgL/hSticQrvHAjOApcD5gJf8CsqMVwbofqbQu6nHQuE1jq2D/ha3wnFPj7Qjwn2hR/AZn1Ce5JrWPlprDV9c5bUYb8lncxn08pXGmfUcvKtZuKLhDLZY4Yka1MUfdwMQF9keHWGUoFqEgy9XcQx7faWCRnM1cw9ws4cNH0L3oIeeqmMBRmiCCCMNFyoK/Ab6lYo8sVVH1hHhKbmLwPoAPClXG5T9v+IJudfyXbVsbV3QolWXX88j+pDLNWfSGYajqlkY/noW+FYJOvFr1HlWCeqtVJUMfwX+XVTKWKPdr2P7GvDdCtvBlclwDxtugE61Kgpy/4pNMZTK+4ZushYKXqOJlUg6IvzH1T5wQONxVryWso4nbTVCcr/AaigxIblMZoOu6T9ePG0sb9ZWs4yD8QeVsAO3ou6g96pKaE67qu6F0kPaVUNlCnM1Nw3YrTLNb26V18JOm4+23PkQhw9smbTV0clIoWP1I+zrBYqMtGe1Ik+s1dGcVWUyj4F1fJU0eFgtUSG5TLYVDL3QOL1hahmu0ka0kQ/ZzjJFOa6COFP1I58h03yAYQyG8ui8dgVUwryc7fIeSxyE977+UOaOvIj2skabnbGlY98Z6Gak+dnQAUwBjgHCXk9vo+wHAAcIOjcO9rwG/IbxuyPvacDtgJPwOhkBdHBSIo3tcpUzAlDJFchArtyEDmiimzIp6ZFzRHhK7icg/xsA4/uBZHa2h/YPhORySXhKDiE5PZ9vTqdrvMIMgfhTZGZcXPXUkaIKV/Ut0KjO9+fIMwqYDlhDJ7yGvw/cAewBeMl5UHKlvcQrU5XoDoSdRwN/LaO9dB6tDu3x98pzwIcB9nLQ25MGIuEcYJJd4fO4AflmO+Q9EmkXAoMAVVyeedwc0VLouCryerjhDOh/ATCvm/DpP9XEhyE5huYSLZEKzenDh/fD2eBsZJugZ2WlXqddj8/4JCokp2vnvTFt1OdBuYpY/gNgz7cVNr0H/cHAo4DVCbFYFngS4MpoEeAlnMlyAImLjIlIRxbDDjp4OqTrAB1QCSecxZYXUeFQgOdYZcMhisY5Djk5XbMYJ0A/NQ9ctryX1MlFx2Su6n/joU+MKlKOCDfdGWLyu7ze4iRdhUe1MzX8lhzHmnhLPpPbhB4+u3BG/eMx6OnFij5wMPgR8B9FPjpk5mtW5ONAFRc5Dh3hy7ZRkRYYcg3AlatKaPdAVaaQ+mkopxrguyDPth71/xu6+z30VHFVx9Ckk+yBxB87KSxpt2B/neU4sbuRcUQIyXF28VWgJujZmJXdQVuob6PlajlJibfwKTkdT8l1zNcxzFTtwtmiaoXCUNx8nx39J/KpBo99kIdhrbhIVFZFVj7vwAEnlSo5V5WhHfpnfJR1cyJmUdWqiPd+6s3Mtu3PcOw1qf4MevIkAgYi4Yj0s87i4DAO2AYIJJ8jJHcjQnIttV7nPFCVkc6cz2Tx4qo+4rWZl3BZX+3CcBtnpl7iZ0Czlr/TeuCyf5hLejUmnw6jd4+g4X7OwxEltHuJj7ozijxchd+nyHMR9NvZ8uyJY5WTHY88G2zlEnsYCUek5fNcSnvFUl1P0JUIyWWT8uJqJouQnP5048wG3hOJg3xL0YkvoJ+tyGNXc1XEe0pewvtScZEO6Egp7re0l58XUMFbikr6QK9alSiqcFXTGXgJncBHXhkMHVdFDIW7CZ8YPN+mZGiS58VNlkNxl5syiekVd0R4cfUqEN8PCGzLzOyO2lv6tgkKyeU3pHJbXfTVfN0erjD+Kei9BgG34hwEvaS/lzKCOoYn13vYxYGwq4e+Uqp7fDRcqtWp6gEYTlhUDzTQfDqrSdzxkEuhqzX0XOGrVkM3IU+zkV82YCDw4F9M1uCE9sW7QoylBg7JLdc7aOMze2otSfi33yAo35rdmErlhzU+Ub+mmOegwnUdqmh/rkLvpp7vpjDSv6HQR029FgY95GEUQ0OqG+MexUumYqRDJaU4F7wHeKWiYdVqzVqcjsNrQsQHE4YYBYZh293Yd9osQ+JvnRRJTquYI9IHD66BE+KFGiokd4UZkgvx0mu1nXA9k2tJafrMxumjn6k22xX27qLQr1Do3dQfuimMdA7c5gxWkTUyat7Y9prBMzwXtT59CpuyCga9Bm1FUUf10Uj9I7CNo/bLRC/H/mWutj2uin5nT7Qd1xvHqicGb0Q+Pl0oYmGgchdux45Xw47eQGBnODW7k/YvPCWXr6uc+RYOS7qLl1a1fC63vlPnGt4UraRwlpkLYcASlHF6RJUTENUTJmEd0VIfdjKUtdpHvqhkeRuG/Ak43sWgXkjnrPwPLvpKJNNxfg7s5tE4v4wQVHqgwA4Ax45dAfZ9L+AcYACgEnL0N1Umm56rIq463a7ZQ6D7JbAv4Cb/hkLl0NzKxjq9IiM5QnL7g9WxAB9/DCQfIyR3a2YPrbWD173AQFVGOnPbU3KpofOmjOKN+0rK6yEb/znK/cqhrJ8BKKwjWuXQnj2p2hwR7Z8AuDki6scAUXJEtImrIi9HxNVpUJkctIAlPycfoy3HfncZUrsXuNSjACfXXnIDlK1eGZKqS5e74/rIkXjrNPU4/r1DqJDc2NZ+hRdXw3yHrtx9bW97eibboumpqY0zL3u2vXVVsHzKpe1SOiI/N4K7udgV5eTnYFyTh4FctTI0FSWhI/KSwJNRr8oUOk6meF9yuSKfm5qrorBhtQ9RVvWOm1u7sU8vuyPSNmy4Fqz2hCNxG6BcSZ+S3Vl7X++s6bU1rnniomgLyelrszV1qphztXaZKxKVrFVlcNGr7kvkUa7SK0wX05XJXBV5yU+9lBXQqaIufiYN7TWbj2rfDBwBvNeOyj5GWa6Kwsj1KJQJUzAJZcrqiPDi6oFwQJeBWNWNxK24/w/+P97tmZ74llwCQnKIrOdbcxtxS+b0xdMuXr8VGfFIUDkL9lI1iLkxobq+eN2XcybuZmeY9EdRiAOim/wvFAx9R0VWKQwJPCFV1GdXD0cC7yddARTDEdChBV0V0fk9BIi4MFA2R4Sn5DrgxdXwIblNe7X9o7vgCymXrkc3OZ/NYpaoT26aMfrv0bWy3Zb5WZGEdRY7+rBujY88UczCewy3KwwLcw9EUWVotSoEWurzMA6W9wlt/dYFOQkI+vj1L1HGz8Rr69YSklI2R6R16HADON01TEjuoewu+NY6QnI1yQjJ4Vtya2szXepjfg2u89G/MDeyWW2cHRH7x4GQ4SY3OR2Knm7KMqerzkWpn1zsi/4+BXh94DQoJVwV+Q0pvoO8U4I2kLT8YUMfgXjCU3KHwgHx8ePAM9yleKbh7szuWiYJT8kZITk9rQ2ZP+t8hOYiJafBmjCzutdceuFnRdQbZd91Ke+VrBr8GFrZ5FVBxHUcvB8ALnGxk/Fr/t4+cNGXK5kzR6/HmWnHyhDG8L7pq0A/YChwAuAV4tsH+l8D5wPFkE9QCScDvM2gEq6Gwrz2oKo3VvqSOyL90ks7aqtXPw7WAjshMj0mSSG5TKYZP6f7Fz7e8GIErzKew2L+oOgMiE4efe3jofNSqRzRCq/CRdB5DYpFqL5QxUT8pbNxi2qcB921hZyV+/M1NK363TeGMG8JyvAJOIL3zHhfbDrgdW/wXOhvA94CiiFcFdGxefWPbdE+EQUDbhexolgA9apV45FbNTA4Vjgps5u2DONUIkJyuTz+46q2sks6P9aRjHgm/lPRrQMUejf1QW4KI32+Qm9Xew1w9rw85s1xL/EKq3mVs+p4A/wJa4Jtf2ccn2pLK/fh0YoGEQMoOBNFNqX6z8gxTJGrBnreHiiWLEdFKidzF/LwCU0RBQMldUR4Su5whOQ4M+uisGMr9fv5Ttqk7K7JeUouk9uoa7nBr0xr8Bt73oqzKkxoUtj8XYXeSc1V/slOCkvaq5Z97qruV+1my686VN2fUT1Jpqrf1DPc5CX/7aUsg+5sRRvvQL9GkceveiYyPqvI/APo91fkCaJW2a66roK0Feu8JXNEeEqus/HvHQI7oTziU2P44mptHSK/5YhyVPYc4+sJG7WUfs/CGaPtA2RlDSt96wsVTewH/Z6KPHb1QCSoVuB2nlX3UqLqiF5GX+19sfNRqePvoOEBisZfUOiDqlUrHg4mVwatVPKXnoGSOSI8JTcB5ncP04V7EZL7hJ90SsJTcrm8jpdXP9+wseZnYbiq8jL/UNjPgeMCRR67erA9wXbMx595b8EqKkf0FWtmH/v9FHk+UuiDqPk7i5rwvsnvfBh1r488QbLMQWbVKnsI8uwdpFLJW3oGSuKI8G+/j8RK5iyYH3g19G6+s/YgHtduTcSLq7qWz+Sa0yl90JLZozaV/nRHroW5sOhjhVUXQr+7Io+p7osdPt3nJXzown6P5n2vAtDRBr+/FSzjCx/f9KryRS9lQN0M5Fc50oBVtis7702R430UtcyDPui9OkWVBfVERSbeK7pckUfUZWbA74/Lt1n6sGG8sTsVCOyEsptDch0SEpLD1xNS+u1vTG9QrQx8819lGXkj91GFzVxVTwE6KfJtC/0jQFdFvjsd9KqBnIPqSQ7lnJKGIrG3k8JI432DBR76oCo+yXhb0EIlyn8C6l0EfM9H/Xf4yBMmC6+BTxUFOUlW3cdTVCHqYjJQdEeE+0K/gYHbhTGS7wt9xv+wW1N8s8LYU8oyOkJyWl7/JJtee00p26mCuulkVHIUMrwMuN1oPgQ6zrAPA7ykEUrWYxc6It2eaDv+LY7/x5ZmPzwSCTfaE23Hf8YxnUcx5X5UprpxXsz2zLoYOu0D0AHdB8wCuCJSyd+Qwc95V9XjpGdk4W4nhSUNg0zhS+WWJNmtJAN8wqhoog8dOhAhOYZGOget9O18F40fNU3Gi6ttIblUXh+0eMY43rNIsnB18CSgWnEciDx8uIEO5zVgFbADcDhwMOBHrnLJtA7pdBDHueiZvBPwJ+BW4GngLWA5sD3wVeCHwE8Bhn685BYvZUgd7ef9lrEhy/st9hAyZgCOG7zPsi8Q9NF2njeuSFSOH1lCyz0oeSXQ0aOGkdD9CljhkUdUZWKgaI5IP+ecrlprK8MsgUNymUJIbi88JYeJShKekstmN+COw62NM+o5Qxdpe0Odqw0/ExiuelQrHydOJyHxGSeFkXYXtl6OiNm4AmgwwGNOIji79itcCdCJlkJuR6X1QF0pKjfqVN1/UzXNL3OcDSxTZWyn/lOUZ4huhEc9HKd+AlztkUdUZWKgeDGwTZsYe1fF5x27xa9qr0xh8pKEkFwWT8nl9GXdV6y51pGMZCZ+iG5fV8KuM/RGB+IlXOU875XBQRfECa1F+ZEOdRQr6SNUNLVYlZWgni9Q5/eBp0pQt1OVtzkl2tIuwXE3W5ocVoCBojgifEvuf7CSORX2+5nRbtHNxfltNP7r71a+MxR30RGSy+aa8zl90Jw548J8ty3ODN2IzpXiBvZ7qPdogOErL8lDeSbA0FGxhWGoYQBtKaVMKGXl7ah7KcoeAfylHXUELcpowxxFIYZVL1TkEXUZGGi3I8KLq9vBCU2BrYFDcq0MyeFbcq1JCcllEJLT9JsWPdmwqAznthqbGAWjf1tEwzkYcQDkisiPcFVxLMBtsYQO8BRgVrEq9KhnAXR/99CXW8X7L7xvtS/wZrkbR3sTfbTJcGbgCbSPeiVLAAba7Yjw4ioHjm0DtLk568TMHtqadActlYCQXD7Hj8lpS/ep6XnDZgJkx84AVw4XAD8EPgTCCgf/nwP/BfB+QRDhYH4owFBde2UuKvgm8ER7KwpQ/tcB8pYiK1eW5JAPC/QF+HDGRqASQuevWoXugjznVsI4afNLBtrliPDi6vexGjoB1XX6skp/ewsRkpuR3bFtNeSvSPXmQkhOz+Rb0nhKbtq0IbmIdgSrNVfhQEInUS55Eg1xFj0GeAXg4OZH/oVM44GvAL8CmoEwshyFeF0fDDwGrAH8Crn6I3AU8G3gbcCPePHvpbPX/QwS/LTpVKdTmr1+HvNaWAUsAeYBbPMuYBCwE0DebgLWA2FEVU6lN9vkdXO7eeCxPdFD56VS2aHSe9WdKF0qbG/xqHZ3LZ3mbKN70Do24ZGxE5v301bUdk7Gaqg1swHvDV3fNLOBP06R4AzsjCK8z9MT4AyWxwynMPRDp/ExwAcN3gVKIZyw9QcOB3YFeM33ADoAdFIrgc+A1wxksBURBoQBnwyEf3w7lZqENrr4bGeLbP/Xuqe2Ll2XDCfUFpJ7T5zQFpdA0AMO8o8ELVTE/JxZNxooYrVSlTAgDJCBUKE5/HuHkxCS+1+U7xiUxgX5bbVZuR6JCsnp+dzgoDxJfmFAGBAGksJAYEcEJ7QDPuPzIAgK+kY1AvZpbSyfkuMHTUMHBavn1ODfO2zAt+Subpo5mvcuRIQBYUAYEAYcGAjsiLRc7kHUw/h8YBmPkNx6huTSwZsN3FiFC+jZfA63dN9uml4/ocKmSPPCgDAgDESagUAeAS+uDkJIbiB6FDgk93quqzYbIblMUv69Qza7CZ5oSKTPvhgnDAgDwkAEGPDtiPDvHXaGE7oPNgcOyW3Qa7TLW42QXAQ6XWoTcoWQXOryRdPr3y91W1K/MCAMCAPVzoBvR6Tp+kPobKcwHb4x00vbmK5NSEgulwVXbzZNv+yOMFxJGWFAGBAGksaAL0eEd4bOADFHAnxvIpC8kuum/TW3fXJCcrncprSe+1EgkiSzMCAMCAMJZkD57Jo+YsSuWjbLp74Cf1l7PUJyJ7Tsp31R1ykRq6EcXlzFNwBGN824rJjfS0vw5SldFwaEgSQwoF4RZbNTQESokNz1md5ac2KekkNILq83ihNKws9G+igMCAPFZMDTESEkNwKNHQbUBW30xdx22vNAti5w0aBNVTy/zn/vkMu36FrNaRU3RgwQBoQBYaDKGHANzeHF1Z54cZUfTwz8Ze0vCiG5/bX1hZCcaxNVRpW7uQzJ4d9+X4L/uPqge67IacbBIn43zZQW7PDbgQzDLgQ+AbyE9wsnAuZk5k7sL7IV4DfZbrSleR3eDWWTLYOfdmxFSn54DVrYHeCnf+qBTYBVxuOgm5FwKbbWb8/V4HgowO/WHQB8DLwOPAO8CVhlHA7CnqMxKLu3tTKH/euRZv2XF0fgeBiQBS4B/AojJmcBAwC2yfPOb/B9ALwIPAxUUsLaxyeEjwf4EdcDAc6qPwUWADMA86nY7bF/E6CSu5CBvy2rBD1Po1B4X6OC+7F9zVoZ9r8K8JrcCDQAdvHbJ5YLapu9Ld/Hrl4CX9Z+AbV8Cwi8pBnd2k97Se+ejNVQNpfBv3iYixdXB/pmPRoZ+eXkfi6mtCKdP6wbAPsgaxbh16lnmQfY0inxB2CVvjgwf6zWdLf9QVBMtyn9tGMrUvJD9ol9o9ht/ibS5hU0bX92xIYfRaXQeT0CfIcHNiHP5wGTLentOUevoh5GM7zkECjnWzJcgH1OBvIAHaYfORqZHgD2dMn8T6SbA6dLlpImh7WvP6x6DPiai3XkjfxRegMfckchp0A/05Yn6Hn6G8qbY81z2D/WVh+P/wKsB7radEH6xKJBbbM15/+w1ikrXlz9MdIPAgI7oTl4Qu5lPCmX7Ri4qJMpkU7T84X/uNqSztbyqcJqFV7MTwM9AM5mOUj2BK4BTgQ4sGYBu9i/n3cqMnAGxn8RYMoK7FxuHhhbluMPmCuB24w0c9Nk7li2ftqxZC/LrvUHfiZanG5pdYRln7vbAisB/iCeB8hxDuAgNxfgDPZ0YCfgYYAzWc62rRL2HLGOV4Cp1sos+0st+2F26XxYN68d9nESsBBoBnYEOPCx/5WSsPYdBYNnA50AXs9/BDgoc3DvA5wEWIXXuXUSdhqODwOWAf8HmNJo7jhsw5ynY1APf0v/cKjPnnQUEoL0yVo+jG3W8sr9rRwRQnK9EJK7FSUDv7i6Rq/Vrm7to22q65iET8nh334jJKdrF77x1KUcVKtVOBhyNWMKB45fAyOBA4ELgDsAq3TAgflj5MV9PMAfvX01sA5p4wGr7IUD/nj4I7XrrPm477cde7lSH5MjCh3K94DuwGqgI8BBKAPUARQz73nYpxOinA/cV9hr+3MvNnRSOwBXAHZHFOYcoZqCLMBf6/k1kouyYV/phMjDkcA/gShJGPtS6ADHPzqhtQAnmU8DVhmNg30sCRuwb+X4azimI/rYlo5DVwl7nni9DHKttU0Rpk/WKsPaZq3Dc9+M73+ZKZd7FC9k8gcVWK6BE2qt4Yur7He8JZ/NtmKuNLdxZv2UmPV0PfpzIfCW0a9x2Nqvh2ORth3A2eLFAH+IFK6KiinlaieIzZy8cZCis3kZoLMcDFDonOmUuIKhY6J0BfiDuJoHEIZNrE6IaYuBG7kDORTg/SMv8XOOvMoXS7evUdEX2L5drEqLWE8Y+4ai/QGGDRzkn3awh9f9Ow7p5Ux6w2jsZGytTtHJhsj3aQtHhJDcxfiMT39gq5WSU++sac/mumuv57tq2do6a3Is9xmS0/CUXC6TOiuWHWy7R3Cz0TfO0rmKsYo58L6KxA+APxlK1czMWoef/XK148cWM4+5wuEqYLqRyPAc5ey2TeE+T7Oxz/w9gd0sOmN3i81UHHGAoxzUtvH8m4fW6xx5Fi6S0hyM6Xzri1RnMasJYx8nE5RlwP2FvWj+edKwkWP4WIWJke/TZkeEb8n1hQMajw4FDsmtQkju2tbehZCcgpBYqPMZ/MdVTf/xm09d9mksOuTciUWWZKsj4grAvLBnGnnMbV8c+xlELVW77parHVcDXBRc4VCywCPG9tvYHgJwBbcOIB9WR9QPx6bQeTvJf5C4wlDs4ZTBIc3tHFmz0hHu4gBOMNorj6MC9pfCcO5sgCG6qEgY+75iGP8Ktq1l7EjQ88QV+d2GfcOw5WTHTdrbp6C2udnhmr7ZESEcNzVsSO7q1r7JCcllCiG5OU3TGziDjbN8ZOlcH8v+Mdjf3jg2HRDDF/xhUIq1KipXO21W+//LHyVlE/AZwNUgQ2+PAjUArws6IYJCx2V1RMsLqc5/WB/FryNyO0dttbT9HY4N27TjfWumkPtLUO4UwJyQHYf9F4A3gfMAe0gXSWWVMPbtbVjIlX45Jcx5ugsGrgc4aWvwMLa9fQpjm4c5W6sKjggvrnJZ/XWsiPhDCiSzsz20BXpXLZeQkJyeyzfXZnIjApFUnZlbLGbXWfbNcBkHG/7QKWuAvxf2iueIytWOYbbvjbkioiOiPNS22exszGOTPzouhq5MMdPNY+uW4T4Kw25+xFqX9RxZy7LOLxzAc1YMeQ6V7AtcD6w0KvwGtr8DuGL7lpFWqU0Q+7rASHOiYa70ymV3mPO0Gsbdaxg4EtseDsYWo09hbHMwxT0pjfeF9tbS6RuQJXBIboVep12PL2tvqqVDjr8U/uOqrp0zf9aYFfHvrdbH0kde8BQOdicV9rZ+H8JcHTEM0N/IE3ZTrnbC2GcOVKYjmoVKzEGdq4yXjEpNJ8H8nxhp3Oxo2bfvmgMJw3R+pI8lk3mOLEmF3XvwdzsH9LZnbMfxKpS9GmB4aBiwEKDwWvgzsA8PKih+7dsIG00e9yizvWHP0wTYyRAirzM+OGSXYvQprG12W1yPa1OTJ3NW29k1h4figFNu/Wu6tuZIPCXHgSPWks/kMPDozzbNrJ8R645+2bmvfblb+OICD48BzNk9l/tXMdGQ3cwdbE8FzMHIkux7t1zt+DbIktG+IqJDegw4H/g9oAMU0xEx/7JCStufXthYHZOp4kRwV+PgPTNRsXU6R4oiJVWTi8nAFOCnwM1AN+Ay4CKg0uLHvg9gJK9xazi10nZ7tc9ri5yfA5DjNwC7RL5PtXaL/R4POHXCcPziDkvV1sTeCfEpOT2f35hN6+f65ScG+cYYfViL7avGvhku4+HpRprTZhASf+Gk8JlWrHZ4j4KDTzHFXBGZjoZ1XwBwELCG1Ew9838ImPJD7MwzDyxbppu/x3ct6V67TufIK3+5dBgaCu+IDcH2YGB/RcOlOE9eTXrZx0nAQcBAgCu5fwFRl1tg4NkAJzI/cjA28n0q3CNyMNwz6YDBE3rqeuqOdIe6wOE8z4ojqmRIDt9QGL54WgOX+HGXFDo4Fvim0dFJ2GYBTjg4WFIagakOMB3WvtB9HQgjxWhnBzT8FsAHBp4CijlZsq+IUH1BrE6ICVZHtBTHLxVytYWu7OG5ztDVG/o3sX3Z2HfbuJ0jt/yVSKeNZsx+uYsBpTxPLk1uTnazj/e2KBwbxwNmH5gWVXkbhj1hGHemg5GR75M5A3Ow3SMpn3okXVfbMZXiuYy36NlcC/69w9MLZzbMimlPObDuDOwB0HmcDRwNUHjPYxx3IEwzw3KXYH8uE22yF47NsBJXRdfZ9H4Oi9HOQDRkOsITsX8a8LCfxn3kMVdEqpWW6YhMxzURdX8b6An8CeAqimEU2nkzwJUD5SrA7tT8nqNCBbY/nXDMe0RO8gUSuTqwCwdhtzLst9m30dj/N8Br4TOAExYOCnsDVwL7A5Q5hb9b/ynleWJrYex7FuWIY4GTgBcBnhNOvtYDvYHvA+zjRYApVr7IOYUTIGs6y+eocJAw58laDa+hk60Jlv2wfTKraK9tZj2u28COqP8pt56Hp+sOStXgHw3FXBCO0/Rsnp/xOT/GXW1A3wi7cFZ+CsAfD8UMl32CfeqchI6rCTgACOuIitHOIrTPH3wNQKE9xXJEpmMxB+NCAw5/TL3puDhj5RNOIwE6ndcBDtzW3+DtOH4KsIvfc2Qvx+NzDTjpaMcCJwXS1rik8x7pqYaOdZsOnw5tHdAFsPaJ/bkHcJJFSCzVeWJ7Ye3j730qcAjAyAAHcrvMtyT0wv5Sy7G5OwA7Vh7pKHgdOEnY82TWNQ87c4CjACcJ2idrHe21zVqX4z5nPr7l4MG39cIiaCJWQ8kIybXmNub1/JmNT9RbLybffEU8o3XWzUHkc6ARmAwcA3D2/ilgyonGzkxsnWbRZj4OVJT+wB6FvS3/mO2a2y21bR9aZVp72nkH5SdaKjadqSUp9G5Ho6RqRWS+R2Tm54DLweAnwGKA/eeAzS2P6YBHAVaxcuTnHLmVtaZb9+3n0dqeNZ9131qG14vJLVdC3QD2iXk4IaHTHQK4rQJKeZ7Q7OZVDPeD2PcB8h8OXAPQWfKpNFO4AuS1+TszAVsrJ5bkrXad8gXl3Mxvbq2N3GQ5sOuD9olV2euwVL9516lPm5V+d3hyfMuAUya+nKpNH4oHFHixxVr0TK4F/95hetOM+jNj3dH4du4cdO0+o3snYeu00qhk77lS6gcsATZU0pAitM3Q7k5AZ2AlsAywDt44dJVynKf22EfDOd7tBawCVgBxkEj1ybdDGXDyrRfraa0/Htf2XaZazxZDcvl8fl2nzjXWGHC1didpdnNydRRwrdFxztpnG/tR2nAlwVVDHOQzdIIIIuU8T2Hss/Yli4NqeHrOarNqP1J98uVU+g++pa+e08bX1NV2UfUuDvo8QnLplD503pRRX8ShPwnqw/fQ10cB8z4OwxHDgAwgEh0G5DxF51xEwhJfjiidr52aqq3FPxkKFMmLRAeDGoFHtRnbf+yN6fXPBS0r+SvOAO9d8vzxRvIcYDxg3qvBrkhEGJDzFJETERUzlJ7lgJMn1Gs16etqEvDOUCEk15r9NFvTYe/F0y42b8JG5VyJHcKAMCAMxJIBT0d00OAJe2dz2qKUluJz5AmQlJ7W8wPfmNnwfAI6K10UBoQBYUAYEAaEAWFAGBAGhAFhQBgQBoQBYUAYEAaEAWFAGBAGhAFhQBgQBoQBYUAYEAaEAWFAGBAGhAFhQBgQBoQBYUAYEAaEAWFAGBAGhAFhQBgQBoQBYUAYEAaEAWFAGBAGhAFhQBgQBoQBYUAYEAaEAWFAGBAGhAFhQBgQBoQBYUAYEAaEAWFAGBAGhAFhQBgQBoQBYUAYEAaEAWFAGBAGhAFhQBgQBoQBYUAYEAaEAWFAGBAGhAFhQBgQBoQBYUAYEAaqn4H/B5GR5/ZujcHqAAAAAElFTkSuQmCC)"
   ]
  },
  {
   "cell_type": "markdown",
   "metadata": {
    "id": "5LSG4dPXnopg"
   },
   "source": [
    "# Foundry Dendrite Segmentation Tutorial for Beginners\n",
    "This introduction uses Foundry to:\n",
    "\n",
    "\n",
    "1.   Load data from Foundry\n",
    "2.   Build a predictuve U-Net model\n",
    "3. Create augmented data to use with the model\n",
    "\n",
    "This notebook is set up to run as a [Google Colaboratory](https://colab.research.google.com/notebooks/intro.ipynb#scrollTo=5fCEDCU_qrC0) notebook, which allows you to run python code in the browser, or as a [Jupyter](https://jupyter.org/) notebook, which runs locally on your machine.\n",
    "\n",
    "The code in the next cell will detect your environment to make sure that only cells that match your environment will run.\n"
   ]
  },
  {
   "cell_type": "code",
   "execution_count": null,
   "metadata": {
    "id": "uqzPXhJZ-mjy"
   },
   "outputs": [],
   "source": [
    "try:\n",
    "  import google.colab\n",
    "  no_local_server=True\n",
    "  no_browser=True\n",
    "  globus=False\n",
    "except: # when not in google colab\n",
    "  no_local_server=False\n",
    "  no_browser=False\n",
    "  globus=True"
   ]
  },
  {
   "cell_type": "markdown",
   "metadata": {
    "id": "3Dx-9FiK-qXF"
   },
   "source": [
    "# Installing Foundry and Other Modules\n",
    "First we'll need to install Foundry as well as a few other packages. If you're using Google Colab, this code block will install these packages into the Colab environment.\n",
    "\n",
    "If you are running locally, it will install these modules onto your machine if you do not already have them. We also have a [requirements file](https://github.com/MLMI2-CSSI/foundry/tree/main/examples/dendrite-segmentation) included with this notebook. You can run `pip install -r requirements.txt` in your terminal to set up your environment locally."
   ]
  },
  {
   "cell_type": "code",
   "execution_count": null,
   "metadata": {
    "id": "0bJUs5pJHsc4"
   },
   "outputs": [],
   "source": [
    "!pip install scikit-learn\n",
    "!pip install foundry_ml\n",
    "!pip install scikit-image\n",
    "!pip install tensorflow\n",
    "!pip install keras-unet\n",
    "!pip install opencv-python\n",
    "\n",
    "#if in Google Colab, you'll need these pinned\n",
    "#versions since Colab keeps theirs a few behind\n",
    "!pip install pandas==1.2.2 tables==3.6.1"
   ]
  },
  {
   "cell_type": "markdown",
   "metadata": {
    "id": "zHMYq3Um-913"
   },
   "source": [
    "# Importing Packages\n",
    "Now we can import Foundry, which will allow us to load the data. \n",
    "\n",
    "We'll be using [scikit-image](https://scikit-image.org/) for image processing; [Keras](https://keras.io/) and [TensorFlow](https://www.tensorflow.org/) to create our model; and [pandas](https://pandas.pydata.org/), [OpenCV](https://pypi.org/project/opencv-python/), and [NumPy ](https://numpy.org/)to work with our data."
   ]
  },
  {
   "cell_type": "code",
   "execution_count": null,
   "metadata": {
    "id": "hWjnG87hgMyz"
   },
   "outputs": [],
   "source": [
    "from foundry import Foundry\n",
    "from skimage.io import imshow, imread\n",
    "from keras_unet.models import custom_unet\n",
    "import matplotlib.pyplot as plt\n",
    "from keras_unet.utils import plot_imgs\n",
    "import cv2\n",
    "import numpy as np\n",
    "import tensorflow as tf\n",
    "from tensorflow.keras.optimizers import Adam\n",
    "from keras_unet.metrics import iou, iou_thresholded\n",
    "from keras_unet.losses import jaccard_distance\n",
    "from keras_unet.utils import get_augmented"
   ]
  },
  {
   "cell_type": "markdown",
   "metadata": {
    "id": "nJu1C60hA0js"
   },
   "source": [
    "# Instantiating Foundry\n",
    "To instantiate Foundry, you'll need a [Globus](https://www.globus.org) account. Once you have your account, you can instantiate Foundry using the code below. When you instantiate Foundry locally, be sure to have your Globus endpoint turned on (you can do that with [Globus Connect Personal](https://www.globus.org/globus-connect-personal)). When you instantiate Foundry on Google Colab, you'll be given a link in the cell's output and asked to enter the provided auth code.\n"
   ]
  },
  {
   "cell_type": "code",
   "execution_count": null,
   "metadata": {
    "id": "cmqehQpfA7VB",
    "outputId": "18cfe26b-2484-4985-9264-4be8031295c6"
   },
   "outputs": [],
   "source": [
    "f = Foundry(index=\"mdf\", no_local_server=no_local_server, no_browser=no_browser)"
   ]
  },
  {
   "cell_type": "markdown",
   "metadata": {
    "id": "A3ZnAOJZBCMN"
   },
   "source": [
    "# Loading the Data\n",
    "Now we can use our instance of Foundry to load the data using `f.load()`. Once the data is loaded and accessible, we load the data into the client using `f.load_data()`."
   ]
  },
  {
   "cell_type": "code",
   "execution_count": null,
   "metadata": {
    "colab": {
     "base_uri": "https://localhost:8080/",
     "height": 366
    },
    "id": "gfEXGgzjA-11",
    "outputId": "251ed3fd-6345-4526-a441-66fa15b7bcc3"
   },
   "outputs": [],
   "source": [
    "f.load(\"foundry_stan_segmentation_v1.1\", globus=globus)"
   ]
  },
  {
   "cell_type": "code",
   "execution_count": null,
   "metadata": {
    "id": "yCXegMCEgMy5"
   },
   "outputs": [],
   "source": [
    "res = f.load_data()\n",
    "X = res['train']['input']['train/input']\n",
    "y = res['train']['target']['train/output']"
   ]
  },
  {
   "cell_type": "markdown",
   "metadata": {
    "id": "UKibcHgUBVT2"
   },
   "source": [
    "# Visualizing the Data\n",
    "\n",
    "Now that we've loaded the data, let's take a look!"
   ]
  },
  {
   "cell_type": "code",
   "execution_count": null,
   "metadata": {
    "colab": {
     "base_uri": "https://localhost:8080/",
     "height": 487
    },
    "id": "MMXHZ0UUgMy6",
    "outputId": "f8cd7a32-5949-4c5e-95b0-9cf3b2f4074e"
   },
   "outputs": [],
   "source": [
    "fig, axs = plt.subplots(3,2, figsize=(8,8))\n",
    "for i in range(3):\n",
    "    axs[i][0].imshow(X[i])\n",
    "    axs[i][1].imshow(y[i])"
   ]
  },
  {
   "cell_type": "markdown",
   "metadata": {
    "id": "jURrGTICgMy7"
   },
   "source": [
    "# Building a Model\n",
    "## Resize to Match UNet\n",
    "UNet requires images to be of a size multiple of 32, so we'll resize them here."
   ]
  },
  {
   "cell_type": "code",
   "execution_count": null,
   "metadata": {
    "id": "MImryVR6gMy7"
   },
   "outputs": [],
   "source": [
    "new_size = 32*10 # U-Net requires a multiple of 32\n",
    "\n",
    "X_r = np.array([cv2.resize(img, dsize=(new_size, new_size)) \n",
    "     for img in X])\n",
    "y_r = np.array([cv2.resize(mask, dsize=(new_size, new_size)) \n",
    "     for mask in y])"
   ]
  },
  {
   "cell_type": "code",
   "execution_count": null,
   "metadata": {
    "colab": {
     "base_uri": "https://localhost:8080/"
    },
    "id": "dP7mJ30RgMy7",
    "outputId": "20e6fa87-a494-4048-e3d4-7ef2893a5edb"
   },
   "outputs": [],
   "source": [
    "y_r.shape"
   ]
  },
  {
   "cell_type": "markdown",
   "metadata": {
    "id": "EIaipd_fgMy8"
   },
   "source": [
    "## Create UNet Model"
   ]
  },
  {
   "cell_type": "code",
   "execution_count": null,
   "metadata": {
    "id": "KHappB_UgMy8"
   },
   "outputs": [],
   "source": [
    "input_shape = (new_size,new_size,3)\n",
    "\n",
    "model = custom_unet(input_shape)"
   ]
  },
  {
   "cell_type": "code",
   "execution_count": null,
   "metadata": {
    "id": "FerN-RgFgMy8"
   },
   "outputs": [],
   "source": [
    "model.summary()"
   ]
  },
  {
   "cell_type": "markdown",
   "metadata": {
    "id": "sMvml3VegMy9"
   },
   "source": [
    "# Preview the Segmentation Task"
   ]
  },
  {
   "cell_type": "code",
   "execution_count": null,
   "metadata": {
    "colab": {
     "base_uri": "https://localhost:8080/",
     "height": 1000
    },
    "id": "2Foaa3lHgMy9",
    "outputId": "7d66afce-3703-4d81-a68e-0c3ff75ef2dc"
   },
   "outputs": [],
   "source": [
    "plot_imgs(org_imgs=X_r, mask_imgs=y_r[:,:,:,0], nm_img_to_plot=3, figsize=6)"
   ]
  },
  {
   "cell_type": "markdown",
   "metadata": {
    "id": "F0m9NpfPgMy9"
   },
   "source": [
    "# Create a Generator with Augmented Images"
   ]
  },
  {
   "cell_type": "code",
   "execution_count": null,
   "metadata": {
    "colab": {
     "base_uri": "https://localhost:8080/"
    },
    "id": "OdYn7OLvgMy9",
    "outputId": "1ce1921b-5c55-49f5-ab25-1598499d8609"
   },
   "outputs": [],
   "source": [
    "X_r.shape"
   ]
  },
  {
   "cell_type": "code",
   "execution_count": null,
   "metadata": {
    "colab": {
     "base_uri": "https://localhost:8080/"
    },
    "id": "5pxhyWbggMy9",
    "outputId": "18b53bdb-b8bf-4960-f9bc-057846a71518"
   },
   "outputs": [],
   "source": [
    "y_r.shape"
   ]
  },
  {
   "cell_type": "code",
   "execution_count": null,
   "metadata": {
    "id": "VW6PjeXmgMy-"
   },
   "outputs": [],
   "source": [
    "n_images = 30\n",
    "y_c = y_r[:,:,:,0]\n",
    "\n",
    "train_gen = get_augmented(\n",
    "    X_r, np.reshape(y_c, (n_images, new_size, new_size, 1)), batch_size=2,\n",
    "    data_gen_args = dict(\n",
    "        rotation_range=5.,\n",
    "        width_shift_range=0.05,\n",
    "        height_shift_range=0.05,\n",
    "        shear_range=30,\n",
    "        zoom_range=0.2,\n",
    "        horizontal_flip=True,\n",
    "        vertical_flip=True,\n",
    "        fill_mode='constant'\n",
    "    ))"
   ]
  },
  {
   "cell_type": "markdown",
   "metadata": {
    "id": "NHn0zsqGgMy-"
   },
   "source": [
    "# Preview Augmented Images"
   ]
  },
  {
   "cell_type": "code",
   "execution_count": null,
   "metadata": {
    "colab": {
     "base_uri": "https://localhost:8080/",
     "height": 717
    },
    "id": "DZmjl9a6gMy-",
    "outputId": "345b4b52-ed04-441d-ec21-16eec8e3aad9"
   },
   "outputs": [],
   "source": [
    "sample_batch = next(train_gen)\n",
    "xx, yy = sample_batch\n",
    "print(xx.shape, yy.shape)\n",
    "from keras_unet.utils import plot_imgs\n",
    "\n",
    "plot_imgs(org_imgs=xx, mask_imgs=yy[:,:,:,0], nm_img_to_plot=2, figsize=6)"
   ]
  },
  {
   "cell_type": "markdown",
   "metadata": {
    "id": "fMzp7FKFgMy-"
   },
   "source": [
    "# Compile Model"
   ]
  },
  {
   "cell_type": "code",
   "execution_count": null,
   "metadata": {
    "id": "ZfOWC67YgMy-"
   },
   "outputs": [],
   "source": [
    "model.compile(\n",
    "    optimizer=\"adam\", \n",
    "    #optimizer=SGD(lr=0.01, momentum=0.99),\n",
    "    loss='binary_crossentropy',\n",
    "    #loss=jaccard_distance,\n",
    "    metrics=[tf.keras.metrics.MeanIoU(num_classes=2)]\n",
    ")"
   ]
  },
  {
   "cell_type": "markdown",
   "metadata": {
    "id": "_GGjKPcAgMy_"
   },
   "source": [
    "# Fit Model"
   ]
  },
  {
   "cell_type": "code",
   "execution_count": null,
   "metadata": {
    "id": "yaL9SgctgMy_"
   },
   "outputs": [],
   "source": [
    "history = model.fit(\n",
    "train_gen,\n",
    "    steps_per_epoch=200,\n",
    "    epochs=10\n",
    ")"
   ]
  },
  {
   "cell_type": "code",
   "execution_count": null,
   "metadata": {
    "id": "MndPRID9gMy_"
   },
   "outputs": [],
   "source": [
    "model_name = f\"./{new_size}x{new_size}-model.h5\"\n",
    "model.save(model_name) "
   ]
  },
  {
   "cell_type": "code",
   "execution_count": null,
   "metadata": {
    "id": "M-1tQSF8gMy_"
   },
   "outputs": [],
   "source": [
    "model = tf.keras.models.load_model(model_name)"
   ]
  },
  {
   "cell_type": "markdown",
   "metadata": {
    "id": "8a-4_w3ygMy_"
   },
   "source": [
    "# Run Predict on Images"
   ]
  },
  {
   "cell_type": "code",
   "execution_count": null,
   "metadata": {
    "id": "C11yixF4gMy_"
   },
   "outputs": [],
   "source": [
    "y_pred = model.predict(X_r)"
   ]
  },
  {
   "cell_type": "markdown",
   "metadata": {
    "id": "jZ70e8SPgMy_"
   },
   "source": [
    "# Check Performance Visually"
   ]
  },
  {
   "cell_type": "code",
   "execution_count": null,
   "metadata": {
    "id": "0U1i3PN9gMy_",
    "outputId": "dc030ad3-6e96-4577-bcc6-5e34ab6844d9"
   },
   "outputs": [],
   "source": [
    "plot_imgs(org_imgs=X_r, mask_imgs=y_c, pred_imgs=y_pred, nm_img_to_plot=10)"
   ]
  }
 ],
 "metadata": {
  "colab": {
   "collapsed_sections": [],
   "name": "dendrite_segmentation.ipynb",
   "provenance": []
  },
  "kernelspec": {
   "display_name": "chimad-env",
   "language": "python",
   "name": "chimad-env"
  },
  "language_info": {
   "codemirror_mode": {
    "name": "ipython",
    "version": 3
   },
   "file_extension": ".py",
   "mimetype": "text/x-python",
   "name": "python",
   "nbconvert_exporter": "python",
   "pygments_lexer": "ipython3",
   "version": "3.8.12"
  }
 },
 "nbformat": 4,
 "nbformat_minor": 1
}
