{
 "cells": [
  {
   "cell_type": "code",
   "execution_count": 21,
   "id": "115d1d38-5729-4e74-912b-374d75e5054e",
   "metadata": {},
   "outputs": [],
   "source": [
    "import numpy as np\n",
    "import pandas as pd"
   ]
  },
  {
   "cell_type": "code",
   "execution_count": 30,
   "id": "0bbc0ec9-cc94-4e59-aeda-d363b7f0ba4d",
   "metadata": {},
   "outputs": [],
   "source": [
    "file1 = open('homework.txt', 'r')\n",
    "Lines = file1.readlines()"
   ]
  },
  {
   "cell_type": "code",
   "execution_count": 80,
   "id": "3c83e4c9-7964-49d3-a44a-228e042508d6",
   "metadata": {},
   "outputs": [],
   "source": [
    "data = []\n",
    "\n",
    "for line in Lines:\n",
    "    if \"E[\" in line:\n",
    "        ta = 'training Acc: '\n",
    "        va = 'val Acc: '\n",
    "        PT = 'Parallel threads '\n",
    "\n",
    "        ind_ta = line.find(ta)\n",
    "        ind_va = line.find(va)\n",
    "        ind_PT = line.find(PT)\n",
    "\n",
    "        ta_value = float(line[ind_ta+len(ta):ind_ta+len(ta)+5])\n",
    "        va_value = float(line[ind_va+len(va):ind_va+len(va)+5])\n",
    "        PT_value = float((line[ind_PT+len(PT):ind_PT+len(PT)+3]).replace(',', ''))\n",
    "        data.append([ta_value, va_value, PT_value])"
   ]
  },
  {
   "cell_type": "code",
   "execution_count": 83,
   "id": "4565723f-e2a9-441d-af2a-5a9d9c062e10",
   "metadata": {},
   "outputs": [],
   "source": [
    "df_data = pd.DataFrame(data, columns=['test_accuracy', 'validation_accuracy', 'parallel_threads'])"
   ]
  },
  {
   "cell_type": "code",
   "execution_count": 86,
   "id": "e01478a5-1ad5-46eb-bcd7-6ffee032a57f",
   "metadata": {},
   "outputs": [
    {
     "data": {
      "text/html": [
       "<div>\n",
       "<style scoped>\n",
       "    .dataframe tbody tr th:only-of-type {\n",
       "        vertical-align: middle;\n",
       "    }\n",
       "\n",
       "    .dataframe tbody tr th {\n",
       "        vertical-align: top;\n",
       "    }\n",
       "\n",
       "    .dataframe thead th {\n",
       "        text-align: right;\n",
       "    }\n",
       "</style>\n",
       "<table border=\"1\" class=\"dataframe\">\n",
       "  <thead>\n",
       "    <tr style=\"text-align: right;\">\n",
       "      <th></th>\n",
       "      <th>test_accuracy</th>\n",
       "      <th>validation_accuracy</th>\n",
       "      <th>parallel_threads</th>\n",
       "    </tr>\n",
       "  </thead>\n",
       "  <tbody>\n",
       "    <tr>\n",
       "      <th>0</th>\n",
       "      <td>0.915</td>\n",
       "      <td>0.982</td>\n",
       "      <td>128.0</td>\n",
       "    </tr>\n",
       "    <tr>\n",
       "      <th>1</th>\n",
       "      <td>0.968</td>\n",
       "      <td>0.984</td>\n",
       "      <td>128.0</td>\n",
       "    </tr>\n",
       "    <tr>\n",
       "      <th>2</th>\n",
       "      <td>0.974</td>\n",
       "      <td>0.981</td>\n",
       "      <td>128.0</td>\n",
       "    </tr>\n",
       "    <tr>\n",
       "      <th>3</th>\n",
       "      <td>0.976</td>\n",
       "      <td>0.988</td>\n",
       "      <td>128.0</td>\n",
       "    </tr>\n",
       "    <tr>\n",
       "      <th>4</th>\n",
       "      <td>0.978</td>\n",
       "      <td>0.988</td>\n",
       "      <td>128.0</td>\n",
       "    </tr>\n",
       "  </tbody>\n",
       "</table>\n",
       "</div>"
      ],
      "text/plain": [
       "   test_accuracy  validation_accuracy  parallel_threads\n",
       "0          0.915                0.982             128.0\n",
       "1          0.968                0.984             128.0\n",
       "2          0.974                0.981             128.0\n",
       "3          0.976                0.988             128.0\n",
       "4          0.978                0.988             128.0"
      ]
     },
     "execution_count": 86,
     "metadata": {},
     "output_type": "execute_result"
    }
   ],
   "source": [
    "df_data.pivot(index='parallel_threads', columns='color', values='y')"
   ]
  },
  {
   "cell_type": "code",
   "execution_count": null,
   "id": "e4f2c821-e06f-4489-add4-c880fc8dfc05",
   "metadata": {},
   "outputs": [],
   "source": []
  }
 ],
 "metadata": {
  "kernelspec": {
   "display_name": "Python 3 (ipykernel)",
   "language": "python",
   "name": "python3"
  },
  "language_info": {
   "codemirror_mode": {
    "name": "ipython",
    "version": 3
   },
   "file_extension": ".py",
   "mimetype": "text/x-python",
   "name": "python",
   "nbconvert_exporter": "python",
   "pygments_lexer": "ipython3",
   "version": "3.9.10"
  }
 },
 "nbformat": 4,
 "nbformat_minor": 5
}
