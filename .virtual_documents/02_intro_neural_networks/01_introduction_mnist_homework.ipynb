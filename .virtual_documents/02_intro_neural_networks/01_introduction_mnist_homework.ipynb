


%matplotlib inline

import torch
import torchvision
from torch import nn

import numpy 
import matplotlib.pyplot as plt
import time





training_data = torchvision.datasets.MNIST(
    root="data",
    train=True,
    download=True,
    transform=torchvision.transforms.ToTensor()
)

test_data = torchvision.datasets.MNIST(
    root="data",
    train=False,
    download=True,
    transform=torchvision.transforms.ToTensor()
)


training_data, validation_data = torch.utils.data.random_split(training_data, [0.8, 0.2], generator=torch.Generator().manual_seed(55))


print('MNIST data loaded: train:',len(training_data),' examples, validation: ', len(validation_data), 'examples, test:',len(test_data), 'examples')
print('Input shape', training_data[0][0].shape)





pltsize=1
plt.figure(figsize=(10*pltsize, pltsize))

for i in range(10):
    plt.subplot(1,10,i+1)
    plt.axis('off')
    plt.imshow(numpy.reshape(training_data[i][0], (28, 28)), cmap="gray")
    plt.title('Class: '+str(training_data[i][1]))


batch_size = 128

# The dataloader makes our dataset iterable 
train_dataloader = torch.utils.data.DataLoader(training_data, batch_size=batch_size)
val_dataloader = torch.utils.data.DataLoader(validation_data, batch_size=batch_size)











class LinearClassifier(nn.Module):

    def __init__(self):
        super().__init__()
        
        # First, we need to convert the input image to a vector by using 
        # nn.Flatten(). For MNIST, it means the second dimension 28*28 becomes 784.
        self.flatten = nn.Flatten()
        
        # Here, we add a fully connected ("dense") layer that has 28 x 28 = 784 input nodes 
        #(one for each pixel in the input image) and 10 output nodes (for probabilities of each class).
        self.layer_1 = nn.Linear(28*28, 10)
        
    def forward(self, x):

        x = self.flatten(x)
        x = self.layer_1(x)

        return x





linear_model = LinearClassifier()
print(linear_model)

loss_fn = nn.CrossEntropyLoss()
optimizer = torch.optim.SGD(linear_model.parameters(), lr=0.01)





def train_one_epoch(dataloader, model, loss_fn, optimizer):
    model.train()
    for batch, (X, y) in enumerate(dataloader):
        # forward pass
        pred = model(X)
        loss = loss_fn(pred, y)
        
        # backward pass calculates gradients
        loss.backward()
        
        # take one step with these gradients
        optimizer.step()
        
        # resets the gradients 
        optimizer.zero_grad()


def evaluate(dataloader, model, loss_fn):
    # Set the model to evaluation mode - some NN pieces behave differently during training
    # Unnecessary in this situation but added for best practices
    model.eval()
    size = len(dataloader.dataset)
    num_batches = len(dataloader)
    loss, correct = 0, 0

    # We can save computation and memory by not calculating gradients here - we aren't optimizing 
    with torch.no_grad():
        # loop over all of the batches
        for X, y in dataloader:
            pred = model(X)
            loss += loss_fn(pred, y).item()
            # how many are correct in this batch? Tracking for accuracy 
            correct += (pred.argmax(1) == y).type(torch.float).sum().item()

    loss /= num_batches
    correct /= size
    
    accuracy = 100*correct
    return accuracy, loss


%%time

epochs = 5
for j in range(epochs):
    train_one_epoch(train_dataloader, linear_model, loss_fn, optimizer)
    
    # checking on the training loss and accuracy once per epoch
    acc, loss = evaluate(train_dataloader, linear_model, loss_fn)
    print(f"Epoch {j}: training loss: {loss}, accuracy: {acc}")


# Visualize how the model is doing on the first 10 examples
pltsize=1
plt.figure(figsize=(10*pltsize, pltsize))
linear_model.eval()
batch = next(iter(train_dataloader))
predictions = linear_model(batch[0])

for i in range(10):
    plt.subplot(1,10,i+1)
    plt.axis('off')
    plt.imshow(batch[0][i,0,:,:], cmap="gray")
    plt.title('%d' % predictions[i,:].argmax())








acc_val, loss_val = evaluate(val_dataloader, linear_model, loss_fn)
print("Validation loss: %.4f, validation accuracy: %.2f%%" % (loss_val, acc_val))





def show_failures(model, dataloader, maxtoshow=10):
    model.eval()
    batch = next(iter(dataloader))
    predictions = model(batch[0])
    
    rounded = predictions.argmax(1)
    errors = rounded!=batch[1]
    print('Showing max', maxtoshow, 'first failures. '
          'The predicted class is shown first and the correct class in parentheses.')
    ii = 0
    plt.figure(figsize=(maxtoshow, 1))
    for i in range(batch[0].shape[0]):
        if ii>=maxtoshow:
            break
        if errors[i]:
            plt.subplot(1, maxtoshow, ii+1)
            plt.axis('off')
            plt.imshow(batch[0][i,0,:,:], cmap="gray")
            plt.title("%d (%d)" % (rounded[i], batch[1][i]))
            ii = ii + 1





show_failures(linear_model, val_dataloader)











class NonlinearClassifier(nn.Module):

    def __init__(self):
        super().__init__()
        self.flatten = nn.Flatten()
        self.layers_stack = nn.Sequential(
            nn.Linear(28*28, 50),
            nn.ReLU(),
            #nn.Dropout(0.2),
            nn.Linear(50, 50),
            nn.ReLU(),
            #nn.Dropout(0.2),
            nn.Linear(50, 10)
        )
        
    def forward(self, x):
        x = self.flatten(x)
        x = self.layers_stack(x)

        return x














import torch.nn as nn

class NonlinearClassifier(nn.Module):

    def __init__(self):
        super(NonlinearClassifier, self).__init__()
        self.flatten = nn.Flatten()
        self.layers_stack = nn.Sequential(
            nn.Linear(28*28, 128),           # Increased to 128 units
            nn.BatchNorm1d(128),             # Added BatchNorm
            nn.LeakyReLU(),                  # Replaced with LeakyReLU
            nn.Dropout(0.2),                 # Dropout to prevent overfitting
            nn.Linear(128, 64),              # Added more neurons
            nn.BatchNorm1d(64),              # Added BatchNorm
            nn.LeakyReLU(),                  # LeakyReLU again
            nn.Dropout(0.2),                 # Dropout
            nn.Linear(64, 10)                # Output layer (no activation here)
        )

    def forward(self, x):
        x = self.flatten(x)
        x = self.layers_stack(x)
        return x





import torch.optim as optim

non_linear_model = NonlinearClassifier()
print(non_linear_model)

loss_fn = nn.CrossEntropyLoss()

# Optimizer with learning rate scheduler
optimizer = optim.Adam(non_linear_model.parameters(), lr=0.001)

# Add a learning rate scheduler to decrease the learning rate over time
scheduler = optim.lr_scheduler.StepLR(optimizer, step_size=10, gamma=0.1)  # Decrease LR by a factor of 10 every 10 epochs





import torch

def train_one_epoch(dataloader, model, loss_fn, optimizer, device):
    model.train()  # Set the model to training mode
    total_loss = 0.0

    for batch, (X, y) in enumerate(dataloader):
        # Move data to the correct device (GPU or CPU)
        X, y = X.to(device), y.to(device)

        # Forward pass: compute predictions
        pred = model(X)
        loss = loss_fn(pred, y)

        # Backward pass: compute gradients
        loss.backward()

        # Gradient clipping (optional)
        torch.nn.utils.clip_grad_norm_(model.parameters(), max_norm=1.0)

        # Update weights
        optimizer.step()

        # Reset gradients
        optimizer.zero_grad()

        # Accumulate the loss for monitoring
        total_loss += loss.item()

        # Optional: print loss every few batches
        if batch % 100 == 0:
            print(f"Batch {batch}, Loss: {loss.item():.4f}")

    # Return average loss over all batches
    avg_loss = total_loss / len(dataloader)
    return avg_loss





import torch

def evaluate(dataloader, model, loss_fn, device):
    model.eval()  # Set the model to evaluation mode
    size = len(dataloader.dataset)
    num_batches = len(dataloader)
    total_loss = 0.0
    total_correct = 0.0

    # We don't need gradients during evaluation, so use torch.no_grad() for efficiency
    with torch.no_grad():
        for X, y in dataloader:
            # Move data to the correct device (GPU or CPU)
            X, y = X.to(device), y.to(device)

            # Forward pass: get predictions
            pred = model(X)

            # Calculate the loss
            total_loss += loss_fn(pred, y).item()

            # Calculate the number of correct predictions
            total_correct += (pred.argmax(1) == y).type(torch.float).sum().item()

    # Average loss over all batches
    avg_loss = total_loss / num_batches

    # Accuracy as percentage
    accuracy = (total_correct / size) * 100

    return {"accuracy": accuracy, "loss": avg_loss}





import time
from tqdm import tqdm  # Progress bar

epochs = 20
device = torch.device("cuda" if torch.cuda.is_available() else "cpu")

# Place the model on the appropriate device
non_linear_model.to(device)

# Training loop with progress tracking and enhanced logging
for j in range(epochs):
    start_time = time.time()

    # Train the model for one epoch
    train_loss = train_one_epoch(train_dataloader, non_linear_model, loss_fn, optimizer, device)

    # Evaluate the model on the training set (or preferably on a validation set if available)
    train_metrics = evaluate(train_dataloader, non_linear_model, loss_fn, device)
    
    # End of epoch: time and performance tracking
    epoch_time = time.time() - start_time
    print(f"Epoch {j+1}/{epochs} | Time: {epoch_time:.2f}s | "
          f"Training Loss: {train_metrics['loss']:.4f} | "
          f"Training Accuracy: {train_metrics['accuracy']:.2f}%")

    # Optionally: Evaluate on a validation set (uncomment if you have a validation set)
    val_metrics = evaluate(val_dataloader, non_linear_model, loss_fn, device)
    print(f"Validation Loss: {val_metrics['loss']:.4f}, Validation Accuracy: {val_metrics['accuracy']:.2f}%)





# Evaluate model on validation dataset
val_metrics = evaluate(val_dataloader, non_linear_model, loss_fn, device)

# Print the validation loss and accuracy with better formatting
print(f"Validation loss: {val_metrics['loss']:.4f}, Validation accuracy: {val_metrics['accuracy']:.2f}%")





# Ensure the test dataloader is ready for evaluation
test_dataloader = torch.utils.data.DataLoader(test_data, batch_size=batch_size)

# Move model to the correct device
non_linear_model.to(device)

# Evaluate the model on the test dataset
test_metrics = evaluate(test_dataloader, non_linear_model, loss_fn, device)

# Print the test loss and accuracy
print(f"Test loss: {test_metrics['loss']:.4f}, Test accuracy: {test_metrics['accuracy']:.2f}%")



