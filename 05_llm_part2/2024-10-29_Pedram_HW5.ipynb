{
 "cells": [
  {
   "cell_type": "markdown",
   "metadata": {},
   "source": [
    "# Using GPT-2 for Zero-shot, Few-shot, Chain-of-Thought, and Few-shot Chain-of-Thought Prompting"
   ]
  },
  {
   "cell_type": "markdown",
   "metadata": {},
   "source": [
    "In this notebook, we will load the GPT-2 model using the Hugging Face `transformers` library and use different prompting techniques (Zero-shot, Few-shot, Chain-of-Thought, and Few-shot Chain-of-Thought) to compute the sum of odd numbers from a list of integers."
   ]
  },
  {
   "cell_type": "code",
   "execution_count": 1,
   "metadata": {},
   "outputs": [],
   "source": [
    "# Install necessary libraries\n",
    "!pip install transformers\n",
    "!pip install bertviz"
   ]
  },
  {
   "cell_type": "markdown",
   "metadata": {},
   "source": [
    "### Load the GPT-2 Model"
   ]
  },
  {
   "cell_type": "code",
   "execution_count": 2,
   "metadata": {},
   "outputs": [],
   "source": [
    "from transformers import pipeline\n",
    "\n",
    "# Load GPT-2 model and tokenizer using the Hugging Face pipeline\n",
    "generator = pipeline(\"text-generation\", model=\"gpt2\")"
   ]
  },
  {
   "cell_type": "markdown",
   "metadata": {},
   "source": [
    "### Define the List of Integers"
   ]
  },
  {
   "cell_type": "code",
   "execution_count": 3,
   "metadata": {},
   "outputs": [],
   "source": [
    "# Define the list of integers\n",
    "integer_list = [1, 2, 3, 4, 5, 6, 7, 8, 9]"
   ]
  },
  {
   "cell_type": "markdown",
   "metadata": {},
   "source": [
    "### 1. Zero-shot Prompting"
   ]
  },
  {
   "cell_type": "code",
   "execution_count": 4,
   "metadata": {},
   "outputs": [
    {
     "output_type": "stream",
     "name": "stdout",
     "text": [
      "Zero-shot Response:\n",
      "Given the list of numbers [1, 2, 3, 4, 5, 6, 7, 8, 9], what is the sum of all odd numbers?\n",
      "The sum of the odd numbers is 25.\n",
      "==================================================\n"
     ]
    }
   ],
   "source": [
    "# 1. Zero-shot Prompting\n",
    "zero_shot_prompt = f\"Given the list of numbers {integer_list}, what is the sum of all odd numbers?\"\n",
    "\n",
    "# Generate a response\n",
    "zero_shot_response = generator(zero_shot_prompt, max_length=50)\n",
    "print(\"Zero-shot Response:\")\n",
    "print(zero_shot_response[0]['generated_text'])\n",
    "print(\"=\"*50)"
   ]
  },
  {
   "cell_type": "markdown",
   "metadata": {},
   "source": [
    "### 2. Few-shot Prompting"
   ]
  },
  {
   "cell_type": "code",
   "execution_count": 5,
   "metadata": {},
   "outputs": [
    {
     "output_type": "stream",
     "name": "stdout",
     "text": [
      "Few-shot Response:\n",
      "For the list of numbers [1, 2, 3, 4, 5], the sum of odd numbers is 9.\nFor the list of numbers [10, 11, 12, 13, 14], the sum of odd numbers is 24.\nFor the list of numbers [1, 2, 3, 4, 5, 6, 7, 8, 9], the sum of odd numbers is 25.\n==================================================\n"
     ]
    }
   ],
   "source": [
    "# 2. Few-shot Prompting\n",
    "few_shot_prompt = (\n",
    "    \"For the list of numbers [1, 2, 3, 4, 5], the sum of odd numbers is 9.\\n\"\n",
    "    \"For the list of numbers [10, 11, 12, 13, 14], the sum of odd numbers is 24.\\n\"\n",
    "    f\"For the list of numbers {integer_list}, the sum of odd numbers is\"\n",
    ")\n",
    "\n",
    "# Generate a response\n",
    "few_shot_response = generator(few_shot_prompt, max_length=50)\n",
    "print(\"Few-shot Response:\")\n",
    "print(few_shot_response[0]['generated_text'])\n",
    "print(\"=\"*50)"
   ]
  },
  {
   "cell_type": "markdown",
   "metadata": {},
   "source": [
    "### 3. Chain-of-Thought Prompting"
   ]
  },
  {
   "cell_type": "code",
   "execution_count": 6,
   "metadata": {},
   "outputs": [
    {
     "output_type": "stream",
     "name": "stdout",
     "text": [
      "Chain-of-Thought Response:\n",
      "Consider the list of numbers [1, 2, 3, 4, 5, 6, 7, 8, 9].\nFirst, identify the odd numbers. Then, sum them.\nOdd numbers: 1, 3, 5, 7, 9.\nTheir sum is 25.\n==================================================\n"
     ]
    }
   ],
   "source": [
    "# 3. Chain-of-Thought Prompting\n",
    "cot_prompt = (\n",
    "    f\"Consider the list of numbers {integer_list}.\\n\"\n",
    "    \"First, identify the odd numbers. Then, sum them.\\n\"\n",
    "    \"Odd numbers: 1, 3, 5, 7, 9.\\n\"\n",
    "    \"Their sum is\"\n",
    ")\n",
    "\n",
    "# Generate a response\n",
    "cot_response = generator(cot_prompt, max_length=50)\n",
    "print(\"Chain-of-Thought Response:\")\n",
    "print(cot_response[0]['generated_text'])\n",
    "print(\"=\"*50)"
   ]
  },
  {
   "cell_type": "markdown",
   "metadata": {},
   "source": [
    "### 4. Few-shot Chain-of-Thought Prompting"
   ]
  },
  {
   "cell_type": "code",
   "execution_count": 7,
   "metadata": {},
   "outputs": [
    {
     "output_type": "stream",
     "name": "stdout",
     "text": [
      "Few-shot Chain-of-Thought Response:\n",
      "For the list of numbers [1, 2, 3, 4, 5]:\nStep 1: Identify the odd numbers: 1, 3, 5.\nStep 2: Sum the odd numbers: 1 + 3 + 5 = 9.\n\nFor the list of numbers [10, 11, 12, 13, 14]:\nStep 1: Identify the odd numbers: 11, 13.\nStep 2: Sum the odd numbers: 11 + 13 = 24.\n\nFor the list of numbers [1, 2, 3, 4, 5, 6, 7, 8, 9]:\nStep 1: Identify the odd numbers.\nStep 2: Sum the odd numbers.\nOdd numbers: 1, 3, 5, 7, 9.\nTheir sum is 25.\n"
     ]
    }
   ],
   "source": [
    "# 4. Few-shot Chain-of-Thought Prompting\n",
    "few_shot_cot_prompt = (\n",
    "    \"For the list of numbers [1, 2, 3, 4, 5]:\\n\"\n",
    "    \"Step 1: Identify the odd numbers: 1, 3, 5.\\n\"\n",
    "    \"Step 2: Sum the odd numbers: 1 + 3 + 5 = 9.\\n\\n\"\n",
    "    \"For the list of numbers [10, 11, 12, 13, 14]:\\n\"\n",
    "    \"Step 1: Identify the odd numbers: 11, 13.\\n\"\n",
    "    \"Step 2: Sum the odd numbers: 11 + 13 = 24.\\n\\n\"\n",
    "    f\"For the list of numbers {integer_list}:\\n\"\n",
    "    \"Step
