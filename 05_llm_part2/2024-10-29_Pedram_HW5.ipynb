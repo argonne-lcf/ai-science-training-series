{
  "cells": [
    {
      "cell_type": "markdown",
      "metadata": {
        "id": "E04Dh9pKQKEA"
      },
      "source": [
        "# HW5.1: Using GPT-2 for Zero-shot, Few-shot, Chain-of-Thought, and Few-shot Chain-of-Thought Prompting"
      ],
      "id": "E04Dh9pKQKEA"
    },
    {
      "cell_type": "markdown",
      "metadata": {
        "id": "ZJMr2uSqQKEB"
      },
      "source": [
        "In this howework, I will load the GPT-2 model (rather than provided model in the lecture class due to very invasive privacy policies of the model) using the Hugging Face `transformers` library and use different prompting techniques (Zero-shot, Few-shot, Chain-of-Thought, and Few-shot Chain-of-Thought) to compute the sum of odd numbers from a list of integers."
      ],
      "id": "ZJMr2uSqQKEB"
    },
    {
      "cell_type": "code",
      "execution_count": 2,
      "metadata": {
        "id": "OiyVAxQBQKEB"
      },
      "outputs": [],
      "source": [
        "# Install necessary libraries\n",
        "%%capture\n",
        "!pip install transformers"
      ],
      "id": "OiyVAxQBQKEB"
    },
    {
      "cell_type": "markdown",
      "metadata": {
        "id": "VdIEuZpwQKEC"
      },
      "source": [
        "### Load the GPT-2 Model"
      ],
      "id": "VdIEuZpwQKEC"
    },
    {
      "cell_type": "code",
      "execution_count": 18,
      "metadata": {
        "colab": {
          "base_uri": "https://localhost:8080/"
        },
        "id": "hH5Fd_vzQKEC",
        "outputId": "400d70de-7730-4f90-e038-a548fac9ccf7"
      },
      "outputs": [
        {
          "output_type": "stream",
          "name": "stderr",
          "text": [
            "/usr/local/lib/python3.10/dist-packages/transformers/tokenization_utils_base.py:1601: FutureWarning: `clean_up_tokenization_spaces` was not set. It will be set to `True` by default. This behavior will be depracted in transformers v4.45, and will be then set to `False` by default. For more details check this issue: https://github.com/huggingface/transformers/issues/31884\n",
            "  warnings.warn(\n"
          ]
        }
      ],
      "source": [
        "from transformers import pipeline\n",
        "# Load GPT-2 model and tokenizer using the Hugging Face pipeline\n",
        "generator = pipeline(\"text-generation\", model=\"gpt2\")"
      ],
      "id": "hH5Fd_vzQKEC"
    },
    {
      "cell_type": "markdown",
      "metadata": {
        "id": "BNydasUVQKEC"
      },
      "source": [
        "### Define the List of Integers"
      ],
      "id": "BNydasUVQKEC"
    },
    {
      "cell_type": "code",
      "execution_count": 4,
      "metadata": {
        "id": "puEN6LGPQKEC"
      },
      "outputs": [],
      "source": [
        "# Define the list of integers\n",
        "integer_list = [1, 2, 3, 4, 5, 6, 7, 8, 9]"
      ],
      "id": "puEN6LGPQKEC"
    },
    {
      "cell_type": "markdown",
      "metadata": {
        "id": "Sm86H3U1QKEC"
      },
      "source": [
        "### 1. Zero-shot Prompting"
      ],
      "id": "Sm86H3U1QKEC"
    },
    {
      "cell_type": "code",
      "execution_count": 6,
      "metadata": {
        "colab": {
          "base_uri": "https://localhost:8080/"
        },
        "id": "_xfltsMpQKEC",
        "outputId": "c91f61e5-0a47-485e-bc52-057f1138b264"
      },
      "outputs": [
        {
          "output_type": "stream",
          "name": "stderr",
          "text": [
            "Setting `pad_token_id` to `eos_token_id`:50256 for open-end generation.\n"
          ]
        },
        {
          "output_type": "stream",
          "name": "stdout",
          "text": [
            "Zero-shot Response:\n",
            "Given the list of numbers [1, 2, 3, 4, 5, 6, 7, 8, 9], what is the sum of all odd numbers? We can ask \"Well, you know something? It seems like a small number.\n",
            "==================================================\n"
          ]
        }
      ],
      "source": [
        "# 1. Zero-shot Prompting\n",
        "zero_shot_prompt = f\"Given the list of numbers {integer_list}, what is the sum of all odd numbers?\"\n",
        "\n",
        "# Generate a response\n",
        "zero_shot_response = generator(zero_shot_prompt, max_length=50)\n",
        "print(\"Zero-shot Response:\")\n",
        "print(zero_shot_response[0]['generated_text'])\n",
        "print(\"=\"*50)"
      ],
      "id": "_xfltsMpQKEC"
    },
    {
      "cell_type": "markdown",
      "metadata": {
        "id": "RhHEUxB6QKED"
      },
      "source": [
        "### 2. Few-shot Prompting"
      ],
      "id": "RhHEUxB6QKED"
    },
    {
      "cell_type": "code",
      "execution_count": 10,
      "metadata": {
        "colab": {
          "base_uri": "https://localhost:8080/"
        },
        "id": "D84kzKEYQKED",
        "outputId": "ae210a0a-ce53-41ee-9c3b-3b05f6b2744c"
      },
      "outputs": [
        {
          "output_type": "stream",
          "name": "stderr",
          "text": [
            "Setting `pad_token_id` to `eos_token_id`:50256 for open-end generation.\n"
          ]
        },
        {
          "output_type": "stream",
          "name": "stdout",
          "text": [
            "Few-shot Response:\n",
            "For the list of numbers [1, 2, 3, 4, 5], the sum of odd numbers is 9.\n",
            "For the list of numbers [10, 11, 12, 13, 14], the sum of odd numbers is 24.\n",
            "For the list of numbers [1, 2, 3, 4, 5, 6, 7, 8, 9], the sum of odd numbers is 35.\n",
            "For the list of numbers [2, 3, 4, 5, 6, 7, 8, 9], the sum of odd numbers is 37.\n",
            "For the list of numbers [1, 2, 3, 4, 5,\n",
            "==================================================\n"
          ]
        }
      ],
      "source": [
        "# 2. Few-shot Prompting\n",
        "few_shot_prompt = (\n",
        "    \"For the list of numbers [1, 2, 3, 4, 5], the sum of odd numbers is 9.\\n\"\n",
        "    \"For the list of numbers [10, 11, 12, 13, 14], the sum of odd numbers is 24.\\n\"\n",
        "    f\"For the list of numbers {integer_list}, the sum of odd numbers is\"\n",
        ")\n",
        "\n",
        "# Generate a response using max_new_tokens\n",
        "few_shot_response = generator(few_shot_prompt, max_new_tokens=50)\n",
        "print(\"Few-shot Response:\")\n",
        "print(few_shot_response[0]['generated_text'])\n",
        "print(\"=\"*50)"
      ],
      "id": "D84kzKEYQKED"
    },
    {
      "cell_type": "markdown",
      "metadata": {
        "id": "k7TcznL5QKED"
      },
      "source": [
        "### 3. Chain-of-Thought Prompting"
      ],
      "id": "k7TcznL5QKED"
    },
    {
      "cell_type": "code",
      "execution_count": 13,
      "metadata": {
        "colab": {
          "base_uri": "https://localhost:8080/"
        },
        "id": "PnuuhrKcQKED",
        "outputId": "166312bd-bd9e-4c63-a365-ce4c68470cc9"
      },
      "outputs": [
        {
          "output_type": "stream",
          "name": "stderr",
          "text": [
            "Setting `pad_token_id` to `eos_token_id`:50256 for open-end generation.\n"
          ]
        },
        {
          "output_type": "stream",
          "name": "stdout",
          "text": [
            "Chain-of-Thought Response:\n",
            "Consider the list of numbers [1, 2, 3, 4, 5, 6, 7, 8, 9].\n",
            "First, identify the odd numbers. Then, sum them.\n",
            "Odd numbers: 1, 3, 5, 7, 9.\n",
            "Their sum is 1, and hence, of integers 2, 3, 5, 7, 9. The remaining numbers are not even integers 1, 2, and 3. The sum of the numbers on the left is 1/2. The sum on the right is\n",
            "==================================================\n"
          ]
        }
      ],
      "source": [
        "# 3. Chain-of-Thought Prompting\n",
        "cot_prompt = (\n",
        "    f\"Consider the list of numbers {integer_list}.\\n\"\n",
        "    \"First, identify the odd numbers. Then, sum them.\\n\"\n",
        "    \"Odd numbers: 1, 3, 5, 7, 9.\\n\"\n",
        "    \"Their sum is\"\n",
        ")\n",
        "\n",
        "# Generate a response\n",
        "cot_response = generator(cot_prompt, max_new_tokens=50)\n",
        "print(\"Chain-of-Thought Response:\")\n",
        "print(cot_response[0]['generated_text'])\n",
        "print(\"=\"*50)"
      ],
      "id": "PnuuhrKcQKED"
    },
    {
      "cell_type": "markdown",
      "metadata": {
        "id": "SKjvcDiuQKEE"
      },
      "source": [
        "### 4. Few-shot Chain-of-Thought Prompting"
      ],
      "id": "SKjvcDiuQKEE"
    },
    {
      "cell_type": "code",
      "execution_count": 15,
      "metadata": {
        "colab": {
          "base_uri": "https://localhost:8080/"
        },
        "id": "9LnroMa9QKEE",
        "outputId": "5933a534-111e-43ab-c1ed-cc68b83e0c22"
      },
      "outputs": [
        {
          "output_type": "stream",
          "name": "stderr",
          "text": [
            "Setting `pad_token_id` to `eos_token_id`:50256 for open-end generation.\n"
          ]
        },
        {
          "output_type": "stream",
          "name": "stdout",
          "text": [
            "Few-shot Chain-of-Thought Response:\n",
            "For the list of numbers [1, 2, 3, 4, 5]:\n",
            "Step 1: Identify the odd numbers: 1, 3, 5.\n",
            "Step 2: Sum the odd numbers: 1 + 3 + 5 = 9.\n",
            "\n",
            "For the list of numbers [10, 11, 12, 13, 14]:\n",
            "Step 1: Identify the odd numbers: 11, 13.\n",
            "Step 2: Sum the odd numbers: 11 + 13 = 24.\n",
            "\n",
            "For the list of numbers [1, 2, 3, 4, 5, 6, 7, 8, 9]:\n",
            "Step 1: Identify the odd numbers.\n",
            "Step 2: Sum the odd numbers.\n",
            "\n",
            "For the list of numbers [0-9]:\n",
            "\n",
            "Step 1: Identify the odd numbers.\n",
            "\n",
            "Step 2: Sum the odd numbers.\n",
            "\n",
            "For the list of numbers [1, 2, 3, 4, 5, 6, 7, 8, 9]:\n",
            "\n",
            "Step 1: Identify the odd numbers.\n",
            "\n",
            "Step 2: Sum the odd numbers.\n",
            "\n",
            "For the list of numbers [1, 2, 3, 4, 5, 6,\n"
          ]
        }
      ],
      "source": [
        "# 4. Few-shot Chain-of-Thought Prompting\n",
        "few_shot_cot_prompt = (\n",
        "    \"For the list of numbers [1, 2, 3, 4, 5]:\\n\"\n",
        "    \"Step 1: Identify the odd numbers: 1, 3, 5.\\n\"\n",
        "    \"Step 2: Sum the odd numbers: 1 + 3 + 5 = 9.\\n\\n\"\n",
        "    \"For the list of numbers [10, 11, 12, 13, 14]:\\n\"\n",
        "    \"Step 1: Identify the odd numbers: 11, 13.\\n\"\n",
        "    \"Step 2: Sum the odd numbers: 11 + 13 = 24.\\n\\n\"\n",
        "    f\"For the list of numbers {integer_list}:\\n\"\n",
        "    \"Step 1: Identify the odd numbers.\\n\"\n",
        "    \"Step 2: Sum the odd numbers.\"\n",
        ")\n",
        "\n",
        "# Generate a response\n",
        "few_shot_cot_response = generator(few_shot_cot_prompt, max_new_tokens=100)\n",
        "print(\"Few-shot Chain-of-Thought Response:\")\n",
        "print(few_shot_cot_response[0]['generated_text'])"
      ],
      "id": "9LnroMa9QKEE"
    },
    {
      "cell_type": "markdown",
      "metadata": {
        "id": "WoRTJ9NPQKEF"
      },
      "source": [
        "## Observations and Learnings"
      ],
      "id": "WoRTJ9NPQKEF"
    },
    {
      "cell_type": "markdown",
      "metadata": {
        "id": "IJXJRt-BQKEF"
      },
      "source": [
        "- **Zero-shot prompting** provides a direct answer, but sometimes misses intermediate steps.\n",
        "- **Few-shot prompting** improves accuracy by providing examples, though the model may still miss steps in reasoning.\n",
        "- **Chain-of-thought prompting** explicitly encourages step-by-step reasoning, leading to clearer and more accurate responses.\n",
        "- **Few-shot Chain-of-thought prompting** combines the benefits of examples and reasoning, providing the most detailed and accurate responses."
      ],
      "id": "IJXJRt-BQKEF"
    },
    {
      "cell_type": "markdown",
      "source": [
        "# HW5.2: Exploring the Effects of the Temperature Parameter"
      ],
      "metadata": {
        "id": "QG_tWM94SUTC"
      },
      "id": "QG_tWM94SUTC"
    },
    {
      "cell_type": "markdown",
      "source": [
        "To explore the effects of the temperature parameter, we will modify our existing notebook to experiment with different values of temperature. In text generation models like GPT-2, the temperature parameter controls the randomness of predictions:\n",
        "\n",
        "* **High temperature** (e.g., 1.0 or higher) encourages the model to take more risks, generating more diverse and sometimes creative responses.\n",
        "* **Low temperature** (e.g., 0.2 or 0.5) makes the model more conservative, leaning towards more predictable and often safer outputs."
      ],
      "metadata": {
        "id": "ZPUlg8H7SmhD"
      },
      "id": "ZPUlg8H7SmhD"
    },
    {
      "cell_type": "code",
      "source": [
        "# 5. Experimenting with the Temperature Parameter\n",
        "def generate_with_temperature(prompt, temp):\n",
        "    response = generator(prompt, max_length=100, temperature=temp)\n",
        "    return response[0]['generated_text']\n",
        "\n",
        "# Try different temperature values\n",
        "temps = [0.2, 0.5, 0.8, 1.0, 1.5]\n",
        "\n",
        "# Test with Zero-shot prompt as an example\n",
        "prompt = f\"Given the list of numbers {integer_list}, what is the sum of all odd numbers?\"\n",
        "\n",
        "print(\"Exploring Temperature Effects on GPT-2 Outputs:\")\n",
        "for temp in temps:\n",
        "    print(f\"\\nTemperature: {temp}\")\n",
        "    output = generate_with_temperature(prompt, temp)\n",
        "    print(output)\n",
        "    print(\"=\" * 50)"
      ],
      "metadata": {
        "id": "SmhSFG6DSiqV",
        "outputId": "2ff61276-8dc0-41d4-bb53-fc9401db4168",
        "colab": {
          "base_uri": "https://localhost:8080/"
        }
      },
      "id": "SmhSFG6DSiqV",
      "execution_count": 19,
      "outputs": [
        {
          "output_type": "stream",
          "name": "stderr",
          "text": [
            "Truncation was not explicitly activated but `max_length` is provided a specific value, please use `truncation=True` to explicitly truncate examples to max length. Defaulting to 'longest_first' truncation strategy. If you encode pairs of sequences (GLUE-style) with the tokenizer you can select this strategy more precisely by providing a specific strategy to `truncation`.\n",
            "Setting `pad_token_id` to `eos_token_id`:50256 for open-end generation.\n"
          ]
        },
        {
          "output_type": "stream",
          "name": "stdout",
          "text": [
            "Exploring Temperature Effects on GPT-2 Outputs:\n",
            "\n",
            "Temperature: 0.2\n"
          ]
        },
        {
          "output_type": "stream",
          "name": "stderr",
          "text": [
            "Setting `pad_token_id` to `eos_token_id`:50256 for open-end generation.\n"
          ]
        },
        {
          "output_type": "stream",
          "name": "stdout",
          "text": [
            "Given the list of numbers [1, 2, 3, 4, 5, 6, 7, 8, 9], what is the sum of all odd numbers?\n",
            "\n",
            "The answer is that the sum of all odd numbers is the sum of all odd numbers.\n",
            "\n",
            "The sum of all odd numbers is the sum of all odd numbers.\n",
            "\n",
            "The sum of all odd numbers is the sum of all odd numbers.\n",
            "\n",
            "The sum of all odd numbers is the sum of all odd numbers\n",
            "==================================================\n",
            "\n",
            "Temperature: 0.5\n"
          ]
        },
        {
          "output_type": "stream",
          "name": "stderr",
          "text": [
            "Setting `pad_token_id` to `eos_token_id`:50256 for open-end generation.\n"
          ]
        },
        {
          "output_type": "stream",
          "name": "stdout",
          "text": [
            "Given the list of numbers [1, 2, 3, 4, 5, 6, 7, 8, 9], what is the sum of all odd numbers?\n",
            "\n",
            "[1, 2, 3, 4, 5, 6, 7, 8, 9]\n",
            "\n",
            "The first number is the sum of all odd numbers.\n",
            "\n",
            "The second number is the sum of all odd numbers.\n",
            "\n",
            "The third number is the sum of all odd numbers.\n",
            "\n",
            "The fourth number is the\n",
            "==================================================\n",
            "\n",
            "Temperature: 0.8\n"
          ]
        },
        {
          "output_type": "stream",
          "name": "stderr",
          "text": [
            "Setting `pad_token_id` to `eos_token_id`:50256 for open-end generation.\n"
          ]
        },
        {
          "output_type": "stream",
          "name": "stdout",
          "text": [
            "Given the list of numbers [1, 2, 3, 4, 5, 6, 7, 8, 9], what is the sum of all odd numbers?\n",
            "\n",
            "A very obvious solution to this problem is to think of the number of things which have nothing to do with the given number, not to have anything to do with the given number, in the sense that nothing is not a thing to do with the given number. Therefore, it is only possible for the number of things to have\n",
            "==================================================\n",
            "\n",
            "Temperature: 1.0\n"
          ]
        },
        {
          "output_type": "stream",
          "name": "stderr",
          "text": [
            "Setting `pad_token_id` to `eos_token_id`:50256 for open-end generation.\n"
          ]
        },
        {
          "output_type": "stream",
          "name": "stdout",
          "text": [
            "Given the list of numbers [1, 2, 3, 4, 5, 6, 7, 8, 9], what is the sum of all odd numbers? We need to calculate the sum of the numbers (assuming 1 is \"right\"). The second way to make this work is to multiply the number of odd numbers by the number of integers. The number of (indifferent) squares around these numbers cannot be less than or equal to the x-coordinate. Suppose we're trying to solve\n",
            "==================================================\n",
            "\n",
            "Temperature: 1.5\n",
            "Given the list of numbers [1, 2, 3, 4, 5, 6, 7, 8, 9], what is the sum of all odd numbers? For example, (6/39) = 10. As the figure here contains numbers 10-28, we think so in principle; indeed, 10-28 makes our hypothetical situation very interesting to mathematicians: let's set about making the number 7 appear as the same proportion twice: instead let's use the same trick as before on\n",
            "==================================================\n"
          ]
        }
      ]
    },
    {
      "cell_type": "markdown",
      "source": [
        "## Observations on the Effect of Temperature\n",
        "\n",
        "- **Temperature = 0.2:** The model becomes very deterministic, often providing the most common and conservative responses. Responses tend to be more factual, with little creativity or variation.\n",
        "  \n",
        "- **Temperature = 0.5:** Still fairly conservative but slightly more flexible in terms of language. This is usually a good balance between creativity and accuracy for many tasks.\n",
        "  \n",
        "- **Temperature = 0.8:** The responses become more diverse and creative, but there is a slight risk of factual errors or odd choices in phrasing. The model takes more risks in word choice.\n",
        "  \n",
        "- **Temperature = 1.0:** The outputs are much more random and diverse, which can lead to both more creative but also less coherent or factual responses. This setting encourages exploration in text generation.\n",
        "  \n",
        "- **Temperature = 1.5:** The model becomes highly creative, sometimes generating text that appears disjointed or less relevant to the prompt. This level of randomness can be useful for creative writing, but may be too chaotic for structured tasks."
      ],
      "metadata": {
        "id": "iRXqJtlzSxuH"
      },
      "id": "iRXqJtlzSxuH"
    }
  ],
  "metadata": {
    "kernelspec": {
      "display_name": "Python 3",
      "language": "python",
      "name": "python3"
    },
    "language_info": {
      "name": "python",
      "version": "3.8"
    },
    "colab": {
      "provenance": []
    }
  },
  "nbformat": 4,
  "nbformat_minor": 5
}