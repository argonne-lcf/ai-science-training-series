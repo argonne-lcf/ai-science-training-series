{
  "cells": [
    {
      "cell_type": "markdown",
      "metadata": {
        "id": "E04Dh9pKQKEA"
      },
      "source": [
        "# Using GPT-2 for Zero-shot, Few-shot, Chain-of-Thought, and Few-shot Chain-of-Thought Prompting"
      ],
      "id": "E04Dh9pKQKEA"
    },
    {
      "cell_type": "markdown",
      "metadata": {
        "id": "ZJMr2uSqQKEB"
      },
      "source": [
        "In this notebook, we will load the GPT-2 model using the Hugging Face `transformers` library and use different prompting techniques (Zero-shot, Few-shot, Chain-of-Thought, and Few-shot Chain-of-Thought) to compute the sum of odd numbers from a list of integers."
      ],
      "id": "ZJMr2uSqQKEB"
    },
    {
      "cell_type": "code",
      "execution_count": 2,
      "metadata": {
        "id": "OiyVAxQBQKEB"
      },
      "outputs": [],
      "source": [
        "# Install necessary libraries\n",
        "%%capture\n",
        "!pip install transformers"
      ],
      "id": "OiyVAxQBQKEB"
    },
    {
      "cell_type": "markdown",
      "metadata": {
        "id": "VdIEuZpwQKEC"
      },
      "source": [
        "### Load the GPT-2 Model"
      ],
      "id": "VdIEuZpwQKEC"
    },
    {
      "cell_type": "code",
      "execution_count": null,
      "metadata": {
        "id": "hH5Fd_vzQKEC"
      },
      "outputs": [],
      "source": [
        "from transformers import pipeline\n",
        "\n",
        "# Load GPT-2 model and tokenizer using the Hugging Face pipeline\n",
        "generator = pipeline(\"text-generation\", model=\"gpt2\")"
      ],
      "id": "hH5Fd_vzQKEC"
    },
    {
      "cell_type": "markdown",
      "metadata": {
        "id": "BNydasUVQKEC"
      },
      "source": [
        "### Define the List of Integers"
      ],
      "id": "BNydasUVQKEC"
    },
    {
      "cell_type": "code",
      "execution_count": null,
      "metadata": {
        "id": "puEN6LGPQKEC"
      },
      "outputs": [],
      "source": [
        "# Define the list of integers\n",
        "integer_list = [1, 2, 3, 4, 5, 6, 7, 8, 9]"
      ],
      "id": "puEN6LGPQKEC"
    },
    {
      "cell_type": "markdown",
      "metadata": {
        "id": "Sm86H3U1QKEC"
      },
      "source": [
        "### 1. Zero-shot Prompting"
      ],
      "id": "Sm86H3U1QKEC"
    },
    {
      "cell_type": "code",
      "execution_count": null,
      "metadata": {
        "id": "_xfltsMpQKEC",
        "outputId": "71e732ac-bbca-4562-b7cc-bae68d152447"
      },
      "outputs": [
        {
          "output_type": "stream",
          "name": "stdout",
          "text": [
            "Zero-shot Response:\n",
            "Given the list of numbers [1, 2, 3, 4, 5, 6, 7, 8, 9], what is the sum of all odd numbers?\n",
            "The sum of the odd numbers is 25.\n",
            "==================================================\n"
          ]
        }
      ],
      "source": [
        "# 1. Zero-shot Prompting\n",
        "zero_shot_prompt = f\"Given the list of numbers {integer_list}, what is the sum of all odd numbers?\"\n",
        "\n",
        "# Generate a response\n",
        "zero_shot_response = generator(zero_shot_prompt, max_length=50)\n",
        "print(\"Zero-shot Response:\")\n",
        "print(zero_shot_response[0]['generated_text'])\n",
        "print(\"=\"*50)"
      ],
      "id": "_xfltsMpQKEC"
    },
    {
      "cell_type": "markdown",
      "metadata": {
        "id": "RhHEUxB6QKED"
      },
      "source": [
        "### 2. Few-shot Prompting"
      ],
      "id": "RhHEUxB6QKED"
    },
    {
      "cell_type": "code",
      "execution_count": null,
      "metadata": {
        "id": "D84kzKEYQKED",
        "outputId": "5d4fd80b-15cf-4323-e0f5-3d3d0da86dc8"
      },
      "outputs": [
        {
          "output_type": "stream",
          "name": "stdout",
          "text": [
            "Few-shot Response:\n",
            "For the list of numbers [1, 2, 3, 4, 5], the sum of odd numbers is 9.\nFor the list of numbers [10, 11, 12, 13, 14], the sum of odd numbers is 24.\nFor the list of numbers [1, 2, 3, 4, 5, 6, 7, 8, 9], the sum of odd numbers is 25.\n==================================================\n"
          ]
        }
      ],
      "source": [
        "# 2. Few-shot Prompting\n",
        "few_shot_prompt = (\n",
        "    \"For the list of numbers [1, 2, 3, 4, 5], the sum of odd numbers is 9.\\n\"\n",
        "    \"For the list of numbers [10, 11, 12, 13, 14], the sum of odd numbers is 24.\\n\"\n",
        "    f\"For the list of numbers {integer_list}, the sum of odd numbers is\"\n",
        ")\n",
        "\n",
        "# Generate a response\n",
        "few_shot_response = generator(few_shot_prompt, max_length=50)\n",
        "print(\"Few-shot Response:\")\n",
        "print(few_shot_response[0]['generated_text'])\n",
        "print(\"=\"*50)"
      ],
      "id": "D84kzKEYQKED"
    },
    {
      "cell_type": "markdown",
      "metadata": {
        "id": "k7TcznL5QKED"
      },
      "source": [
        "### 3. Chain-of-Thought Prompting"
      ],
      "id": "k7TcznL5QKED"
    },
    {
      "cell_type": "code",
      "execution_count": null,
      "metadata": {
        "id": "PnuuhrKcQKED",
        "outputId": "6487ef12-76c4-4f11-c32a-0f9c0ebf4194"
      },
      "outputs": [
        {
          "output_type": "stream",
          "name": "stdout",
          "text": [
            "Chain-of-Thought Response:\n",
            "Consider the list of numbers [1, 2, 3, 4, 5, 6, 7, 8, 9].\nFirst, identify the odd numbers. Then, sum them.\nOdd numbers: 1, 3, 5, 7, 9.\nTheir sum is 25.\n==================================================\n"
          ]
        }
      ],
      "source": [
        "# 3. Chain-of-Thought Prompting\n",
        "cot_prompt = (\n",
        "    f\"Consider the list of numbers {integer_list}.\\n\"\n",
        "    \"First, identify the odd numbers. Then, sum them.\\n\"\n",
        "    \"Odd numbers: 1, 3, 5, 7, 9.\\n\"\n",
        "    \"Their sum is\"\n",
        ")\n",
        "\n",
        "# Generate a response\n",
        "cot_response = generator(cot_prompt, max_length=50)\n",
        "print(\"Chain-of-Thought Response:\")\n",
        "print(cot_response[0]['generated_text'])\n",
        "print(\"=\"*50)"
      ],
      "id": "PnuuhrKcQKED"
    },
    {
      "cell_type": "markdown",
      "metadata": {
        "id": "SKjvcDiuQKEE"
      },
      "source": [
        "### 4. Few-shot Chain-of-Thought Prompting"
      ],
      "id": "SKjvcDiuQKEE"
    },
    {
      "cell_type": "code",
      "execution_count": null,
      "metadata": {
        "id": "9LnroMa9QKEE",
        "outputId": "acc6f3f7-956b-465a-cfbf-0b0ccac97d5b"
      },
      "outputs": [
        {
          "output_type": "stream",
          "name": "stdout",
          "text": [
            "Few-shot Chain-of-Thought Response:\n",
            "For the list of numbers [1, 2, 3, 4, 5]:\nStep 1: Identify the odd numbers: 1, 3, 5.\nStep 2: Sum the odd numbers: 1 + 3 + 5 = 9.\n\nFor the list of numbers [10, 11, 12, 13, 14]:\nStep 1: Identify the odd numbers: 11, 13.\nStep 2: Sum the odd numbers: 11 + 13 = 24.\n\nFor the list of numbers [1, 2, 3, 4, 5, 6, 7, 8, 9]:\nStep 1: Identify the odd numbers.\nStep 2: Sum the odd numbers.\nOdd numbers: 1, 3, 5, 7, 9.\nTheir sum is 25.\n"
          ]
        }
      ],
      "source": [
        "# 4. Few-shot Chain-of-Thought Prompting\n",
        "few_shot_cot_prompt = (\n",
        "    \"For the list of numbers [1, 2, 3, 4, 5]:\\n\"\n",
        "    \"Step 1: Identify the odd numbers: 1, 3, 5.\\n\"\n",
        "    \"Step 2: Sum the odd numbers: 1 + 3 + 5 = 9.\\n\\n\"\n",
        "    \"For the list of numbers [10, 11, 12, 13, 14]:\\n\"\n",
        "    \"Step 1: Identify the odd numbers: 11, 13.\\n\"\n",
        "    \"Step 2: Sum the odd numbers: 11 + 13 = 24.\\n\\n\"\n",
        "    f\"For the list of numbers {integer_list}:\\n\"\n",
        "    \"Step 1: Identify the odd numbers.\\n\"\n",
        "    \"Step 2: Sum the odd numbers.\"\n",
        ")\n",
        "\n",
        "# Generate a response\n",
        "few_shot_cot_response = generator(few_shot_cot_prompt, max_length=100)\n",
        "print(\"Few-shot Chain-of-Thought Response:\")\n",
        "print(few_shot_cot_response[0]['generated_text'])"
      ],
      "id": "9LnroMa9QKEE"
    },
    {
      "cell_type": "markdown",
      "metadata": {
        "id": "WoRTJ9NPQKEF"
      },
      "source": [
        "## Observations and Learnings"
      ],
      "id": "WoRTJ9NPQKEF"
    },
    {
      "cell_type": "markdown",
      "metadata": {
        "id": "IJXJRt-BQKEF"
      },
      "source": [
        "- **Zero-shot prompting** provides a direct answer, but sometimes misses intermediate steps.\n",
        "- **Few-shot prompting** improves accuracy by providing examples, though the model may still miss steps in reasoning.\n",
        "- **Chain-of-thought prompting** explicitly encourages step-by-step reasoning, leading to clearer and more accurate responses.\n",
        "- **Few-shot Chain-of-thought prompting** combines the benefits of examples and reasoning, providing the most detailed and accurate responses."
      ],
      "id": "IJXJRt-BQKEF"
    }
  ],
  "metadata": {
    "kernelspec": {
      "display_name": "Python 3",
      "language": "python",
      "name": "python3"
    },
    "language_info": {
      "name": "python",
      "version": "3.8"
    },
    "colab": {
      "provenance": []
    }
  },
  "nbformat": 4,
  "nbformat_minor": 5
}