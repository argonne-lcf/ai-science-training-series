{
  "cells": [
    {
      "cell_type": "markdown",
      "metadata": {
        "id": "4ZNxwPuYSqHA"
      },
      "source": [
        "# CIFAR-10 dataset classification with CNNs\n",
        "\n",
        "Author: Tanwi Mallick, adapting codes from Bethany Lusch, Prasanna Balprakash, Corey Adams, and Kyle Felker\n",
        "\n",
        "In this notebook, we'll continue the CIFAR-10 problem using the Keras API (as included in the TensorFlow library) and incorporating convolutional layers.\n",
        "\n",
        "First, the needed imports."
      ]
    },
    {
      "cell_type": "code",
      "execution_count": 1,
      "metadata": {
        "id": "DoRIugyXSqHB"
      },
      "outputs": [],
      "source": [
        "%matplotlib inline\n",
        "\n",
        "import tensorflow as tf\n",
        "\n",
        "import numpy\n",
        "import matplotlib.pyplot as plt\n",
        "import time"
      ]
    },
    {
      "cell_type": "markdown",
      "metadata": {
        "id": "pkaI5jKbSqHC"
      },
      "source": [
        "## CIFAR-10 data set\n",
        "\n",
        "Again we'll load the cifar10 data set. CIFAR-10 dataset contains 32x32 color images from 10 classes: airplane, automobile, bird, cat, deer, dog, frog, horse, ship, truck. If you haven't downloaded it already, it could take a while."
      ]
    },
    {
      "cell_type": "code",
      "execution_count": 2,
      "metadata": {
        "id": "_AgQHUzySqHD",
        "outputId": "c96e03c1-0039-4fdd-ea46-3a869cc81750",
        "colab": {
          "base_uri": "https://localhost:8080/"
        }
      },
      "outputs": [
        {
          "output_type": "stream",
          "name": "stdout",
          "text": [
            "Downloading data from https://www.cs.toronto.edu/~kriz/cifar-10-python.tar.gz\n",
            "170498071/170498071 [==============================] - 3s 0us/step\n"
          ]
        }
      ],
      "source": [
        "(x_train, y_train), (x_test, y_test) = tf.keras.datasets.cifar10.load_data()\n",
        "x_train = x_train.astype(numpy.float32)\n",
        "x_test  = x_test.astype(numpy.float32)\n",
        "\n",
        "x_train /= 255.\n",
        "x_test  /= 255.\n",
        "\n",
        "y_train = y_train.astype(numpy.int32)\n",
        "y_test  = y_test.astype(numpy.int32)"
      ]
    },
    {
      "cell_type": "markdown",
      "metadata": {
        "id": "72XSxRnYSqHD"
      },
      "source": [
        "This time we won't flatten the images. \n",
        "\n",
        "The training data (`X_train`) is a 3rd-order tensor of size (50000, 32, 32), i.e. it consists of 50000 images of size 28x28 pixels. \n",
        "\n",
        "`y_train` is a 50000-dimensional vector containing the correct classes ('airplane', 'automobile', 'bird', 'cat', 'deer', 'dog', 'frog', 'horse', 'ship', 'truck') for each training sample."
      ]
    },
    {
      "cell_type": "markdown",
      "metadata": {
        "id": "_8k16J3gSqHD"
      },
      "source": [
        "## Convolutional neural network (CNN)\n",
        "\n",
        "CNN is a type of deep learning model for processing data that has a grid pattern, such as images.\n",
        "\n",
        "Let's use a small model that includes convolutional layers\n",
        "\n",
        "- The Conv2D layers operate on 2D matrices so we input the digit images directly to the model.\n",
        "    - The two Conv2D layers belows learn 32 and 64 filters respectively. \n",
        "    - They are learning filters for 3x3 windows.\n",
        "- The MaxPooling2D layer reduces the spatial dimensions, that is, makes the image smaller.\n",
        "    - It downsamples by taking the maximum value in the window \n",
        "    - The pool size of (2, 2) below means the windows are 2x2. \n",
        "    - Helps in extracting important features and reduce computation\n",
        "- The Flatten layer flattens the 2D matrices into vectors, so we can then switch to Dense layers as in the MLP model.\n",
        "\n",
        "See https://keras.io/layers/convolutional/, https://keras.io/layers/pooling/ for more information."
      ]
    },
    {
      "cell_type": "markdown",
      "metadata": {
        "id": "peBXbQY8SqHD"
      },
      "source": [
        "![conv layer](https://github.com/kkapale/ai-science-training-series/blob/withHomework/03_neural_networks_tensorflow/images/conv_layer.png?raw=1)\n",
        "Image credit: [Jason Brownlee](https://machinelearningmastery.com/convolutional-layers-for-deep-learning-neural-networks/)"
      ]
    },
    {
      "cell_type": "markdown",
      "metadata": {
        "id": "Mxu3qWJcSqHE"
      },
      "source": [
        "![conv layer](https://github.com/kkapale/ai-science-training-series/blob/withHomework/03_neural_networks_tensorflow/images/conv.png?raw=1)\n",
        "Image credit: [Anh H. Reynolds](https://anhreynolds.com/blogs/cnn.html)"
      ]
    },
    {
      "cell_type": "markdown",
      "metadata": {
        "id": "EvPEuhIoSqHE"
      },
      "source": [
        "\n",
        "<img src=\"https://github.com/kkapale/ai-science-training-series/blob/withHomework/03_neural_networks_tensorflow/images/MaxpoolSample2.png?raw=1\" width=\"600\" hight=\"600\" align=\"left\"/>"
      ]
    },
    {
      "cell_type": "code",
      "execution_count": 3,
      "metadata": {
        "id": "-6Mkf765SqHE"
      },
      "outputs": [],
      "source": [
        "class CIFAR10Classifier(tf.keras.models.Model):\n",
        "\n",
        "    def __init__(self, activation=tf.nn.tanh):\n",
        "        tf.keras.models.Model.__init__(self)\n",
        "\n",
        "        self.conv_1 = tf.keras.layers.Conv2D(32, [3, 3], activation='relu')\n",
        "        self.conv_2 = tf.keras.layers.Conv2D(64, [3, 3], activation='relu')\n",
        "        self.pool_3 = tf.keras.layers.MaxPooling2D(pool_size=(2, 2))\n",
        "        self.drop_4 = tf.keras.layers.Dropout(0.25)\n",
        "        self.dense_5 = tf.keras.layers.Dense(128, activation='relu')\n",
        "        self.drop_6 = tf.keras.layers.Dropout(0.5)\n",
        "        self.dense_7 = tf.keras.layers.Dense(10, activation='softmax')\n",
        "\n",
        "    def call(self, inputs):\n",
        "\n",
        "        x = self.conv_1(inputs)\n",
        "        x = self.conv_2(x)\n",
        "        x = self.pool_3(x)\n",
        "        x = self.drop_4(x)\n",
        "        x = tf.keras.layers.Flatten()(x)\n",
        "        x = self.dense_5(x)\n",
        "        x = self.drop_6(x)\n",
        "        x = self.dense_7(x)\n",
        "\n",
        "        return x"
      ]
    },
    {
      "cell_type": "markdown",
      "metadata": {
        "id": "WgFNq0ZZSqHE"
      },
      "source": [
        "### Simple training"
      ]
    },
    {
      "cell_type": "markdown",
      "metadata": {
        "id": "LPtPMdLySqHF"
      },
      "source": [
        "Here is a concise way to train the network, like we did in the previous notebook. We'll see a more verbose approach below that allows more performance tuning."
      ]
    },
    {
      "cell_type": "code",
      "execution_count": 4,
      "metadata": {
        "id": "7o42xq5lSqHF"
      },
      "outputs": [],
      "source": [
        "def train_network_concise(_batch_size, _n_training_epochs, _lr):\n",
        "\n",
        "    cnn_model = CIFAR10Classifier()\n",
        "\n",
        "    cnn_model.compile(loss=\"sparse_categorical_crossentropy\", optimizer=\"adam\", metrics=['accuracy'])\n",
        "    \n",
        "    history = cnn_model.fit(x_train, y_train, batch_size=_batch_size, epochs=_n_training_epochs)\n",
        "    return history, cnn_model"
      ]
    },
    {
      "cell_type": "code",
      "execution_count": 5,
      "metadata": {
        "id": "3ZfHft9fSqHF",
        "outputId": "7a27759a-a9ad-4ce5-9df5-ef20f71d3a0b",
        "colab": {
          "base_uri": "https://localhost:8080/"
        }
      },
      "outputs": [
        {
          "output_type": "stream",
          "name": "stdout",
          "text": [
            "Epoch 1/3\n",
            "98/98 [==============================] - 172s 2s/step - loss: 1.8250 - accuracy: 0.3323\n",
            "Epoch 2/3\n",
            "98/98 [==============================] - 191s 2s/step - loss: 1.4798 - accuracy: 0.4679\n",
            "Epoch 3/3\n",
            "98/98 [==============================] - 191s 2s/step - loss: 1.3521 - accuracy: 0.5162\n"
          ]
        }
      ],
      "source": [
        "# This took 55 seconds per epoch on my laptop\n",
        "batch_size = 512\n",
        "epochs = 3\n",
        "lr = .01\n",
        "history, cnn_model = train_network_concise(batch_size, epochs, lr)"
      ]
    },
    {
      "cell_type": "markdown",
      "metadata": {
        "id": "jx8KZmvsSqHF"
      },
      "source": [
        "Accuracy for test data.  The model should be better than the non-convolutional model even if you're only patient enough for three epochs. "
      ]
    },
    {
      "cell_type": "code",
      "execution_count": 6,
      "metadata": {
        "id": "L5XFbszLSqHG",
        "outputId": "da050299-9575-4330-8233-a1835b5278bb",
        "colab": {
          "base_uri": "https://localhost:8080/",
          "height": 437
        }
      },
      "outputs": [
        {
          "output_type": "display_data",
          "data": {
            "text/plain": [
              "<Figure size 360x216 with 1 Axes>"
            ],
            "image/png": "[encoded data removed]"
          },
          "metadata": {
            "needs_background": "light"
          }
        },
        {
          "output_type": "display_data",
          "data": {
            "text/plain": [
              "<Figure size 360x216 with 1 Axes>"
            ],
            "image/png": "[encoded data removed]"
          },
          "metadata": {
            "needs_background": "light"
          }
        }
      ],
      "source": [
        "plt.figure(figsize=(5,3))\n",
        "plt.plot(history.epoch,history.history['loss'])\n",
        "plt.title('loss')\n",
        "\n",
        "plt.figure(figsize=(5,3))\n",
        "plt.plot(history.epoch,history.history['accuracy'])\n",
        "plt.title('accuracy');"
      ]
    },
    {
      "cell_type": "markdown",
      "metadata": {
        "id": "tIw9r34HSqHG"
      },
      "source": [
        "### Inference"
      ]
    },
    {
      "cell_type": "markdown",
      "metadata": {
        "id": "-hgGeZMcSqHG"
      },
      "source": [
        "With enough training epochs, the test accuracy should exceed 99%.\n",
        "\n",
        "You can compare your result with the state-of-the art [here](http://rodrigob.github.io/are_we_there_yet/build/classification_datasets_results.html). Even more results can be found [here](http://yann.lecun.com/exdb/mnist/)."
      ]
    },
    {
      "cell_type": "code",
      "execution_count": null,
      "metadata": {
        "id": "rI6TfBTBSqHG"
      },
      "outputs": [],
      "source": [
        "%%time\n",
        "x_test_reshaped = numpy.expand_dims(x_test, -1)\n",
        "scores = cnn_model.evaluate(x_test, y_test, verbose=2)\n",
        "print(\"%s: %.2f%%\" % (cnn_model.metrics_names[1], scores[1]*100))"
      ]
    },
    {
      "cell_type": "markdown",
      "metadata": {
        "id": "o2r-NDnFSqHG"
      },
      "source": [
        "We can also again check the confusion matrix"
      ]
    },
    {
      "cell_type": "code",
      "execution_count": null,
      "metadata": {
        "id": "etIdzRE1SqHH"
      },
      "outputs": [],
      "source": [
        "from sklearn.metrics import confusion_matrix\n",
        "\n",
        "print('Confusion matrix (rows: true classes; columns: predicted classes):'); print()\n",
        "predictions = cnn_model.predict(x_test)\n",
        "cm=confusion_matrix(y_test, numpy.argmax(predictions, axis=1), labels=list(range(10)))\n",
        "print(cm); print()\n",
        "\n",
        "print('Classification accuracy for each class:'); print()\n",
        "for i,j in enumerate(cm.diagonal()/cm.sum(axis=1)): print(\"%d: %.4f\" % (i,j))"
      ]
    },
    {
      "cell_type": "markdown",
      "metadata": {
        "id": "4_dSxIX6SqHH"
      },
      "source": [
        "### More verbose training"
      ]
    },
    {
      "cell_type": "markdown",
      "metadata": {
        "id": "6mjIu0RCSqHH"
      },
      "source": [
        "This approach explicitly handles the looping over data. It will be helpful this afternoon for diving in and optimizing"
      ]
    },
    {
      "cell_type": "code",
      "execution_count": null,
      "metadata": {
        "id": "M5fjKzccSqHH"
      },
      "outputs": [],
      "source": [
        "def compute_loss(y_true, y_pred):\n",
        "    # if labels are integers, use sparse categorical crossentropy\n",
        "    # network's final layer is softmax, so from_logtis=False\n",
        "    scce = tf.keras.losses.SparseCategoricalCrossentropy(from_logits=False)\n",
        "    # if labels are one-hot encoded, use standard crossentropy\n",
        "\n",
        "    return scce(y_true, y_pred)  "
      ]
    },
    {
      "cell_type": "code",
      "execution_count": null,
      "metadata": {
        "id": "hN1QSDhSSqHH"
      },
      "outputs": [],
      "source": [
        "def forward_pass(model, batch_data, y_true):\n",
        "    y_pred = model(batch_data)\n",
        "    loss = compute_loss(y_true, y_pred)\n",
        "    return loss"
      ]
    },
    {
      "cell_type": "code",
      "execution_count": null,
      "metadata": {
        "id": "pmH1Qpi2SqHH"
      },
      "outputs": [],
      "source": [
        "# Here is a function that will manage the training loop for us:\n",
        "\n",
        "def train_loop(batch_size, n_training_epochs, model, opt):\n",
        "    \n",
        "    @tf.function()\n",
        "    def train_iteration(data, y_true, model, opt):\n",
        "        with tf.GradientTape() as tape:\n",
        "            loss = forward_pass(model, data, y_true)\n",
        "\n",
        "        trainable_vars = model.trainable_variables\n",
        "\n",
        "        # Apply the update to the network (one at a time):\n",
        "        grads = tape.gradient(loss, trainable_vars)\n",
        "\n",
        "        opt.apply_gradients(zip(grads, trainable_vars))\n",
        "        return loss\n",
        "\n",
        "    for i_epoch in range(n_training_epochs):\n",
        "        print(\"beginning epoch %d\" % i_epoch)\n",
        "        start = time.time()\n",
        "\n",
        "        epoch_steps = int(50000/batch_size)\n",
        "        dataset.shuffle(50000) # Shuffle the whole dataset in memory\n",
        "        batches = dataset.batch(batch_size=batch_size, drop_remainder=True)\n",
        "        \n",
        "        for i_batch, (batch_data, y_true) in enumerate(batches):\n",
        "            batch_data = tf.reshape(batch_data, [-1, 32, 32, 3])\n",
        "            loss = train_iteration(batch_data, y_true, model, opt)\n",
        "            \n",
        "        end = time.time()\n",
        "        print(\"took %1.1f seconds for epoch #%d\" % (end-start, i_epoch))"
      ]
    },
    {
      "cell_type": "code",
      "execution_count": null,
      "metadata": {
        "id": "L0TC7Y2wSqHH"
      },
      "outputs": [],
      "source": [
        "def train_network(_batch_size, _n_training_epochs, _lr):\n",
        "\n",
        "    mnist_model = CIFAR10Classifier()\n",
        "\n",
        "    opt = tf.keras.optimizers.Adam(_lr)\n",
        "\n",
        "    train_loop(_batch_size, _n_training_epochs, mnist_model, opt)"
      ]
    },
    {
      "cell_type": "code",
      "execution_count": null,
      "metadata": {
        "id": "WdM9aS8HSqHI"
      },
      "outputs": [],
      "source": [
        "dataset = tf.data.Dataset.from_tensor_slices((x_train, y_train))\n",
        "dataset.shuffle(50000)\n",
        "\n",
        "batch_size = 512\n",
        "epochs = 3\n",
        "lr = .01\n",
        "train_network(batch_size, epochs, lr)"
      ]
    },
    {
      "cell_type": "markdown",
      "metadata": {
        "id": "qwulP7L0SqHI"
      },
      "source": [
        "# Homework: improve the accuracy of this model"
      ]
    },
    {
      "cell_type": "markdown",
      "metadata": {
        "id": "kQ_I2Re1SqHI"
      },
      "source": [
        "Update this notebook to ensure more accuracy. How high can it be raised? Changes like increasing the number of epochs, altering the learning weight, altering the number of neurons the hidden layer, changing the optimizer, etc. could be made directly in the notebook. You can also change the model specification by expanding the network's layer. The current notebook's training accuracy is roughly 58.69%, although it varies randomly."
      ]
    },
    {
      "cell_type": "markdown",
      "source": [
        "First approach to optimizing: playing with the epochs, lr:"
      ],
      "metadata": {
        "id": "0bmj-Hncl1kI"
      }
    },
    {
      "cell_type": "code",
      "execution_count": 7,
      "metadata": {
        "id": "ABwu02VSSqHI",
        "outputId": "85d57a80-a1d4-4a6e-a416-3fe3a7e9f291",
        "colab": {
          "base_uri": "https://localhost:8080/"
        }
      },
      "outputs": [
        {
          "output_type": "stream",
          "name": "stdout",
          "text": [
            "Epoch 1/10\n",
            "196/196 [==============================] - 173s 881ms/step - loss: 1.7021 - accuracy: 0.3786\n",
            "Epoch 2/10\n",
            "196/196 [==============================] - 172s 875ms/step - loss: 1.3714 - accuracy: 0.5114\n",
            "Epoch 3/10\n",
            "196/196 [==============================] - 172s 878ms/step - loss: 1.2127 - accuracy: 0.5678\n",
            "Epoch 4/10\n",
            "196/196 [==============================] - 171s 871ms/step - loss: 1.1331 - accuracy: 0.5989\n",
            "Epoch 5/10\n",
            "196/196 [==============================] - 170s 866ms/step - loss: 1.0622 - accuracy: 0.6243\n",
            "Epoch 6/10\n",
            "196/196 [==============================] - 169s 861ms/step - loss: 1.0045 - accuracy: 0.6436\n",
            "Epoch 7/10\n",
            "196/196 [==============================] - 170s 868ms/step - loss: 0.9608 - accuracy: 0.6602\n",
            "Epoch 8/10\n",
            "196/196 [==============================] - 169s 865ms/step - loss: 0.9268 - accuracy: 0.6730\n",
            "Epoch 9/10\n",
            "196/196 [==============================] - 169s 863ms/step - loss: 0.8850 - accuracy: 0.6882\n",
            "Epoch 10/10\n",
            "196/196 [==============================] - 187s 955ms/step - loss: 0.8513 - accuracy: 0.6968\n"
          ]
        }
      ],
      "source": [
        "# smaller batch size, larger epochs, and same learning rate\n",
        "batch_size = 256\n",
        "epochs = 10\n",
        "lr = .01\n",
        "history, cnn_model = train_network_concise(batch_size, epochs, lr)"
      ]
    },
    {
      "cell_type": "code",
      "source": [
        "plt.figure(figsize=(5,3))\n",
        "plt.plot(history.epoch,history.history['loss'])\n",
        "plt.title('loss')\n",
        "\n",
        "plt.figure(figsize=(5,3))\n",
        "plt.plot(history.epoch,history.history['accuracy'])\n",
        "plt.title('accuracy');"
      ],
      "metadata": {
        "id": "0aa7IvpDnLIN",
        "outputId": "f326a4c5-a20a-4bdd-f6f7-b13efde53524",
        "colab": {
          "base_uri": "https://localhost:8080/",
          "height": 437
        }
      },
      "execution_count": 8,
      "outputs": [
        {
          "output_type": "display_data",
          "data": {
            "text/plain": [
              "<Figure size 360x216 with 1 Axes>"
            ],
            "image/png": "[encoded data removed]"
          },
          "metadata": {
            "needs_background": "light"
          }
        },
        {
          "output_type": "display_data",
          "data": {
            "text/plain": [
              "<Figure size 360x216 with 1 Axes>"
            ],
            "image/png": "[encoded data removed]"
          },
          "metadata": {
            "needs_background": "light"
          }
        }
      ]
    },
    {
      "cell_type": "code",
      "source": [
        "# same batch size as the previous trial, same epochs as the previous trial, and five times the learning rate\n",
        "batch_size = 256\n",
        "epochs = 10\n",
        "lr = .05\n",
        "history, cnn_model = train_network_concise(batch_size, epochs, lr)"
      ],
      "metadata": {
        "id": "toikgIW8tYza",
        "outputId": "4b272dba-4379-4c28-dc2f-4e93eb9bb33f",
        "colab": {
          "base_uri": "https://localhost:8080/"
        }
      },
      "execution_count": 9,
      "outputs": [
        {
          "output_type": "stream",
          "name": "stdout",
          "text": [
            "Epoch 1/10\n",
            "196/196 [==============================] - 176s 893ms/step - loss: 1.7301 - accuracy: 0.3704\n",
            "Epoch 2/10\n",
            "196/196 [==============================] - 171s 871ms/step - loss: 1.3882 - accuracy: 0.5012\n",
            "Epoch 3/10\n",
            "196/196 [==============================] - 172s 873ms/step - loss: 1.2372 - accuracy: 0.5595\n",
            "Epoch 4/10\n",
            "196/196 [==============================] - 173s 881ms/step - loss: 1.1582 - accuracy: 0.5889\n",
            "Epoch 5/10\n",
            "196/196 [==============================] - 173s 882ms/step - loss: 1.0922 - accuracy: 0.6143\n",
            "Epoch 6/10\n",
            "196/196 [==============================] - 172s 878ms/step - loss: 1.0401 - accuracy: 0.6312\n",
            "Epoch 7/10\n",
            "196/196 [==============================] - 189s 966ms/step - loss: 0.9872 - accuracy: 0.6503\n",
            "Epoch 8/10\n",
            "196/196 [==============================] - 187s 954ms/step - loss: 0.9574 - accuracy: 0.6593\n",
            "Epoch 9/10\n",
            "196/196 [==============================] - 194s 990ms/step - loss: 0.9184 - accuracy: 0.6737\n",
            "Epoch 10/10\n",
            "196/196 [==============================] - 172s 876ms/step - loss: 0.8839 - accuracy: 0.6846\n"
          ]
        }
      ]
    },
    {
      "cell_type": "code",
      "source": [
        "plt.figure(figsize=(5,3))\n",
        "plt.plot(history.epoch,history.history['loss'])\n",
        "plt.title('loss')\n",
        "\n",
        "plt.figure(figsize=(5,3))\n",
        "plt.plot(history.epoch,history.history['accuracy'])\n",
        "plt.title('accuracy');"
      ],
      "metadata": {
        "id": "wfBi8wGWtmVN",
        "outputId": "116c51f4-da4a-4f27-8c36-ac545794cf41",
        "colab": {
          "base_uri": "https://localhost:8080/",
          "height": 437
        }
      },
      "execution_count": 10,
      "outputs": [
        {
          "output_type": "display_data",
          "data": {
            "text/plain": [
              "<Figure size 360x216 with 1 Axes>"
            ],
            "image/png": "[encoded data removed]"
          },
          "metadata": {
            "needs_background": "light"
          }
        },
        {
          "output_type": "display_data",
          "data": {
            "text/plain": [
              "<Figure size 360x216 with 1 Axes>"
            ],
            "image/png": "[encoded data removed]"
          },
          "metadata": {
            "needs_background": "light"
          }
        }
      ]
    },
    {
      "cell_type": "markdown",
      "source": [
        "It appears that the learning rate does not help very much. Let us add a couple of more Conv layers."
      ],
      "metadata": {
        "id": "6V1_2BS8yb5-"
      }
    },
    {
      "cell_type": "code",
      "source": [
        "class CIFAR10Classifier2(tf.keras.models.Model):\n",
        "\n",
        "    def __init__(self, activation=tf.nn.tanh):\n",
        "        tf.keras.models.Model.__init__(self)\n",
        "\n",
        "        self.conv_1 = tf.keras.layers.Conv2D(32, [3, 3], activation='relu')\n",
        "        self.conv_2 = tf.keras.layers.Conv2D(64, [3, 3], activation='relu')\n",
        "        self.pool_3 = tf.keras.layers.MaxPooling2D(pool_size=(2, 2))\n",
        "        self.drop_4 = tf.keras.layers.Dropout(0.25)\n",
        "        self.conv_5 = tf.keras.layers.Conv2D(64, [3, 3], activation='relu')\n",
        "        self.conv_6 = tf.keras.layers.Conv2D(128, [3, 3], activation='relu')\n",
        "        self.pool_7 = tf.keras.layers.MaxPooling2D(pool_size=(2, 2))\n",
        "        self.drop_8 = tf.keras.layers.Dropout(0.25)\n",
        "        self.dense_9 = tf.keras.layers.Dense(128, activation='relu')\n",
        "        self.drop_10 = tf.keras.layers.Dropout(0.25)\n",
        "        self.dense_11 = tf.keras.layers.Dense(10, activation='softmax')\n",
        "\n",
        "    def call(self, inputs):\n",
        "\n",
        "        x = self.conv_1(inputs)\n",
        "        x = self.conv_2(x)\n",
        "        x = self.pool_3(x)\n",
        "        x = self.drop_4(x)\n",
        "        \n",
        "        x = self.conv_5(x)\n",
        "        x = self.conv_6(x)\n",
        "        x = self.pool_7(x)\n",
        "        x = self.drop_8(x)\n",
        "        \n",
        "        \n",
        "        x = tf.keras.layers.Flatten()(x)\n",
        "        x = self.dense_9(x)\n",
        "        x = self.drop_10(x)\n",
        "        x = self.dense_11(x)\n",
        "\n",
        "        return x"
      ],
      "metadata": {
        "id": "DlmP-fRzyoI4"
      },
      "execution_count": 14,
      "outputs": []
    },
    {
      "cell_type": "code",
      "source": [
        "def train_network_concise2(_batch_size, _n_training_epochs, _lr):\n",
        "\n",
        "    cnn_model2 = CIFAR10Classifier2()\n",
        "\n",
        "    cnn_model2.compile(loss=\"sparse_categorical_crossentropy\", optimizer=\"adam\", metrics=['accuracy'])\n",
        "    \n",
        "    history = cnn_model2.fit(x_train, y_train, batch_size=_batch_size, epochs=_n_training_epochs)\n",
        "    return history, cnn_model2"
      ],
      "metadata": {
        "id": "g1GhlcUizsho"
      },
      "execution_count": 15,
      "outputs": []
    },
    {
      "cell_type": "code",
      "source": [
        "# smaller batch size, larger epochs, and same learning rate\n",
        "batch_size = 256\n",
        "epochs = 10\n",
        "lr = .01\n",
        "history, cnn_model2 = train_network_concise2(batch_size, epochs, lr)"
      ],
      "metadata": {
        "id": "C6nWbd0hz0xi",
        "outputId": "e573554f-f8a6-498d-b33b-0abf2057a697",
        "colab": {
          "base_uri": "https://localhost:8080/"
        }
      },
      "execution_count": 16,
      "outputs": [
        {
          "output_type": "stream",
          "name": "stdout",
          "text": [
            "Epoch 1/10\n",
            "196/196 [==============================] - 279s 1s/step - loss: 1.7636 - accuracy: 0.3475\n",
            "Epoch 2/10\n",
            "196/196 [==============================] - 278s 1s/step - loss: 1.3826 - accuracy: 0.5004\n",
            "Epoch 3/10\n",
            "196/196 [==============================] - 278s 1s/step - loss: 1.2079 - accuracy: 0.5713\n",
            "Epoch 4/10\n",
            "196/196 [==============================] - 275s 1s/step - loss: 1.0702 - accuracy: 0.6214\n",
            "Epoch 5/10\n",
            "196/196 [==============================] - 273s 1s/step - loss: 0.9811 - accuracy: 0.6545\n",
            "Epoch 6/10\n",
            "196/196 [==============================] - 274s 1s/step - loss: 0.8997 - accuracy: 0.6818\n",
            "Epoch 7/10\n",
            "196/196 [==============================] - 275s 1s/step - loss: 0.8356 - accuracy: 0.7078\n",
            "Epoch 8/10\n",
            "196/196 [==============================] - 273s 1s/step - loss: 0.7783 - accuracy: 0.7246\n",
            "Epoch 9/10\n",
            "196/196 [==============================] - 273s 1s/step - loss: 0.7392 - accuracy: 0.7409\n",
            "Epoch 10/10\n",
            "196/196 [==============================] - 273s 1s/step - loss: 0.7088 - accuracy: 0.7488\n"
          ]
        }
      ]
    },
    {
      "cell_type": "code",
      "source": [
        "plt.figure(figsize=(5,3))\n",
        "plt.plot(history.epoch,history.history['loss'])\n",
        "plt.title('loss')\n",
        "\n",
        "plt.figure(figsize=(5,3))\n",
        "plt.plot(history.epoch,history.history['accuracy'])\n",
        "plt.title('accuracy');"
      ],
      "metadata": {
        "id": "WujZJiRAz39N",
        "outputId": "d88b97dd-53b9-4dbd-cffc-5ef468e1ce88",
        "colab": {
          "base_uri": "https://localhost:8080/",
          "height": 437
        }
      },
      "execution_count": 17,
      "outputs": [
        {
          "output_type": "display_data",
          "data": {
            "text/plain": [
              "<Figure size 360x216 with 1 Axes>"
            ],
            "image/png": "[encoded data removed]"
          },
          "metadata": {
            "needs_background": "light"
          }
        },
        {
          "output_type": "display_data",
          "data": {
            "text/plain": [
              "<Figure size 360x216 with 1 Axes>"
            ],
            "image/png": "[encoded data removed]"
          },
          "metadata": {
            "needs_background": "light"
          }
        }
      ]
    },
    {
      "cell_type": "markdown",
      "source": [
        "Commet: Adding two extra covolutioal layers helped. Let us see if icreasig epochs helps further."
      ],
      "metadata": {
        "id": "oYD8KA4kB6a-"
      }
    },
    {
      "cell_type": "code",
      "source": [
        "# double the epochs\n",
        "batch_size = 256\n",
        "epochs = 20\n",
        "lr = .01\n",
        "history, cnn_model2 = train_network_concise2(batch_size, epochs, lr)"
      ],
      "metadata": {
        "id": "oI6qp5bGCCaN",
        "outputId": "3c8e5d2f-f209-4799-ddab-03d995397628",
        "colab": {
          "base_uri": "https://localhost:8080/"
        }
      },
      "execution_count": null,
      "outputs": [
        {
          "output_type": "stream",
          "name": "stdout",
          "text": [
            "Epoch 1/20\n",
            " 45/196 [=====>........................] - ETA: 3:49 - loss: 2.1172 - accuracy: 0.2136"
          ]
        }
      ]
    },
    {
      "cell_type": "code",
      "source": [
        "plt.figure(figsize=(5,3))\n",
        "plt.plot(history.epoch,history.history['loss'])\n",
        "plt.title('loss')\n",
        "\n",
        "plt.figure(figsize=(5,3))\n",
        "plt.plot(history.epoch,history.history['accuracy'])\n",
        "plt.title('accuracy');"
      ],
      "metadata": {
        "id": "WkeZ_eD9CU6k"
      },
      "execution_count": null,
      "outputs": []
    },
    {
      "cell_type": "code",
      "source": [],
      "metadata": {
        "id": "5pK6zR9kCX6Z"
      },
      "execution_count": null,
      "outputs": []
    }
  ],
  "metadata": {
    "kernelspec": {
      "display_name": "Python 3 (ipykernel)",
      "language": "python",
      "name": "python3"
    },
    "language_info": {
      "codemirror_mode": {
        "name": "ipython",
        "version": 3
      },
      "file_extension": ".py",
      "mimetype": "text/x-python",
      "name": "python",
      "nbconvert_exporter": "python",
      "pygments_lexer": "ipython3",
      "version": "3.7.4"
    },
    "colab": {
      "provenance": []
    }
  },
  "nbformat": 4,
  "nbformat_minor": 0
}