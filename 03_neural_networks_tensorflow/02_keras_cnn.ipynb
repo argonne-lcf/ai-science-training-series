{
 "cells": [
  {
   "cell_type": "markdown",
   "metadata": {},
   "source": [
    "# CIFAR-10 dataset classification with CNNs\n",
    "\n",
    "Author: Tanwi Mallick, adapting codes from Bethany Lusch, Prasanna Balprakash, Corey Adams, and Kyle Felker\n",
    "\n",
    "In this notebook, we'll continue the CIFAR-10 problem using the Keras API (as included in the TensorFlow library) and incorporating convolutional layers.\n",
    "\n",
    "First, the needed imports."
   ]
  },
  {
   "cell_type": "code",
   "execution_count": 1,
   "metadata": {},
   "outputs": [],
   "source": [
    "%matplotlib inline\n",
    "\n",
    "import tensorflow as tf\n",
    "\n",
    "import numpy\n",
    "import matplotlib.pyplot as plt\n",
    "import time"
   ]
  },
  {
   "cell_type": "markdown",
   "metadata": {},
   "source": [
    "## CIFAR-10 data set\n",
    "\n",
    "Again we'll load the cifar10 data set. CIFAR-10 dataset contains 32x32 color images from 10 classes: airplane, automobile, bird, cat, deer, dog, frog, horse, ship, truck. If you haven't downloaded it already, it could take a while."
   ]
  },
  {
   "cell_type": "code",
   "execution_count": 2,
   "metadata": {},
   "outputs": [],
   "source": [
    "(x_train, y_train), (x_test, y_test) = tf.keras.datasets.cifar10.load_data()\n",
    "x_train = x_train.astype(numpy.float32)\n",
    "x_test  = x_test.astype(numpy.float32)\n",
    "\n",
    "x_train /= 255.\n",
    "x_test  /= 255.\n",
    "\n",
    "y_train = y_train.astype(numpy.int32)\n",
    "y_test  = y_test.astype(numpy.int32)"
   ]
  },
  {
   "cell_type": "markdown",
   "metadata": {},
   "source": [
    "This time we won't flatten the images. \n",
    "\n",
    "The training data (`X_train`) is a 3rd-order tensor of size (50000, 32, 32), i.e. it consists of 50000 images of size 28x28 pixels. \n",
    "\n",
    "`y_train` is a 50000-dimensional vector containing the correct classes ('airplane', 'automobile', 'bird', 'cat', 'deer', 'dog', 'frog', 'horse', 'ship', 'truck') for each training sample."
   ]
  },
  {
   "cell_type": "markdown",
   "metadata": {},
   "source": [
    "## Convolutional neural network (CNN)\n",
    "\n",
    "CNN is a type of deep learning model for processing data that has a grid pattern, such as images.\n",
    "\n",
    "Let's use a small model that includes convolutional layers\n",
    "\n",
    "- The Conv2D layers operate on 2D matrices so we input the digit images directly to the model.\n",
    "    - The two Conv2D layers belows learn 32 and 64 filters respectively. \n",
    "    - They are learning filters for 3x3 windows.\n",
    "- The MaxPooling2D layer reduces the spatial dimensions, that is, makes the image smaller.\n",
    "    - It downsamples by taking the maximum value in the window \n",
    "    - The pool size of (2, 2) below means the windows are 2x2. \n",
    "    - Helps in extracting important features and reduce computation\n",
    "- The Flatten layer flattens the 2D matrices into vectors, so we can then switch to Dense layers as in the MLP model.\n",
    "\n",
    "See https://keras.io/layers/convolutional/, https://keras.io/layers/pooling/ for more information."
   ]
  },
  {
   "cell_type": "markdown",
   "metadata": {},
   "source": [
    "![conv layer](images/conv_layer.png)\n",
    "Image credit: [Jason Brownlee](https://machinelearningmastery.com/convolutional-layers-for-deep-learning-neural-networks/)"
   ]
  },
  {
   "cell_type": "markdown",
   "metadata": {},
   "source": [
    "![conv layer](images/conv.png)\n",
    "Image credit: [Anh H. Reynolds](https://anhreynolds.com/blogs/cnn.html)"
   ]
  },
  {
   "cell_type": "markdown",
   "metadata": {},
   "source": [
    "\n",
    "<img src=\"images/MaxpoolSample2.png\" width=\"600\" hight=\"600\" align=\"left\"/>"
   ]
  },
  {
   "cell_type": "code",
   "execution_count": 37,
   "metadata": {},
   "outputs": [],
   "source": [
    "class CIFAR10Classifier(tf.keras.models.Model):\n",
    "\n",
    "    def __init__(self, activation=tf.nn.tanh):\n",
    "        tf.keras.models.Model.__init__(self)\n",
    "\n",
    "        self.conv_1 = tf.keras.layers.Conv2D(32, [3, 3], activation='relu')\n",
    "        self.conv_2 = tf.keras.layers.Conv2D(64, [3, 3], activation='relu')\n",
    "        self.conv_3 = tf.keras.layers.Conv2D(32, [2, 2], activation='relu')\n",
    "        self.pool_4 = tf.keras.layers.MaxPooling2D(pool_size=(2, 2))\n",
    "        self.drop_5 = tf.keras.layers.Dropout(0.25)\n",
    "        self.dense_6 = tf.keras.layers.Dense(128, activation='relu')\n",
    "        self.drop_7 = tf.keras.layers.Dropout(0.25)\n",
    "        self.dense_8 = tf.keras.layers.Dense(10, activation='softmax')\n",
    "\n",
    "    def call(self, inputs):\n",
    "\n",
    "        x = self.conv_1(inputs)\n",
    "        x = self.conv_2(x)\n",
    "        x = self.conv_3(x)\n",
    "        x = self.pool_4(x)\n",
    "        x = self.drop_5(x)\n",
    "        x = tf.keras.layers.Flatten()(x)\n",
    "        x = self.dense_6(x)\n",
    "        x = self.drop_7(x)\n",
    "        x = self.dense_8(x)\n",
    "\n",
    "        return x"
   ]
  },
  {
   "cell_type": "markdown",
   "metadata": {},
   "source": [
    "### Simple training"
   ]
  },
  {
   "cell_type": "markdown",
   "metadata": {},
   "source": [
    "Here is a concise way to train the network, like we did in the previous notebook. We'll see a more verbose approach below that allows more performance tuning."
   ]
  },
  {
   "cell_type": "code",
   "execution_count": 38,
   "metadata": {},
   "outputs": [],
   "source": [
    "def train_network_concise(_batch_size, _n_training_epochs, _lr):\n",
    "\n",
    "    cnn_model = CIFAR10Classifier()\n",
    "\n",
    "    cnn_model.compile(loss=\"sparse_categorical_crossentropy\", optimizer=\"adam\", metrics=['accuracy'])\n",
    "    \n",
    "    history = cnn_model.fit(x_train, y_train, batch_size=_batch_size, epochs=_n_training_epochs)\n",
    "    return history, cnn_model"
   ]
  },
  {
   "cell_type": "code",
   "execution_count": 42,
   "metadata": {},
   "outputs": [
    {
     "name": "stdout",
     "output_type": "stream",
     "text": [
      "Epoch 1/30\n",
      "98/98 [==============================] - 80s 811ms/step - loss: 1.7437 - accuracy: 0.3647\n",
      "Epoch 2/30\n",
      "98/98 [==============================] - 79s 804ms/step - loss: 1.3866 - accuracy: 0.5007\n",
      "Epoch 3/30\n",
      "98/98 [==============================] - 79s 807ms/step - loss: 1.2483 - accuracy: 0.5546\n",
      "Epoch 4/30\n",
      "98/98 [==============================] - 84s 858ms/step - loss: 1.1537 - accuracy: 0.5897\n",
      "Epoch 5/30\n",
      "98/98 [==============================] - 81s 828ms/step - loss: 1.0785 - accuracy: 0.6186\n",
      "Epoch 6/30\n",
      "98/98 [==============================] - 80s 816ms/step - loss: 1.0122 - accuracy: 0.6428\n",
      "Epoch 7/30\n",
      "98/98 [==============================] - 80s 814ms/step - loss: 0.9646 - accuracy: 0.6594\n",
      "Epoch 8/30\n",
      "98/98 [==============================] - 80s 821ms/step - loss: 0.9159 - accuracy: 0.6776\n",
      "Epoch 9/30\n",
      "98/98 [==============================] - 81s 825ms/step - loss: 0.8721 - accuracy: 0.6925\n",
      "Epoch 10/30\n",
      "98/98 [==============================] - 80s 815ms/step - loss: 0.8341 - accuracy: 0.7060\n",
      "Epoch 11/30\n",
      "98/98 [==============================] - 83s 842ms/step - loss: 0.8027 - accuracy: 0.7144\n",
      "Epoch 12/30\n",
      "98/98 [==============================] - 83s 848ms/step - loss: 0.7765 - accuracy: 0.7244\n",
      "Epoch 13/30\n",
      "98/98 [==============================] - 86s 881ms/step - loss: 0.7384 - accuracy: 0.7381\n",
      "Epoch 14/30\n",
      "98/98 [==============================] - 84s 855ms/step - loss: 0.7127 - accuracy: 0.7476\n",
      "Epoch 15/30\n",
      "98/98 [==============================] - 79s 810ms/step - loss: 0.6795 - accuracy: 0.7578\n",
      "Epoch 16/30\n",
      "98/98 [==============================] - 79s 809ms/step - loss: 0.6588 - accuracy: 0.7647\n",
      "Epoch 17/30\n",
      "98/98 [==============================] - 80s 812ms/step - loss: 0.6320 - accuracy: 0.7755\n",
      "Epoch 18/30\n",
      "98/98 [==============================] - 80s 815ms/step - loss: 0.6170 - accuracy: 0.7799\n",
      "Epoch 19/30\n",
      "98/98 [==============================] - 82s 835ms/step - loss: 0.5833 - accuracy: 0.7914\n",
      "Epoch 20/30\n",
      "98/98 [==============================] - 83s 844ms/step - loss: 0.5663 - accuracy: 0.7975\n",
      "Epoch 21/30\n",
      "98/98 [==============================] - 87s 887ms/step - loss: 0.5501 - accuracy: 0.8009\n",
      "Epoch 22/30\n",
      "98/98 [==============================] - 90s 923ms/step - loss: 0.5339 - accuracy: 0.8100\n",
      "Epoch 23/30\n",
      "98/98 [==============================] - 88s 897ms/step - loss: 0.5132 - accuracy: 0.8160\n",
      "Epoch 24/30\n",
      "98/98 [==============================] - 88s 894ms/step - loss: 0.4926 - accuracy: 0.8232\n",
      "Epoch 25/30\n",
      "98/98 [==============================] - 86s 879ms/step - loss: 0.4808 - accuracy: 0.8262\n",
      "Epoch 26/30\n",
      "98/98 [==============================] - 83s 848ms/step - loss: 0.4616 - accuracy: 0.8336\n",
      "Epoch 27/30\n",
      "98/98 [==============================] - 83s 852ms/step - loss: 0.4525 - accuracy: 0.8374\n",
      "Epoch 28/30\n",
      "98/98 [==============================] - 85s 868ms/step - loss: 0.4420 - accuracy: 0.8399\n",
      "Epoch 29/30\n",
      "98/98 [==============================] - 84s 860ms/step - loss: 0.4235 - accuracy: 0.8472\n",
      "Epoch 30/30\n",
      "98/98 [==============================] - 85s 864ms/step - loss: 0.4155 - accuracy: 0.8500\n"
     ]
    }
   ],
   "source": [
    "# This took 55 seconds per epoch on my laptop\n",
    "batch_size = 512\n",
    "epochs = 30\n",
    "lr = .01\n",
    "history, cnn_model = train_network_concise(batch_size, epochs, lr)"
   ]
  },
  {
   "cell_type": "markdown",
   "metadata": {},
   "source": [
    "Accuracy for test data.  The model should be better than the non-convolutional model even if you're only patient enough for three epochs. "
   ]
  },
  {
   "cell_type": "code",
   "execution_count": 43,
   "metadata": {},
   "outputs": [
    {
     "data": {
      "image/png": "[encoded data removed]",
      "text/plain": [
       "<Figure size 500x300 with 1 Axes>"
      ]
     },
     "metadata": {},
     "output_type": "display_data"
    },
    {
     "data": {
      "image/png": "[encoded data removed]",
      "text/plain": [
       "<Figure size 500x300 with 1 Axes>"
      ]
     },
     "metadata": {},
     "output_type": "display_data"
    }
   ],
   "source": [
    "plt.figure(figsize=(5,3))\n",
    "plt.plot(history.epoch,history.history['loss'])\n",
    "plt.title('loss')\n",
    "\n",
    "plt.figure(figsize=(5,3))\n",
    "plt.plot(history.epoch,history.history['accuracy'])\n",
    "plt.title('accuracy');"
   ]
  },
  {
   "cell_type": "markdown",
   "metadata": {},
   "source": [
    "### Inference"
   ]
  },
  {
   "cell_type": "markdown",
   "metadata": {},
   "source": [
    "With enough training epochs, the test accuracy should exceed 99%.\n",
    "\n",
    "You can compare your result with the state-of-the art [here](http://rodrigob.github.io/are_we_there_yet/build/classification_datasets_results.html). Even more results can be found [here](http://yann.lecun.com/exdb/mnist/)."
   ]
  },
  {
   "cell_type": "code",
   "execution_count": 44,
   "metadata": {},
   "outputs": [
    {
     "name": "stdout",
     "output_type": "stream",
     "text": [
      "313/313 - 10s - loss: 0.9589 - accuracy: 0.7022 - 10s/epoch - 31ms/step\n",
      "accuracy: 70.22%\n",
      "CPU times: total: 1min 14s\n",
      "Wall time: 9.87 s\n"
     ]
    }
   ],
   "source": [
    "%%time\n",
    "x_test_reshaped = numpy.expand_dims(x_test, -1)\n",
    "scores = cnn_model.evaluate(x_test, y_test, verbose=2)\n",
    "print(\"%s: %.2f%%\" % (cnn_model.metrics_names[1], scores[1]*100))"
   ]
  },
  {
   "cell_type": "markdown",
   "metadata": {},
   "source": [
    "We can also again check the confusion matrix"
   ]
  },
  {
   "cell_type": "code",
   "execution_count": 8,
   "metadata": {},
   "outputs": [
    {
     "name": "stdout",
     "output_type": "stream",
     "text": [
      "Confusion matrix (rows: true classes; columns: predicted classes):\n",
      "\n",
      "313/313 [==============================] - 7s 23ms/step\n",
      "[[639  29 100  21  20  11  20  20  92  48]\n",
      " [ 34 682   8  17   6   8  20  22  49 154]\n",
      " [ 64   9 423  70 124 118  84  81  11  16]\n",
      " [ 15   7  86 377  65 214 111  95  12  18]\n",
      " [ 28   7 153  72 459  42  91 139   9   0]\n",
      " [ 12   1  69 173  53 508  40 130   8   6]\n",
      " [  5   6  64  86  67  20 695  44   4   9]\n",
      " [ 20   0  27  42  54  81  17 734   5  20]\n",
      " [121  59  24  27   6  20  10  14 672  47]\n",
      " [ 36 109  14  26   6  13  33  63  49 651]]\n",
      "\n",
      "Classification accuracy for each class:\n",
      "\n",
      "0: 0.6390\n",
      "1: 0.6820\n",
      "2: 0.4230\n",
      "3: 0.3770\n",
      "4: 0.4590\n",
      "5: 0.5080\n",
      "6: 0.6950\n",
      "7: 0.7340\n",
      "8: 0.6720\n",
      "9: 0.6510\n"
     ]
    }
   ],
   "source": [
    "from sklearn.metrics import confusion_matrix\n",
    "\n",
    "print('Confusion matrix (rows: true classes; columns: predicted classes):'); print()\n",
    "predictions = cnn_model.predict(x_test)\n",
    "cm=confusion_matrix(y_test, numpy.argmax(predictions, axis=1), labels=list(range(10)))\n",
    "print(cm); print()\n",
    "\n",
    "print('Classification accuracy for each class:'); print()\n",
    "for i,j in enumerate(cm.diagonal()/cm.sum(axis=1)): print(\"%d: %.4f\" % (i,j))"
   ]
  },
  {
   "cell_type": "markdown",
   "metadata": {},
   "source": [
    "### More verbose training"
   ]
  },
  {
   "cell_type": "markdown",
   "metadata": {},
   "source": [
    "This approach explicitly handles the looping over data. It will be helpful this afternoon for diving in and optimizing"
   ]
  },
  {
   "cell_type": "code",
   "execution_count": 9,
   "metadata": {},
   "outputs": [],
   "source": [
    "def compute_loss(y_true, y_pred):\n",
    "    # if labels are integers, use sparse categorical crossentropy\n",
    "    # network's final layer is softmax, so from_logtis=False\n",
    "    scce = tf.keras.losses.SparseCategoricalCrossentropy(from_logits=False)\n",
    "    # if labels are one-hot encoded, use standard crossentropy\n",
    "\n",
    "    return scce(y_true, y_pred)  "
   ]
  },
  {
   "cell_type": "code",
   "execution_count": 10,
   "metadata": {},
   "outputs": [],
   "source": [
    "def forward_pass(model, batch_data, y_true):\n",
    "    y_pred = model(batch_data)\n",
    "    loss = compute_loss(y_true, y_pred)\n",
    "    return loss"
   ]
  },
  {
   "cell_type": "code",
   "execution_count": 11,
   "metadata": {},
   "outputs": [],
   "source": [
    "# Here is a function that will manage the training loop for us:\n",
    "\n",
    "def train_loop(batch_size, n_training_epochs, model, opt):\n",
    "    \n",
    "    @tf.function()\n",
    "    def train_iteration(data, y_true, model, opt):\n",
    "        with tf.GradientTape() as tape:\n",
    "            loss = forward_pass(model, data, y_true)\n",
    "\n",
    "        trainable_vars = model.trainable_variables\n",
    "\n",
    "        # Apply the update to the network (one at a time):\n",
    "        grads = tape.gradient(loss, trainable_vars)\n",
    "\n",
    "        opt.apply_gradients(zip(grads, trainable_vars))\n",
    "        return loss\n",
    "\n",
    "    for i_epoch in range(n_training_epochs):\n",
    "        print(\"beginning epoch %d\" % i_epoch)\n",
    "        start = time.time()\n",
    "\n",
    "        epoch_steps = int(50000/batch_size)\n",
    "        dataset.shuffle(50000) # Shuffle the whole dataset in memory\n",
    "        batches = dataset.batch(batch_size=batch_size, drop_remainder=True)\n",
    "        \n",
    "        for i_batch, (batch_data, y_true) in enumerate(batches):\n",
    "            batch_data = tf.reshape(batch_data, [-1, 32, 32, 3])\n",
    "            loss = train_iteration(batch_data, y_true, model, opt)\n",
    "            \n",
    "        end = time.time()\n",
    "        print(\"took %1.1f seconds for epoch #%d\" % (end-start, i_epoch))"
   ]
  },
  {
   "cell_type": "code",
   "execution_count": 12,
   "metadata": {},
   "outputs": [],
   "source": [
    "def train_network(_batch_size, _n_training_epochs, _lr):\n",
    "\n",
    "    mnist_model = CIFAR10Classifier()\n",
    "\n",
    "    opt = tf.keras.optimizers.Adam(_lr)\n",
    "\n",
    "    train_loop(_batch_size, _n_training_epochs, mnist_model, opt)"
   ]
  },
  {
   "cell_type": "code",
   "execution_count": 13,
   "metadata": {},
   "outputs": [
    {
     "name": "stdout",
     "output_type": "stream",
     "text": [
      "beginning epoch 0\n",
      "took 57.2 seconds for epoch #0\n",
      "beginning epoch 1\n",
      "took 57.9 seconds for epoch #1\n",
      "beginning epoch 2\n",
      "took 56.5 seconds for epoch #2\n"
     ]
    }
   ],
   "source": [
    "dataset = tf.data.Dataset.from_tensor_slices((x_train, y_train))\n",
    "dataset.shuffle(50000)\n",
    "\n",
    "batch_size = 512\n",
    "epochs = 3\n",
    "lr = .01\n",
    "train_network(batch_size, epochs, lr)"
   ]
  },
  {
   "cell_type": "markdown",
   "metadata": {},
   "source": [
    "# Homework: improve the accuracy of this model"
   ]
  },
  {
   "cell_type": "markdown",
   "metadata": {},
   "source": [
    "Update this notebook to ensure more accuracy. How high can it be raised? Changes like increasing the number of epochs, altering the learning weight, altering the number of neurons the hidden layer, chnaging the optimizer, etc. could be made directly in the notebook. You can also change the model specification by expanding the network's layer. The current notebook's training accuracy is roughly 58.69%, although it varies randomly."
   ]
  },
  {
   "cell_type": "markdown",
   "metadata": {},
   "source": [
    "### Added an additional Conv layer, increased epochs, and changed droput percentage. Reached 85.00% train Acuracy and 70.22% test accuracy"
   ]
  }
 ],
 "metadata": {
  "kernelspec": {
   "display_name": "Python 3 (ipykernel)",
   "language": "python",
   "name": "python3"
  },
  "language_info": {
   "codemirror_mode": {
    "name": "ipython",
    "version": 3
   },
   "file_extension": ".py",
   "mimetype": "text/x-python",
   "name": "python",
   "nbconvert_exporter": "python",
   "pygments_lexer": "ipython3",
   "version": "3.10.4"
  }
 },
 "nbformat": 4,
 "nbformat_minor": 4
}
