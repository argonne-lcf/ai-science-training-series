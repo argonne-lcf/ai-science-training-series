{
 "cells": [
  {
   "cell_type": "markdown",
   "id": "29836fbe-7283-4fdc-9c52-83c6c87c3ccd",
   "metadata": {},
   "source": [
    "# Install Libraries if Needed (Only Run Once)"
   ]
  },
  {
   "cell_type": "code",
   "execution_count": null,
   "id": "4f187f48-1af9-402c-908c-d97c804d794d",
   "metadata": {},
   "outputs": [],
   "source": [
    "# !pip install -U deepxde"
   ]
  },
  {
   "cell_type": "markdown",
   "id": "f855413b-67cf-4dfc-ba49-2f35d52b7bbe",
   "metadata": {},
   "source": [
    "# Import Libraries"
   ]
  },
  {
   "cell_type": "code",
   "execution_count": null,
   "id": "d4041eda-8ece-46a1-9287-08bbebac6a33",
   "metadata": {},
   "outputs": [],
   "source": [
    "# Interactive Plotting\n",
    "\n",
    "# for jupyter notebooks\n",
    "%matplotlib notebook \n",
    "\n",
    "# for jupyter labs\n",
    "# %matplotlib widget "
   ]
  },
  {
   "cell_type": "code",
   "execution_count": null,
   "id": "742136fd-8f6c-4991-a512-c73e83bbbede",
   "metadata": {},
   "outputs": [],
   "source": [
    "\"\"\"Backend supported: tensorflow.compat.v1, tensorflow, pytorch\"\"\"\n",
    "import io\n",
    "import re\n",
    "import os\n",
    "\n",
    "import matplotlib.pyplot as plt\n",
    "import numpy as np\n",
    "\n",
    "import deepxde as dde\n",
    "from deepxde.backend import tf\n",
    "\n",
    "from mpl_toolkits.mplot3d import Axes3D\n",
    "import sys\n",
    "from scipy.integrate import odeint\n",
    "import matplotlib.tri as tri\n",
    "from mpl_toolkits import mplot3d\n",
    "from IPython.core.display import display, HTML\n",
    "display(HTML(\"<style>.container { width:100% !important; }</style>\"))"
   ]
  },
  {
   "cell_type": "markdown",
   "id": "3494f65e-111a-4e34-b506-c9eea3b9b42f",
   "metadata": {},
   "source": [
    "# Poisson Equation\n",
    "$$\n",
    "\\nabla^2 u(x,y) = -1,\\quad (x,y) \\in \\Omega, \\\\\n",
    "u(x,y) = 0, \\quad (x,y) \\in \\partial \\Omega, \\\\\n",
    "\\Omega = [-1, 1]^2 \\ \\backslash \\ [0,1]^2\n",
    "$$"
   ]
  },
  {
   "cell_type": "markdown",
   "id": "6bf46cd1-4307-4ab8-b1eb-f85d046e08bf",
   "metadata": {},
   "source": [
    "# Define PDE"
   ]
  },
  {
   "cell_type": "code",
   "execution_count": null,
   "id": "79d654b1-d01a-451a-a81f-cfafe90ca9c3",
   "metadata": {},
   "outputs": [],
   "source": [
    "def pde(x, y):\n",
    "    dy_xx = dde.grad.hessian(y, x, i=0, j=0)\n",
    "    dy_yy = dde.grad.hessian(y, x, i=1, j=1)\n",
    "    return -dy_xx - dy_yy - 1"
   ]
  },
  {
   "cell_type": "markdown",
   "id": "2f7e466c-3d27-4662-9a7c-cc8c8051b775",
   "metadata": {},
   "source": [
    "# Define Geometry"
   ]
  },
  {
   "cell_type": "code",
   "execution_count": null,
   "id": "6ce5bc67-6731-4d1d-8cd3-6387e7593c5d",
   "metadata": {},
   "outputs": [],
   "source": [
    "geom = dde.geometry.Polygon([[0, 0], [1, 0], [1, -1], [-1, -1], [-1, 1], [0, 1]])"
   ]
  },
  {
   "cell_type": "code",
   "execution_count": null,
   "id": "1ffac6d6",
   "metadata": {},
   "outputs": [],
   "source": [
    "plt.figure(figsize=(8,8))\n",
    "# plt.axis('equal')\n",
    "\n",
    "plt.fill(geom.vertices[:,0], geom.vertices[:,1])\n",
    "plt.axis('square')\n",
    "plt.xlim([-1,1])\n",
    "plt.ylim([-1,1])\n",
    "plt.xlabel('x')\n",
    "plt.ylabel('y')\n",
    "plt.title('Lshape Geometry') \n",
    "plt.tight_layout()"
   ]
  },
  {
   "cell_type": "markdown",
   "id": "2b702b76-698f-47c2-af57-a6a9998c4068",
   "metadata": {},
   "source": [
    "# Define BC"
   ]
  },
  {
   "cell_type": "code",
   "execution_count": null,
   "id": "7282efc5-4246-42e7-b4a1-b5b2d2f6080a",
   "metadata": {},
   "outputs": [],
   "source": [
    "def boundary(_, on_boundary):\n",
    "    return on_boundary\n",
    "\n",
    "bc = dde.DirichletBC(geom, lambda x: 0, boundary)"
   ]
  },
  {
   "cell_type": "markdown",
   "id": "1ac6ae7a-faab-4c13-904f-cdc9cd2c24c9",
   "metadata": {},
   "source": [
    "# Define Data (PDE + BC + Geometry)"
   ]
  },
  {
   "cell_type": "code",
   "execution_count": null,
   "id": "4d343ff4-de07-4ce6-8325-cf0658e252d4",
   "metadata": {},
   "outputs": [],
   "source": [
    "data = dde.data.PDE(geom, pde, bc, num_domain=25000, num_boundary=5000, num_test=1500)"
   ]
  },
  {
   "cell_type": "markdown",
   "id": "cbf49764-544f-4daa-8402-7bc10d8944b0",
   "metadata": {},
   "source": [
    "# Define Network Architecture"
   ]
  },
  {
   "cell_type": "code",
   "execution_count": null,
   "id": "797a315f-5ae7-4e4d-adfc-875aa699008d",
   "metadata": {},
   "outputs": [],
   "source": [
    "net = dde.maps.FNN([2] + [50] * 4 + [1], \"tanh\", \"Glorot uniform\")"
   ]
  },
  {
   "cell_type": "markdown",
   "id": "0e41e79b-5a68-4a7a-a1b8-08ed34d4eeda",
   "metadata": {},
   "source": [
    "# Define Model (Data + Net)"
   ]
  },
  {
   "cell_type": "code",
   "execution_count": null,
   "id": "538d0bb6-6f18-4caf-a16f-35ea1ab3cc27",
   "metadata": {},
   "outputs": [],
   "source": [
    "model = dde.Model(data, net)"
   ]
  },
  {
   "cell_type": "markdown",
   "id": "c0b628d7",
   "metadata": {},
   "source": [
    "# Define Paths"
   ]
  },
  {
   "cell_type": "code",
   "execution_count": null,
   "id": "65f6ae13",
   "metadata": {},
   "outputs": [],
   "source": [
    "save_dir = 'Poisson_Lshape'\n",
    "model_name = 'model'\n",
    "os.makedirs(save_dir, exist_ok=True)\n",
    "model_path = os.path.join(save_dir, model_name)\n",
    "ckpt_path = tf.train.latest_checkpoint(save_dir)\n",
    "loss_fname = 'loss_Poisson_Lshape.dat'\n",
    "train_fname = 'train_Poisson_Lshape.dat'\n",
    "test_fname = 'test_Poisson_Lshape.dat'\n",
    "loss_path = os.path.join(save_dir, loss_fname)\n",
    "train_path = os.path.join(save_dir, train_fname)\n",
    "test_path = os.path.join(save_dir, test_fname)\n",
    "\n",
    "# ckpt_path = os.path.join(save_dir, 'checkpoint')\n",
    "# model.save(model_path)"
   ]
  },
  {
   "cell_type": "markdown",
   "id": "706b6401",
   "metadata": {},
   "source": [
    "# Load Model"
   ]
  },
  {
   "cell_type": "code",
   "execution_count": null,
   "id": "01bbc3e4",
   "metadata": {},
   "outputs": [],
   "source": [
    "model.compile(\"adam\", lr=1e-3)\n",
    "model.restore(ckpt_path, verbose=1)"
   ]
  },
  {
   "cell_type": "markdown",
   "id": "6acb035b-e927-45e4-9f55-cb37b4122228",
   "metadata": {},
   "source": [
    "# Train the Model\n",
    "Here we train the model twice.  Once with Adam optimizer for initial training.  Then again with L-BFGS-B optimizer for finetuning."
   ]
  },
  {
   "cell_type": "code",
   "execution_count": null,
   "id": "8c339886-3178-4f76-80a5-dc0c5611adbe",
   "metadata": {},
   "outputs": [],
   "source": [
    "model.compile(\"adam\", lr=0.001)\n",
    "model.train(epochs=50000)\n",
    "model.compile(\"L-BFGS\")\n",
    "losshistory, train_state = model.train()"
   ]
  },
  {
   "cell_type": "markdown",
   "id": "29624d85",
   "metadata": {},
   "source": [
    "# Save Model"
   ]
  },
  {
   "cell_type": "code",
   "execution_count": null,
   "id": "510f6149",
   "metadata": {},
   "outputs": [],
   "source": [
    "model.save(model_path)"
   ]
  },
  {
   "cell_type": "markdown",
   "id": "d9caa002-3f59-4c68-801a-d688cea338e3",
   "metadata": {},
   "source": [
    "# Plot Loss and Predictions"
   ]
  },
  {
   "cell_type": "code",
   "execution_count": null,
   "id": "33701d23-4138-499d-853e-71381351edb5",
   "metadata": {},
   "outputs": [],
   "source": [
    "dde.saveplot(losshistory, train_state, issave=True, isplot=True, loss_fname=loss_path, train_fname=train_path, test_fname=test_path)"
   ]
  },
  {
   "cell_type": "markdown",
   "id": "172ed460-a4c5-47b4-8bb6-5971a5f63394",
   "metadata": {},
   "source": [
    "# Get Predictions"
   ]
  },
  {
   "cell_type": "code",
   "execution_count": null,
   "id": "b19dba2e-dbb1-4eb6-8a00-4d32a560efda",
   "metadata": {},
   "outputs": [],
   "source": [
    "def load_test_data(file='dataset/Poisson_Lshape.npz'):\n",
    "    data = np.load(file)\n",
    "    X_test = data['X_test']\n",
    "    y_test = data['y_ref']\n",
    "    return X_test, y_test"
   ]
  },
  {
   "cell_type": "code",
   "execution_count": null,
   "id": "dea0734e-3802-4366-b1ae-2501a80e92ea",
   "metadata": {},
   "outputs": [],
   "source": [
    "file = 'dataset/Poisson_Lshape.npz'\n",
    "X_test, y_test = load_test_data(file)"
   ]
  },
  {
   "cell_type": "markdown",
   "id": "ce34437a-b4ae-465d-baf7-7e60366b365e",
   "metadata": {},
   "source": [
    "# Predict on Test Data"
   ]
  },
  {
   "cell_type": "code",
   "execution_count": null,
   "id": "f5c817ba-f8ce-4409-9447-6db2a7252a68",
   "metadata": {},
   "outputs": [],
   "source": [
    "y_pred = model.predict(X_test)"
   ]
  },
  {
   "cell_type": "markdown",
   "id": "179a7e80-ade3-411b-868b-11b51f3a6113",
   "metadata": {},
   "source": [
    "# Evaluate on Test Data"
   ]
  },
  {
   "cell_type": "code",
   "execution_count": null,
   "id": "8e38d62f-8e00-4541-b67d-2ec286de5bf3",
   "metadata": {},
   "outputs": [],
   "source": [
    "not_nan = ~np.isnan(y_test[:,0])\n",
    "\n",
    "print(\"L2 relative error:\", dde.metrics.l2_relative_error(y_test[not_nan], y_pred[not_nan]))"
   ]
  },
  {
   "cell_type": "markdown",
   "id": "2eb89490-f885-4502-b2a6-023892a1f70a",
   "metadata": {},
   "source": [
    "# Plot Results"
   ]
  },
  {
   "cell_type": "code",
   "execution_count": null,
   "id": "e0af005c-bf26-4589-94f8-92e7f4be9e7f",
   "metadata": {},
   "outputs": [],
   "source": [
    "not_nan"
   ]
  },
  {
   "cell_type": "code",
   "execution_count": null,
   "id": "9860a930-bafb-42ec-889c-0b86bcdcb6bb",
   "metadata": {},
   "outputs": [],
   "source": [
    "X = X_test[not_nan,0]\n",
    "Y = X_test[not_nan,1]\n",
    "Y_test = y_test[not_nan,0]\n",
    "Y_pred = y_pred[not_nan,0]\n"
   ]
  },
  {
   "cell_type": "code",
   "execution_count": null,
   "id": "d9610976-5cdd-40d4-947f-b06da4e65ae9",
   "metadata": {},
   "outputs": [],
   "source": [
    "triang = tri.Triangulation(X, Y)\n",
    "x_triang = X[triang.triangles].mean(axis=1)\n",
    "y_triang = Y[triang.triangles].mean(axis=1)\n",
    "zero = np.zeros_like(x_triang)\n",
    "triang.set_mask(np.greater(x_triang,zero) & np.greater(y_triang,zero))"
   ]
  },
  {
   "cell_type": "code",
   "execution_count": null,
   "id": "ed480685-5467-44bd-a1c9-cd639c115e2d",
   "metadata": {},
   "outputs": [],
   "source": [
    "fig = plt.figure(figsize=(18,5))\n",
    "plt.subplot(1,3,1)\n",
    "# plt.pcolor(XX,TT, S_test, cmap='jet')\n",
    "tpc = plt.tripcolor(triang, Y_test, cmap='jet', shading='gouraud')\n",
    "plt.colorbar(tpc)\n",
    "plt.xlabel('$x$')\n",
    "plt.ylabel('$y$')\n",
    "plt.title('Exact $u(x,y)$')\n",
    "plt.axis('square')\n",
    "plt.xlim([-1,1])\n",
    "plt.ylim([-1,1])\n",
    "plt.tight_layout()\n",
    "# plt.axis('off')\n",
    "\n",
    "plt.subplot(1,3,2)\n",
    "# plt.pcolor(XX,TT, S_pred, cmap='jet')\n",
    "tpc = plt.tripcolor(triang, Y_pred, cmap='jet', shading='gouraud')\n",
    "plt.colorbar(tpc)\n",
    "plt.xlabel('$x$')\n",
    "plt.ylabel('$y$')\n",
    "plt.title('Predict $u(x,y)$')\n",
    "plt.axis('square')\n",
    "plt.xlim([-1,1])\n",
    "plt.ylim([-1,1])\n",
    "plt.tight_layout()\n",
    "# plt.axis('off')\n",
    "\n",
    "plt.subplot(1,3,3)\n",
    "# plt.pcolor(XX,TT, S_pred - S_test, cmap='jet')\n",
    "tpc = plt.tripcolor(triang, abs(Y_pred - Y_test), cmap='jet', shading='gouraud')\n",
    "plt.colorbar(tpc)\n",
    "plt.xlabel('$x$')\n",
    "plt.ylabel('$y$')\n",
    "plt.title('Absolute error')\n",
    "plt.axis('square')\n",
    "plt.xlim([-1,1])\n",
    "plt.ylim([-1,1])\n",
    "plt.tight_layout()\n",
    "# plt.axis('off')\n",
    "plt.show()"
   ]
  },
  {
   "cell_type": "code",
   "execution_count": null,
   "id": "a7ce2603-e565-4d6d-9729-24e9ab4ae415",
   "metadata": {},
   "outputs": [],
   "source": [
    "fig = plt.figure(figsize =(16, 9)) \n",
    "ax = plt.axes(projection ='3d') \n",
    "trisurf = ax.plot_trisurf(X, Y, Y_test,\n",
    "                         cmap = 'jet',\n",
    "                         linewidth = 0.2,\n",
    "                         antialiased = True,\n",
    "                         edgecolor = 'grey') \n",
    "fig.colorbar(trisurf, ax = ax, shrink = 0.5, aspect = 5)\n",
    "ax.set_title('Test Values', fontweight='bold')\n",
    "# Adding labels\n",
    "ax.set_xlabel('x', fontweight ='bold')\n",
    "ax.set_ylabel('y', fontweight ='bold')\n",
    "ax.set_zlabel('u', fontweight ='bold')\n",
    "plt.show()"
   ]
  },
  {
   "cell_type": "code",
   "execution_count": null,
   "id": "5ca34e18-6cce-4ab8-b02c-a45917a4acbd",
   "metadata": {},
   "outputs": [],
   "source": [
    "fig = plt.figure(figsize =(16, 9)) \n",
    "ax = plt.axes(projection ='3d') \n",
    "trisurf = ax.plot_trisurf(X, Y, Y_pred,\n",
    "                         cmap = 'jet',\n",
    "                         linewidth = 0.2,\n",
    "                         antialiased = True,\n",
    "                         edgecolor = 'grey') \n",
    "fig.colorbar(trisurf, ax = ax, shrink = 0.5, aspect = 5)\n",
    "ax.set_title('Predictions', fontweight='bold')\n",
    "# Adding labels\n",
    "ax.set_xlabel('x', fontweight ='bold')\n",
    "ax.set_ylabel('y', fontweight ='bold')\n",
    "ax.set_zlabel('u', fontweight ='bold')\n",
    "plt.show()"
   ]
  },
  {
   "cell_type": "code",
   "execution_count": null,
   "id": "2eabe46f-175f-48cc-86be-7a7d4d8156ac",
   "metadata": {},
   "outputs": [],
   "source": [
    "fig = plt.figure(figsize =(16, 9)) \n",
    "ax = plt.axes(projection ='3d') \n",
    "trisurf = ax.plot_trisurf(X, Y, Y_pred - Y_test,\n",
    "                         cmap = 'jet',\n",
    "                         linewidth = 0.2,\n",
    "                         antialiased = True,\n",
    "                         edgecolor = 'grey') \n",
    "fig.colorbar(trisurf, ax = ax, shrink = 0.5, aspect = 5)\n",
    "ax.set_title('Error', fontweight='bold')\n",
    "# Adding labels\n",
    "ax.set_xlabel('x', fontweight ='bold')\n",
    "ax.set_ylabel('y', fontweight ='bold')\n",
    "ax.set_zlabel('u', fontweight ='bold')\n",
    "plt.show()"
   ]
  },
  {
   "cell_type": "code",
   "execution_count": null,
   "id": "55c27310-3068-45db-9271-da61d8691968",
   "metadata": {},
   "outputs": [],
   "source": []
  }
 ],
 "metadata": {
  "kernelspec": {
   "display_name": "env",
   "language": "python",
   "name": "env"
  },
  "language_info": {
   "codemirror_mode": {
    "name": "ipython",
    "version": 3
   },
   "file_extension": ".py",
   "mimetype": "text/x-python",
   "name": "python",
   "nbconvert_exporter": "python",
   "pygments_lexer": "ipython3",
   "version": "3.8.10"
  }
 },
 "nbformat": 4,
 "nbformat_minor": 5
}
