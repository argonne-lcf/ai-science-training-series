{
 "cells": [
  {
   "cell_type": "markdown",
   "metadata": {},
   "source": [
    "# Install Libraries if Needed (Only Run Once)"
   ]
  },
  {
   "cell_type": "code",
   "execution_count": null,
   "metadata": {},
   "outputs": [],
   "source": [
    "# !pip install -U deepxde"
   ]
  },
  {
   "cell_type": "markdown",
   "metadata": {
    "tags": []
   },
   "source": [
    "# Import Libraries"
   ]
  },
  {
   "cell_type": "code",
   "execution_count": null,
   "metadata": {},
   "outputs": [],
   "source": [
    "# Interactive Plotting\n",
    "\n",
    "# for jupyter notebooks\n",
    "%matplotlib notebook \n",
    "\n",
    "# for jupyter labs\n",
    "# %matplotlib widget "
   ]
  },
  {
   "cell_type": "code",
   "execution_count": null,
   "metadata": {
    "colab": {
     "base_uri": "https://localhost:8080/",
     "height": 102
    },
    "colab_type": "code",
    "id": "eyuhFn4fgkld",
    "outputId": "3ca31e87-1428-4e7e-ff46-347ac74431a7"
   },
   "outputs": [],
   "source": [
    "from __future__ import absolute_import\n",
    "from __future__ import division\n",
    "from __future__ import print_function\n",
    "\n",
    "import io\n",
    "import re\n",
    "import os\n",
    "\n",
    "import matplotlib.pyplot as plt\n",
    "import numpy as np\n",
    "\n",
    "import deepxde as dde\n",
    "from deepxde.backend import tf\n",
    "\n",
    "from mpl_toolkits.mplot3d import Axes3D\n",
    "import sys\n",
    "from scipy.integrate import odeint\n",
    "\n",
    "\n",
    "from IPython.core.display import display, HTML\n",
    "display(HTML(\"<style>.container { width:100% !important; }</style>\"))"
   ]
  },
  {
   "cell_type": "markdown",
   "metadata": {},
   "source": [
    "# Lorenz System\n",
    "$$\n",
    "x_t = C_1(y-x)\\\\\n",
    "y_t = x(C_2-z) - y\\\\\n",
    "z_t = x y - C_3 z\\\\\n",
    "t\\in[0,t_{end}],\\\\\n",
    "$$\n",
    "Defaults are $C_1 = 10$, $C_2 = 28$, $C_3=8/3$, and $t_{end}=3$.  This system is known to exhibit chaos for certain coeffient values.  See https://en.wikipedia.org/wiki/Lorenz_system for more details."
   ]
  },
  {
   "cell_type": "markdown",
   "metadata": {},
   "source": [
    "# Generate Training Data"
   ]
  },
  {
   "cell_type": "code",
   "execution_count": null,
   "metadata": {},
   "outputs": [],
   "source": [
    "def gen_training_data(C1=10.0, C2=28.0, C3=8.0/3.0, x0=5, y0=8, z0=2, tend=3, dt=0.01, tskip=1):\n",
    "    # C1 = 10.0\n",
    "    # C2 = 28.0\n",
    "    # C3 = 8.0 / 3.0\n",
    "    # x0 = 5\n",
    "    # y0 = 8\n",
    "    # z0 = 2\n",
    "    # tend = 3\n",
    "\n",
    "    def f(state, t):\n",
    "        x, y, z = state  # Unpack the state vector\n",
    "        return [C1 * (y - x),\n",
    "                x * (C2 - z) - y, \n",
    "                x * y - C3 * z]  # Derivatives\n",
    "\n",
    "    state0 = [x0, y0, z0]\n",
    "    t = np.arange(0.0, tend, dt)\n",
    "    states = odeint(f, state0, t)\n",
    "    t = np.reshape(t,(-1,1))\n",
    "    return t[::tskip], states[::tskip], state0, tend\n",
    "\n",
    "def plot_states(t, states):\n",
    "    # plt.close('all')s\n",
    "    plt.figure()\n",
    "    ax = plt.axes(projection='3d')\n",
    "    ax.plot3D(states[:, 0], states[:, 1], states[:, 2])\n",
    "    plt.xlabel('x')\n",
    "    plt.ylabel('y')\n",
    "    ax.set_zlabel('z')\n",
    "    \n",
    "\n",
    "    plt.figure()\n",
    "    plt.plot(t[:,0],states[:,0],'b-',label='x')\n",
    "    plt.plot(t[:,0],states[:,1],'r-',label='y')\n",
    "    plt.plot(t[:,0],states[:,2],'y-',label='z')\n",
    "    plt.xlabel('time')\n",
    "    plt.ylabel('position')\n",
    "    plt.title('Lorenz System: Position vs Time')\n",
    "    plt.legend()\n",
    "    plt.show()\n"
   ]
  },
  {
   "cell_type": "markdown",
   "metadata": {},
   "source": [
    "## Data Generation Tips:\n",
    "Feel free to play around with the parameters, but there are failure cases where the PINN will not converge.  Note that this system is known to be chaotic near C1=10, C2=28, C3=8/3.  PINN is better at shorter time scales."
   ]
  },
  {
   "cell_type": "code",
   "execution_count": null,
   "metadata": {},
   "outputs": [],
   "source": [
    "C1true = 10.0\n",
    "C2true = 28\n",
    "C3true = 8.0/3.0\n",
    "x0=-1\n",
    "y0=-1\n",
    "z0=2\n",
    "tend=3\n",
    "dt=0.001 # for integration\n",
    "tskip=100 # skip intiger number of times (simulate having less data available than required for numeric stability)\n",
    "observe_t, ob_y, y0, tend = gen_training_data(C1=C1true, C2=C2true, C3=C3true, x0=x0, y0=y0, z0=z0, tend=tend, dt=dt, tskip=tskip)\n",
    "plot_states(observe_t, ob_y)"
   ]
  },
  {
   "cell_type": "markdown",
   "metadata": {},
   "source": [
    "# Declare Variable Coefficients"
   ]
  },
  {
   "cell_type": "code",
   "execution_count": null,
   "metadata": {},
   "outputs": [],
   "source": [
    "\n",
    "# parameters to be identified\n",
    "C1 = tf.Variable(1.0)\n",
    "C2 = tf.Variable(1.0)\n",
    "C3 = tf.Variable(1.0)\n"
   ]
  },
  {
   "cell_type": "markdown",
   "metadata": {},
   "source": [
    "# Define the Governing PDE"
   ]
  },
  {
   "cell_type": "code",
   "execution_count": null,
   "metadata": {},
   "outputs": [],
   "source": [
    "\n",
    "# define system ODEs\n",
    "def Lorenz_system(x, y):\n",
    "    \"\"\"Lorenz system.\n",
    "    dy1/dx = 10 * (y2 - y1)\n",
    "    dy2/dx = y1 * (28 - y3) - y2\n",
    "    dy3/dx = y1 * y2 - 8/3 * y3\n",
    "    \"\"\"\n",
    "    y1, y2, y3 = y[:, 0:1], y[:, 1:2], y[:, 2:]\n",
    "    dy1_x = dde.grad.jacobian(y, x, i=0)\n",
    "    dy2_x = dde.grad.jacobian(y, x, i=1)\n",
    "    dy3_x = dde.grad.jacobian(y, x, i=2)\n",
    "    return [\n",
    "        dy1_x - C1 * (y2 - y1),\n",
    "        dy2_x - y1 * (C2 - y3) + y2,\n",
    "        dy3_x - y1 * y2 + C3 * y3,\n",
    "    ]\n",
    "\n"
   ]
  },
  {
   "cell_type": "markdown",
   "metadata": {
    "colab_type": "text",
    "id": "c8yTpgeIgpEa"
   },
   "source": [
    "# Define ICs/BCs, geometry, and set the data"
   ]
  },
  {
   "cell_type": "code",
   "execution_count": null,
   "metadata": {
    "colab": {
     "base_uri": "https://localhost:8080/",
     "height": 295
    },
    "colab_type": "code",
    "id": "V5GUlQ_4goNr",
    "outputId": "04b9ae60-78cf-48b3-ebfe-7fe55964bf85"
   },
   "outputs": [],
   "source": [
    "# define time domain\n",
    "def boundary(_, on_initial):\n",
    "    return on_initial\n",
    "\n",
    "\n",
    "geom = dde.geometry.TimeDomain(0, tend)\n",
    "\n",
    "# Initial conditions\n",
    "ic1 = dde.IC(geom, lambda X: y0[0], boundary, component=0)\n",
    "ic2 = dde.IC(geom, lambda X: y0[1], boundary, component=1)\n",
    "ic3 = dde.IC(geom, lambda X: y0[2], boundary, component=2)\n",
    "\n",
    "# Get extract the training data\n",
    "observe_y0 = dde.PointSetBC(observe_t, ob_y[:, 0:1], component=0)\n",
    "observe_y1 = dde.PointSetBC(observe_t, ob_y[:, 1:2], component=1)\n",
    "observe_y2 = dde.PointSetBC(observe_t, ob_y[:, 2:3], component=2)\n"
   ]
  },
  {
   "cell_type": "markdown",
   "metadata": {},
   "source": [
    "# Define Data Object"
   ]
  },
  {
   "cell_type": "code",
   "execution_count": null,
   "metadata": {},
   "outputs": [],
   "source": [
    "data = dde.data.PDE(\n",
    "    geom,\n",
    "    Lorenz_system,\n",
    "    [ic1, ic2, ic3, observe_y0, observe_y1, observe_y2],\n",
    "    num_domain=3000, # 400 in original code\n",
    "    num_boundary=2,\n",
    "    anchors=observe_t,\n",
    ")\n",
    "\n",
    "# plt.plot(observe_t, ob_y)\n",
    "# plt.xlabel('Time')\n",
    "# plt.legend(['x','y','z'])\n",
    "# plt.title('Training data')\n",
    "# plt.show()\n"
   ]
  },
  {
   "cell_type": "markdown",
   "metadata": {
    "colab": {
     "base_uri": "https://localhost:8080/",
     "height": 1000
    },
    "colab_type": "code",
    "id": "usZzo2ylv4UA",
    "outputId": "06061756-ab06-46a0-8c32-8f9205cc6507"
   },
   "source": [
    "# Define FNN architecture and compile"
   ]
  },
  {
   "cell_type": "code",
   "execution_count": null,
   "metadata": {
    "colab": {
     "base_uri": "https://localhost:8080/",
     "height": 1000
    },
    "colab_type": "code",
    "id": "usZzo2ylv4UA",
    "outputId": "06061756-ab06-46a0-8c32-8f9205cc6507"
   },
   "outputs": [],
   "source": [
    "net = dde.maps.FNN([1] + [40] * 3 + [3], \"tanh\", \"Glorot uniform\")\n",
    "model = dde.Model(data, net)\n"
   ]
  },
  {
   "cell_type": "markdown",
   "metadata": {},
   "source": [
    "# Define Paths"
   ]
  },
  {
   "cell_type": "code",
   "execution_count": null,
   "metadata": {},
   "outputs": [],
   "source": [
    "save_dir = 'Lorenz_inverse_system'\n",
    "model_name = 'model'\n",
    "os.makedirs(save_dir, exist_ok=True)\n",
    "model_path = os.path.join(save_dir, model_name)\n",
    "ckpt_path = tf.train.latest_checkpoint(save_dir)\n",
    "loss_fname = 'loss_Lorenz_inverse_system.dat'\n",
    "train_fname = 'train_Lorenz_inverse_system.dat'\n",
    "test_fname = 'test_Lorenz_inverse_system.dat'\n",
    "var_fname = \"variables_Lorenz_inverse_system.dat\"\n",
    "\n",
    "loss_path = os.path.join(save_dir, loss_fname)\n",
    "train_path = os.path.join(save_dir, train_fname)\n",
    "test_path = os.path.join(save_dir, test_fname)\n",
    "var_path = os.path.join(save_dir, var_fname)\n",
    "# ckpt_path = os.path.join(save_dir, 'checkpoint')\n",
    "# model.save(model_path)"
   ]
  },
  {
   "cell_type": "markdown",
   "metadata": {},
   "source": [
    "# Load Model"
   ]
  },
  {
   "cell_type": "code",
   "execution_count": null,
   "id": "01bbc3e4",
   "metadata": {},
   "outputs": [],
   "source": [
    "model.compile(\"adam\", lr=1e-3)\n",
    "model.restore(ckpt_path, verbose=1)"
   ]
  },
  {
   "cell_type": "markdown",
   "metadata": {
    "colab": {
     "base_uri": "https://localhost:8080/",
     "height": 1000
    },
    "colab_type": "code",
    "id": "usZzo2ylv4UA",
    "outputId": "06061756-ab06-46a0-8c32-8f9205cc6507"
   },
   "source": [
    "# Define callbacks for storing results"
   ]
  },
  {
   "cell_type": "code",
   "execution_count": null,
   "metadata": {
    "colab": {
     "base_uri": "https://localhost:8080/",
     "height": 1000
    },
    "colab_type": "code",
    "id": "usZzo2ylv4UA",
    "outputId": "06061756-ab06-46a0-8c32-8f9205cc6507"
   },
   "outputs": [],
   "source": [
    "variable = dde.callbacks.VariableValue(\n",
    "    [C1, C2, C3], \n",
    "    period=1,\n",
    "    filename=var_path\n",
    ")"
   ]
  },
  {
   "cell_type": "markdown",
   "metadata": {},
   "source": [
    "# Train the Network"
   ]
  },
  {
   "cell_type": "code",
   "execution_count": null,
   "metadata": {
    "colab": {
     "base_uri": "https://localhost:8080/",
     "height": 1000
    },
    "colab_type": "code",
    "id": "usZzo2ylv4UA",
    "outputId": "06061756-ab06-46a0-8c32-8f9205cc6507"
   },
   "outputs": [],
   "source": [
    "model.compile(\"adam\", lr=0.001)\n",
    "losshistory, train_state = model.train(epochs=60000, callbacks=[variable])"
   ]
  },
  {
   "cell_type": "markdown",
   "id": "29624d85",
   "metadata": {},
   "source": [
    "# Save Model"
   ]
  },
  {
   "cell_type": "code",
   "execution_count": null,
   "id": "510f6149",
   "metadata": {},
   "outputs": [],
   "source": [
    "model.save(model_path)"
   ]
  },
  {
   "cell_type": "markdown",
   "id": "cee785e3",
   "metadata": {},
   "source": [
    "# Plot Training Performance"
   ]
  },
  {
   "cell_type": "code",
   "execution_count": null,
   "id": "227cb890-b006-481b-a472-20b175903866",
   "metadata": {},
   "outputs": [],
   "source": [
    "dde.saveplot(losshistory, train_state, issave=True, isplot=True, loss_fname=loss_path, train_fname=train_path, test_fname=test_path)\n"
   ]
  },
  {
   "cell_type": "markdown",
   "metadata": {},
   "source": [
    "# Plot Results"
   ]
  },
  {
   "cell_type": "code",
   "execution_count": null,
   "metadata": {
    "colab": {
     "base_uri": "https://localhost:8080/",
     "height": 279
    },
    "colab_type": "code",
    "id": "hyPBX9r_C0aE",
    "outputId": "a7fda507-497a-4ea1-b4d2-dee4489f31a2"
   },
   "outputs": [],
   "source": [
    "# reopen saved data using callbacks in fnamevar \n",
    "lines = open(var_path, \"r\").readlines()\n",
    "\n",
    "# read output data in fnamevar (this line is a long story...)\n",
    "Chat = np.array([np.fromstring(min(re.findall(re.escape('[')+\"(.*?)\"+re.escape(']'),line), key=len), sep=',') for line in lines])\n",
    "\n",
    "l,c = Chat.shape\n",
    "\n",
    "plt.figure()\n",
    "plt.plot(range(l),Chat[:,0],'b-')\n",
    "plt.plot(range(l),Chat[:,1],'r-')\n",
    "plt.plot(range(l),Chat[:,2],'y-')\n",
    "plt.plot(range(l),np.ones(Chat[:,0].shape)*C1true,'b--')\n",
    "plt.plot(range(l),np.ones(Chat[:,1].shape)*C2true,'r--')\n",
    "plt.plot(range(l),np.ones(Chat[:,2].shape)*C3true,'y--')\n",
    "\n",
    "plt.legend(['Pred C1','Pred C2','Pred C3','True C1','True C2','True C3'], ncol=2, loc = \"right\")\n",
    "\n",
    "plt.xlabel('Epoch')\n",
    "plt.show()"
   ]
  },
  {
   "cell_type": "code",
   "execution_count": null,
   "metadata": {},
   "outputs": [],
   "source": [
    "pred_y = model.predict(observe_t)\n",
    "t = observe_t[:, 0]\n",
    "\n",
    "x_pred = pred_y[:,0]\n",
    "y_pred = pred_y[:,1]\n",
    "z_pred = pred_y[:,2]\n",
    "x_true = ob_y[:,0]\n",
    "y_true = ob_y[:,1]\n",
    "z_true = ob_y[:,2]"
   ]
  },
  {
   "cell_type": "code",
   "execution_count": null,
   "metadata": {
    "colab": {
     "base_uri": "https://localhost:8080/",
     "height": 346
    },
    "colab_type": "code",
    "id": "2l75q3hu7SSi",
    "outputId": "289bdd39-19f6-4281-f8e7-dd99a05460a4"
   },
   "outputs": [],
   "source": [
    "\n",
    "plt.figure()\n",
    "\n",
    "plt.plot(t, x_true, 'b-', label='true x')\n",
    "plt.plot(t, y_true, 'k-', label='true y')\n",
    "plt.plot(t, z_true, 'g-', label='true z')\n",
    "\n",
    "plt.plot(t, x_pred, 'r--', label='pred x')\n",
    "plt.plot(t, y_pred, 'y--', label='pred y')\n",
    "plt.plot(t, z_pred, 'c--', label='pred z')\n",
    "\n",
    "\n",
    "\n",
    "# plt.plot(observe_t, ob_y,'-',observe_t, yhat,'--')\n",
    "plt.xlabel('Time')\n",
    "plt.ylabel('Position')\n",
    "plt.legend(ncol=2)\n",
    "plt.title('Predictions')\n",
    "plt.show()"
   ]
  },
  {
   "cell_type": "code",
   "execution_count": null,
   "metadata": {},
   "outputs": [],
   "source": []
  }
 ],
 "metadata": {
  "colab": {
   "collapsed_sections": [],
   "include_colab_link": true,
   "name": "Lorenz_inverse_Colab.ipynb",
   "provenance": []
  },
  "kernelspec": {
   "display_name": "env",
   "language": "python",
   "name": "env"
  },
  "language_info": {
   "codemirror_mode": {
    "name": "ipython",
    "version": 3
   },
   "file_extension": ".py",
   "mimetype": "text/x-python",
   "name": "python",
   "nbconvert_exporter": "python",
   "pygments_lexer": "ipython3",
   "version": "3.8.10"
  },
  "toc-autonumbering": false,
  "toc-showmarkdowntxt": false,
  "toc-showtags": true
 },
 "nbformat": 4,
 "nbformat_minor": 4
}
