{
 "cells": [
  {
   "cell_type": "markdown",
   "id": "8d75612b-ecde-46cb-aaa6-da8baa3a0e9c",
   "metadata": {},
   "source": [
    "# Install Libraries if Needed (Only Run Once)"
   ]
  },
  {
   "cell_type": "code",
   "execution_count": null,
   "id": "0ce4366d-8692-4da1-b279-610ba003a5a5",
   "metadata": {},
   "outputs": [],
   "source": [
    "# !pip install -U deepxde"
   ]
  },
  {
   "cell_type": "markdown",
   "id": "6ed5ff76-3ce2-48fc-8f68-f5049e7d6177",
   "metadata": {},
   "source": [
    "# Import Libraries"
   ]
  },
  {
   "cell_type": "code",
   "execution_count": null,
   "id": "1149f2f8-c538-4274-b98b-51e521023db8",
   "metadata": {},
   "outputs": [],
   "source": [
    "# Interactive Plotting\n",
    "\n",
    "# for jupyter notebooks\n",
    "%matplotlib notebook \n",
    "\n",
    "# for jupyter labs\n",
    "# %matplotlib widget "
   ]
  },
  {
   "cell_type": "code",
   "execution_count": null,
   "id": "d83d0f52-c453-4ca6-a283-66cb25399294",
   "metadata": {},
   "outputs": [],
   "source": [
    "from __future__ import absolute_import\n",
    "from __future__ import division\n",
    "from __future__ import print_function\n",
    "\n",
    "import io\n",
    "import re\n",
    "import os\n",
    "\n",
    "import matplotlib.pyplot as plt\n",
    "import numpy as np\n",
    "\n",
    "import deepxde as dde\n",
    "from deepxde.backend import tf\n",
    "\n",
    "from mpl_toolkits.mplot3d import Axes3D\n",
    "import sys\n",
    "from scipy.integrate import odeint\n",
    "from IPython.core.display import display, HTML\n",
    "display(HTML(\"<style>.container { width:100% !important; }</style>\"))"
   ]
  },
  {
   "cell_type": "markdown",
   "id": "c3acd870-6f8e-4cc4-850d-88042b986fa0",
   "metadata": {},
   "source": [
    "# Burgers Equation"
   ]
  },
  {
   "cell_type": "markdown",
   "id": "a5b33d0a",
   "metadata": {},
   "source": [
    "$$\n",
    "u_t + u u_x = \\frac{0.01}{\\pi} u_{xx}, \\\\\n",
    "x \\in (-1, 1), t \\in (0, 0.99],\\\\\n",
    "u(x,0) = -\\sin(\\pi x), \\\\\n",
    "u(-1,t) = u(1,t) = 0\n",
    "$$"
   ]
  },
  {
   "cell_type": "markdown",
   "id": "e23f9f13-570f-40fd-b7a5-2ec824cf66bc",
   "metadata": {
    "tags": []
   },
   "source": [
    "# Define Generate Test Data Function"
   ]
  },
  {
   "cell_type": "code",
   "execution_count": null,
   "id": "ee58c2bc-a41e-4f9d-b18c-c576da6a543d",
   "metadata": {},
   "outputs": [],
   "source": [
    "def gen_testdata():\n",
    "    data = np.load(\"dataset/Burgers.npz\")\n",
    "    t, x, exact = data[\"t\"], data[\"x\"], data[\"usol\"].T\n",
    "    xx, tt = np.meshgrid(x, t)\n",
    "    X = np.vstack((np.ravel(xx), np.ravel(tt))).T\n",
    "    y = exact.flatten()[:, None]\n",
    "    Nx = len(x)\n",
    "    Nt = len(t)\n",
    "    return X, y, Nx, Nt"
   ]
  },
  {
   "cell_type": "markdown",
   "id": "16f64992-4a1f-4e46-a953-8f463133d1e2",
   "metadata": {},
   "source": [
    "# Define PDE"
   ]
  },
  {
   "cell_type": "code",
   "execution_count": null,
   "id": "273e3eda-9b60-447c-b875-d374675078c3",
   "metadata": {},
   "outputs": [],
   "source": [
    "def pde(x, y):\n",
    "    dy_x = dde.grad.jacobian(y, x, i=0, j=0)\n",
    "    dy_t = dde.grad.jacobian(y, x, i=0, j=1)\n",
    "    dy_xx = dde.grad.hessian(y, x, i=0, j=0)\n",
    "    return dy_t + y * dy_x - 0.01 / np.pi * dy_xx"
   ]
  },
  {
   "cell_type": "markdown",
   "id": "fddd1fa0-2bec-4665-b595-13e82e334e8f",
   "metadata": {},
   "source": [
    "# Define Geometry"
   ]
  },
  {
   "cell_type": "code",
   "execution_count": null,
   "id": "93ba88a8-2951-43e0-8210-37f1c34ef0fb",
   "metadata": {},
   "outputs": [],
   "source": [
    "geom = dde.geometry.Interval(-1, 1)\n",
    "timedomain = dde.geometry.TimeDomain(0, 0.99)\n",
    "geomtime = dde.geometry.GeometryXTime(geom, timedomain)\n"
   ]
  },
  {
   "cell_type": "markdown",
   "id": "1cb88c86-d064-472c-b4ca-9796c296a180",
   "metadata": {},
   "source": [
    "# Define ICs/BCs"
   ]
  },
  {
   "cell_type": "code",
   "execution_count": null,
   "id": "12d76e88-7e49-44cf-8d88-41437957ecde",
   "metadata": {},
   "outputs": [],
   "source": [
    "bc = dde.DirichletBC(geomtime, # geometry\n",
    "                     lambda x: 0, # value of specified boundary\n",
    "                     lambda _, on_boundary: on_boundary # check if point is on specified boundary (function of coordinates and boolean on_boundary returns boolean)\n",
    "                    )\n",
    "ic = dde.IC(geomtime, # geometry\n",
    "            lambda x: -np.sin(np.pi * x[:, 0:1]), # value of initial condition\n",
    "            lambda _, on_initial: on_initial # check if point is an initial condition (function of coordinates and boolean on_initial returns boolean)\n",
    "           )"
   ]
  },
  {
   "cell_type": "markdown",
   "id": "0f022efc-7243-4be0-9e89-f23ab788009e",
   "metadata": {},
   "source": [
    "# Construct Data (geometry + PDE + ICs/BCs)"
   ]
  },
  {
   "cell_type": "code",
   "execution_count": null,
   "id": "1a07be7d-cb09-4333-a5d8-65bfc1e42ff4",
   "metadata": {},
   "outputs": [],
   "source": [
    "data = dde.data.TimePDE(geomtime, # geometry\n",
    "                        pde, # pde\n",
    "                        [bc, ic], # ICs/BCs\n",
    "                        num_domain=2540, # number of points in domain\n",
    "                        num_boundary=80, # number of points on boundary\n",
    "                        num_initial=160 # number of points on initial \n",
    "                       )"
   ]
  },
  {
   "cell_type": "markdown",
   "id": "9f905e44-2924-4949-81fd-44f0891dcca5",
   "metadata": {},
   "source": [
    "# Define Network Architecture"
   ]
  },
  {
   "cell_type": "code",
   "execution_count": null,
   "id": "1bbc3339-27c7-48f0-a1f1-f97de5911d87",
   "metadata": {},
   "outputs": [],
   "source": [
    "net = dde.maps.FNN([2] + [20] * 3 + [1], # layers\n",
    "                   \"tanh\", # activation function\n",
    "                   \"Glorot normal\" # initializer\n",
    "                  )"
   ]
  },
  {
   "cell_type": "markdown",
   "id": "721fdb0f-d594-406b-9b35-ec0a85d1ed98",
   "metadata": {},
   "source": [
    "# Define Model (data + net)"
   ]
  },
  {
   "cell_type": "code",
   "execution_count": null,
   "id": "ec37bd72-65dc-483f-b3b6-e38b62eece16",
   "metadata": {},
   "outputs": [],
   "source": [
    "model = dde.Model(data, net)"
   ]
  },
  {
   "cell_type": "markdown",
   "id": "c0b628d7",
   "metadata": {},
   "source": [
    "# Define Paths"
   ]
  },
  {
   "cell_type": "code",
   "execution_count": null,
   "id": "65f6ae13",
   "metadata": {},
   "outputs": [],
   "source": [
    "save_dir = 'Burgers'\n",
    "model_name = 'model'\n",
    "os.makedirs(save_dir, exist_ok=True)\n",
    "model_path = os.path.join(save_dir, model_name)\n",
    "ckpt_path = tf.train.latest_checkpoint(save_dir)\n",
    "loss_fname = 'loss_Burgers.dat'\n",
    "train_fname = 'train_Burgers.dat'\n",
    "test_fname = 'test_Burgers.dat'\n",
    "loss_path = os.path.join(save_dir, loss_fname)\n",
    "train_path = os.path.join(save_dir, train_fname)\n",
    "test_path = os.path.join(save_dir, test_fname)\n",
    "\n",
    "# ckpt_path = os.path.join(save_dir, 'checkpoint')\n",
    "# model.save(model_path)"
   ]
  },
  {
   "cell_type": "markdown",
   "id": "706b6401",
   "metadata": {},
   "source": [
    "# Load Model"
   ]
  },
  {
   "cell_type": "code",
   "execution_count": null,
   "id": "01bbc3e4",
   "metadata": {},
   "outputs": [],
   "source": [
    "model.compile(\"adam\", lr=1e-3)\n",
    "model.restore(ckpt_path, verbose=1)"
   ]
  },
  {
   "cell_type": "markdown",
   "id": "29c2e0bf-a72a-40aa-9d61-e944267bcebf",
   "metadata": {},
   "source": [
    "# Train the Model\n",
    "Here we train the model twice.  Once with Adam optimizer for initial training.  Then again with L-BFGS-B optimizer for finetuning."
   ]
  },
  {
   "cell_type": "code",
   "execution_count": null,
   "id": "e6866a33-5ab8-4a2e-a77c-1b6fc0e859d2",
   "metadata": {},
   "outputs": [],
   "source": [
    "model.compile(\"adam\", lr=1e-3)\n",
    "model.train(epochs=20000)\n",
    "model.compile(\"L-BFGS-B\")\n",
    "losshistory, train_state = model.train()"
   ]
  },
  {
   "cell_type": "markdown",
   "id": "29624d85",
   "metadata": {},
   "source": [
    "# Save Model"
   ]
  },
  {
   "cell_type": "code",
   "execution_count": null,
   "id": "510f6149",
   "metadata": {},
   "outputs": [],
   "source": [
    "model.save(model_path)"
   ]
  },
  {
   "cell_type": "markdown",
   "id": "cee785e3",
   "metadata": {},
   "source": [
    "# Plot Training Performance"
   ]
  },
  {
   "cell_type": "code",
   "execution_count": null,
   "id": "227cb890-b006-481b-a472-20b175903866",
   "metadata": {},
   "outputs": [],
   "source": [
    "dde.saveplot(losshistory, train_state, issave=True, isplot=True, loss_fname=loss_path, train_fname=train_path, test_fname=test_path)\n"
   ]
  },
  {
   "cell_type": "markdown",
   "id": "2316312b-20ba-443e-a7c1-8d3f3838d7ed",
   "metadata": {},
   "source": [
    "# Load the Test Data"
   ]
  },
  {
   "cell_type": "code",
   "execution_count": null,
   "id": "a0f6c57c-6759-4a9a-a037-ed1891e73300",
   "metadata": {},
   "outputs": [],
   "source": [
    "x_test, y_true, Nx, Nt = gen_testdata()\n",
    "y_pred = model.predict(x_test)\n",
    "print(\"L2 relative error:\", dde.metrics.l2_relative_error(y_true, y_pred))\n",
    "np.savetxt(\"test_burgers.dat\", np.hstack((x_test, y_true, y_pred)))"
   ]
  },
  {
   "cell_type": "code",
   "execution_count": null,
   "id": "b3014885-1c54-4df5-bd1b-0b6f899056de",
   "metadata": {},
   "outputs": [],
   "source": [
    "X_test, T_test = x_test[:,0], x_test[:,1]\n",
    "X = X_test.reshape((Nt, Nx))\n",
    "T = T_test.reshape((Nt, Nx))\n",
    "Y_pred = y_pred.reshape((Nt, Nx))\n",
    "Y_test = y_true.reshape((Nt, Nx))\n",
    "x = X[0]\n",
    "t = T[:,0]"
   ]
  },
  {
   "cell_type": "code",
   "execution_count": null,
   "id": "0325fc65-6a33-4911-9d84-4f2c30806d70",
   "metadata": {},
   "outputs": [],
   "source": []
  },
  {
   "cell_type": "code",
   "execution_count": null,
   "id": "cfaa9882-0870-462f-86ca-2fa2ef6173c7",
   "metadata": {},
   "outputs": [],
   "source": [
    "fig = plt.figure(figsize=(18,5))\n",
    "plt.subplot(1,3,1)\n",
    "# plt.pcolor(XX,TT, S_test, cmap='jet')\n",
    "plt.pcolormesh(X, T, Y_test, cmap='jet', shading='gouraud')\n",
    "plt.colorbar()\n",
    "plt.xlabel('$x$')\n",
    "plt.ylabel('$t$')\n",
    "plt.title('Exact $u(x,t)$')\n",
    "plt.tight_layout()\n",
    "\n",
    "plt.subplot(1,3,2)\n",
    "# plt.pcolor(XX,TT, S_pred, cmap='jet')\n",
    "plt.pcolormesh(X, T, Y_pred, cmap='jet', shading='gouraud')\n",
    "plt.colorbar()\n",
    "plt.xlabel('$x$')\n",
    "plt.ylabel('$t$')\n",
    "plt.title('Predict $u(x,t)$')\n",
    "plt.tight_layout()\n",
    "\n",
    "plt.subplot(1,3,3)\n",
    "# plt.pcolor(XX,TT, S_pred - S_test, cmap='jet')\n",
    "plt.pcolormesh(X, T, Y_pred - Y_test, cmap='jet', shading='gouraud')\n",
    "plt.colorbar()\n",
    "plt.xlabel('$x$')\n",
    "plt.ylabel('$t$')\n",
    "plt.title('Absolute error')\n",
    "plt.tight_layout()\n",
    "plt.show()"
   ]
  },
  {
   "cell_type": "code",
   "execution_count": null,
   "id": "f1a4e0b8-5f97-4a41-85f5-7fe86448298f",
   "metadata": {},
   "outputs": [],
   "source": [
    "fig = plt.figure()\n",
    "ax = fig.add_subplot(111)\n",
    "plt.ion()\n",
    "\n",
    "fig.show()\n",
    "fig.canvas.draw()\n",
    "ax.plot(x, Y_test[0], 'b-', label='Exact')\n",
    "ax.plot(x, Y_pred[0], 'r--', label='PINN Prediction')\n",
    "ylim = plt.ylim()\n",
    "xlim = [-1, 1]\n",
    "plt.tight_layout()\n",
    "\n",
    "\n",
    "for i in range(Nt):\n",
    "    ax.clear()\n",
    "    ax.plot(x, Y_test[i], 'b-', label='Exact')\n",
    "    ax.plot(x, Y_pred[i], 'r--', label='PINN Prediction')\n",
    "    plt.ylim(ylim)\n",
    "    plt.xlim(xlim)\n",
    "    plt.xlabel(f'$x$')\n",
    "    plt.ylabel(f'$s$')\n",
    "    plt.title(f'Diffusion Reaction Equation')\n",
    "    plt.legend(loc='upper right')\n",
    "    plt.tight_layout()\n",
    "    fig.canvas.draw()"
   ]
  },
  {
   "cell_type": "markdown",
   "id": "019138e9-1880-4d2b-a1a4-deb6914b3edb",
   "metadata": {},
   "source": [
    "# Optionally Refine by Adding Additional Points Near Potential Shock (True Shock Occurs at Low to Zero Viscosity)"
   ]
  },
  {
   "cell_type": "code",
   "execution_count": null,
   "id": "afd23094",
   "metadata": {},
   "outputs": [],
   "source": [
    "save_dir = 'Burgers_RAR'\n",
    "model_name = 'model_RAR'\n",
    "os.makedirs(save_dir, exist_ok=True)\n",
    "model_path = os.path.join(save_dir, model_name)\n",
    "ckpt_path = tf.train.latest_checkpoint(save_dir)\n",
    "loss_fname = 'loss_Burgers_RAR.dat'\n",
    "train_fname = 'train_Burgers_RAR.dat'\n",
    "test_fname = 'test_Burgers_RAR.dat'\n",
    "loss_path = os.path.join(save_dir, loss_fname)\n",
    "train_path = os.path.join(save_dir, train_fname)\n",
    "test_path = os.path.join(save_dir, test_fname)\n",
    "\n",
    "# ckpt_path = os.path.join(save_dir, 'checkpoint')\n",
    "# model.save(model_path)"
   ]
  },
  {
   "cell_type": "code",
   "execution_count": null,
   "id": "00b6355a",
   "metadata": {},
   "outputs": [],
   "source": [
    "model.compile(\"adam\", lr=1e-3)\n",
    "model.restore(ckpt_path)"
   ]
  },
  {
   "cell_type": "code",
   "execution_count": null,
   "id": "c7891bf1-6941-4c58-a525-b3e9de85eb08",
   "metadata": {},
   "outputs": [],
   "source": [
    "X_reample = geomtime.random_points(100000)\n",
    "err = 1\n",
    "while err > 0.01:\n",
    "    f = model.predict(X_reample, operator=pde)\n",
    "    err_eq = np.absolute(f)\n",
    "    err = np.mean(err_eq)\n",
    "    print(\"Mean residual: %.3e\" % (err))\n",
    "\n",
    "    x_id = np.argmax(err_eq)\n",
    "    print(\"Adding new point:\", X_reample[x_id], \"\\n\")\n",
    "    data.add_anchors(X_reample[x_id])\n",
    "    early_stopping = dde.callbacks.EarlyStopping(min_delta=1e-4, patience=2000)\n",
    "    model.compile(\"adam\", lr=1e-3)\n",
    "    model.train(\n",
    "        epochs=10000, disregard_previous_best=True, callbacks=[early_stopping]\n",
    "    )\n",
    "    model.compile(\"L-BFGS-B\")\n",
    "    losshistory, train_state = model.train()"
   ]
  },
  {
   "cell_type": "code",
   "execution_count": null,
   "id": "a5eca8d1",
   "metadata": {},
   "outputs": [],
   "source": [
    "model.save(model_path)"
   ]
  },
  {
   "cell_type": "code",
   "execution_count": null,
   "id": "7a8e675d-b1ff-40bc-a6be-80802e3ccb6b",
   "metadata": {},
   "outputs": [],
   "source": [
    "dde.saveplot(losshistory, train_state, issave=True, isplot=True, loss_fname=loss_path, train_fname=train_path, test_fname=test_path)\n"
   ]
  },
  {
   "cell_type": "markdown",
   "id": "73d72d04",
   "metadata": {},
   "source": [
    "# Load the Test Data"
   ]
  },
  {
   "cell_type": "code",
   "execution_count": null,
   "id": "2b09c857",
   "metadata": {},
   "outputs": [],
   "source": [
    "x_test, y_true, Nx, Nt = gen_testdata()\n",
    "y_pred = model.predict(x_test)\n",
    "print(\"L2 relative error:\", dde.metrics.l2_relative_error(y_true, y_pred))\n",
    "np.savetxt(\"test_burgers.dat\", np.hstack((x_test, y_true, y_pred)))"
   ]
  },
  {
   "cell_type": "code",
   "execution_count": null,
   "id": "4cf79ddb",
   "metadata": {},
   "outputs": [],
   "source": [
    "X_test, T_test = x_test[:,0], x_test[:,1]\n",
    "X = X_test.reshape((Nt, Nx))\n",
    "T = T_test.reshape((Nt, Nx))\n",
    "Y_pred = y_pred.reshape((Nt, Nx))\n",
    "Y_test = y_true.reshape((Nt, Nx))\n",
    "x = X[0]\n",
    "t = T[:,0]"
   ]
  },
  {
   "cell_type": "code",
   "execution_count": null,
   "id": "4bb29887",
   "metadata": {},
   "outputs": [],
   "source": []
  },
  {
   "cell_type": "code",
   "execution_count": null,
   "id": "344207ff",
   "metadata": {},
   "outputs": [],
   "source": [
    "fig = plt.figure(figsize=(18,5))\n",
    "plt.subplot(1,3,1)\n",
    "# plt.pcolor(XX,TT, S_test, cmap='jet')\n",
    "plt.pcolormesh(X, T, Y_test, cmap='jet', shading='gouraud')\n",
    "plt.colorbar()\n",
    "plt.xlabel('$x$')\n",
    "plt.ylabel('$t$')\n",
    "plt.title('Exact $u(x,t)$')\n",
    "plt.tight_layout()\n",
    "\n",
    "plt.subplot(1,3,2)\n",
    "# plt.pcolor(XX,TT, S_pred, cmap='jet')\n",
    "plt.pcolormesh(X, T, Y_pred, cmap='jet', shading='gouraud')\n",
    "plt.colorbar()\n",
    "plt.xlabel('$x$')\n",
    "plt.ylabel('$t$')\n",
    "plt.title('Predict $u(x,t)$')\n",
    "plt.tight_layout()\n",
    "\n",
    "plt.subplot(1,3,3)\n",
    "# plt.pcolor(XX,TT, S_pred - S_test, cmap='jet')\n",
    "plt.pcolormesh(X, T, Y_pred - Y_test, cmap='jet', shading='gouraud')\n",
    "plt.colorbar()\n",
    "plt.xlabel('$x$')\n",
    "plt.ylabel('$t$')\n",
    "plt.title('Absolute error')\n",
    "plt.tight_layout()\n",
    "plt.show()"
   ]
  },
  {
   "cell_type": "code",
   "execution_count": null,
   "id": "dc2d8222",
   "metadata": {},
   "outputs": [],
   "source": [
    "fig = plt.figure()\n",
    "ax = fig.add_subplot(111)\n",
    "plt.ion()\n",
    "\n",
    "fig.show()\n",
    "fig.canvas.draw()\n",
    "ax.plot(x, Y_test[0], 'b-', label='Exact')\n",
    "ax.plot(x, Y_pred[0], 'r--', label='PINN Prediction')\n",
    "ylim = plt.ylim()\n",
    "xlim = [-1, 1]\n",
    "plt.tight_layout()\n",
    "\n",
    "\n",
    "for i in range(Nt):\n",
    "    ax.clear()\n",
    "    ax.plot(x, Y_test[i], 'b-', label='Exact')\n",
    "    ax.plot(x, Y_pred[i], 'r--', label='PINN Prediction')\n",
    "    plt.ylim(ylim)\n",
    "    plt.xlim(xlim)\n",
    "    plt.xlabel(f'$x$')\n",
    "    plt.ylabel(f'$s$')\n",
    "    plt.title(f'Diffusion Reaction Equation')\n",
    "    plt.legend(loc='upper right')\n",
    "    plt.tight_layout()\n",
    "    fig.canvas.draw()"
   ]
  },
  {
   "cell_type": "code",
   "execution_count": null,
   "id": "a7729702",
   "metadata": {},
   "outputs": [],
   "source": []
  },
  {
   "cell_type": "code",
   "execution_count": null,
   "id": "3904315e",
   "metadata": {},
   "outputs": [],
   "source": []
  }
 ],
 "metadata": {
  "kernelspec": {
   "display_name": "env",
   "language": "python",
   "name": "env"
  },
  "language_info": {
   "codemirror_mode": {
    "name": "ipython",
    "version": 3
   },
   "file_extension": ".py",
   "mimetype": "text/x-python",
   "name": "python",
   "nbconvert_exporter": "python",
   "pygments_lexer": "ipython3",
   "version": "3.8.10"
  },
  "toc-autonumbering": false,
  "toc-showmarkdowntxt": false,
  "toc-showtags": false
 },
 "nbformat": 4,
 "nbformat_minor": 5
}
