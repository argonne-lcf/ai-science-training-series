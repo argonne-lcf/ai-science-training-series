{
 "cells": [
  {
   "cell_type": "markdown",
   "id": "29836fbe-7283-4fdc-9c52-83c6c87c3ccd",
   "metadata": {},
   "source": [
    "# Install Libraries if Needed (Only Run Once)"
   ]
  },
  {
   "cell_type": "code",
   "execution_count": null,
   "id": "e41417a1",
   "metadata": {},
   "outputs": [],
   "source": [
    "# !pip install -U deepxde"
   ]
  },
  {
   "cell_type": "markdown",
   "id": "f855413b-67cf-4dfc-ba49-2f35d52b7bbe",
   "metadata": {},
   "source": [
    "# Import Libraries"
   ]
  },
  {
   "cell_type": "code",
   "execution_count": null,
   "id": "d4041eda-8ece-46a1-9287-08bbebac6a33",
   "metadata": {},
   "outputs": [],
   "source": [
    "# Interactive Plotting\n",
    "\n",
    "# for jupyter notebooks\n",
    "%matplotlib notebook \n",
    "\n",
    "# for jupyter labs\n",
    "# %matplotlib widget "
   ]
  },
  {
   "cell_type": "code",
   "execution_count": null,
   "id": "742136fd-8f6c-4991-a512-c73e83bbbede",
   "metadata": {},
   "outputs": [],
   "source": [
    "\"\"\"Backend supported: tensorflow.compat.v1, tensorflow, pytorch\"\"\"\n",
    "import io\n",
    "import re\n",
    "import os\n",
    "\n",
    "import matplotlib.pyplot as plt\n",
    "import numpy as np\n",
    "\n",
    "import deepxde as dde\n",
    "from deepxde.backend import tf\n",
    "\n",
    "from mpl_toolkits.mplot3d import Axes3D\n",
    "import sys\n",
    "from scipy.integrate import odeint\n",
    "import matplotlib.tri as tri\n",
    "from mpl_toolkits import mplot3d\n",
    "\n",
    "from IPython.core.display import display, HTML\n",
    "display(HTML(\"<style>.container { width:100% !important; }</style>\"))"
   ]
  },
  {
   "cell_type": "markdown",
   "id": "74ee1a87-c2d4-4fb4-bda5-d51dfcb791b8",
   "metadata": {},
   "source": [
    "# Laplace Equation with holes for anode and cathod\n",
    "$$\n",
    "u_{xx} + u_{yy} = 0, \\quad x \\in(-1,1), y \\in(-1,1)\\\\\n",
    "u(-1,y)=u(1,y)=u(x,-1)=u(x,1)=0\\\\\n",
    "u((x+0.5)^2+y^2<r^2) = 1\\\\\n",
    "u((x-0.5)^2+y^2<r^2) = -1\\\\\n",
    "r = 0.1\n",
    "$$\n"
   ]
  },
  {
   "cell_type": "markdown",
   "id": "3f14d820-f065-4d13-a88a-0ea76547979b",
   "metadata": {},
   "source": [
    "Example originally from https://github.com/lululxvi/deepxde/issues/141"
   ]
  },
  {
   "cell_type": "markdown",
   "id": "7412ea56",
   "metadata": {},
   "source": [
    "# Define PDE"
   ]
  },
  {
   "cell_type": "code",
   "execution_count": null,
   "id": "8b4bddc0-0842-42d2-a693-c93eb42cd510",
   "metadata": {},
   "outputs": [],
   "source": [
    "def pde(x, y):\n",
    "    dy_x = tf.gradients(y, x)[0]\n",
    "    dy_x, dy_y = dy_x[:, 0:1], dy_x[:, 1:]\n",
    "    dy_xx = tf.gradients(dy_x, x)[0][:, 0:1]\n",
    "    dy_yy = tf.gradients(dy_y, x)[0][:, 1:]\n",
    "    return -dy_xx - dy_yy"
   ]
  },
  {
   "cell_type": "markdown",
   "id": "b02eff49",
   "metadata": {},
   "source": [
    "# Functions to Identify the Various Boundaries"
   ]
  },
  {
   "cell_type": "code",
   "execution_count": null,
   "id": "6e79b699-1061-4673-8e99-ec3738de3d5c",
   "metadata": {},
   "outputs": [],
   "source": [
    "def boundary(_, on_boundary):\n",
    "    return on_boundary\n",
    "\n",
    "def boundary_outer(x, on_boundary):\n",
    "    norm = np.sqrt(x[0]**2 + x[1]**2)\n",
    "    return on_boundary and (norm > 0.9)\n",
    "\n",
    "def boundary_cathode(x, on_boundary):\n",
    "    return on_boundary & (x[0] < 0) & (x[0] > -0.9) & (x[1] < 0.9) & (x[1] > -0.9)\n",
    "\n",
    "def boundary_anode(x, on_boundary):\n",
    "    return on_boundary & (x[0] > 0) & (x[0] < 0.9) & (x[1] < 0.9) & (x[1] > -0.9)\n",
    "\n",
    "# Value at boundaries\n",
    "def value_outer(x):\n",
    "    num_data = x.shape[0]\n",
    "    return np.zeros((num_data,1))\n",
    "\n",
    "def value_cathode(x):\n",
    "    num_data = x.shape[0]\n",
    "    return np.ones((num_data,1)) * 1\n",
    "\n",
    "def value_anode(x):\n",
    "    num_data = x.shape[0]\n",
    "    return -np.ones((num_data,1)) * 1"
   ]
  },
  {
   "cell_type": "markdown",
   "id": "5fcb20b1-e188-4848-ba6b-a58ae6008973",
   "metadata": {},
   "source": [
    "# Geometry Operators \n",
    "Can combine geometries in various ways. Take to geometries geom1 and geom2\n",
    "## Union (combine domain of geom1 and geom2 for points in either)\n",
    "```python\n",
    "geom = geom1 | geom2\n",
    "```\n",
    "## Intersection (domain of points in geom1 and geom2)\n",
    "```python\n",
    "geom = geom1 & geom2\n",
    "```\n",
    "## Difference (exclude geom2 from geom1)\n",
    "```python\n",
    "geom = geom1 - geom2\n",
    "```\n",
    "## More details\n",
    "For more details, refer to the geometry class in deepxde https://github.com/lululxvi/deepxde/blob/master/deepxde/geometry/geometry.py\n",
    "\n"
   ]
  },
  {
   "cell_type": "markdown",
   "id": "128a57d0-1518-47c4-85e3-e052dd364854",
   "metadata": {},
   "source": [
    "# Define Geometry and BCs"
   ]
  },
  {
   "cell_type": "code",
   "execution_count": null,
   "id": "e87258b1-23e7-46e2-a1a6-bff72a2eef38",
   "metadata": {},
   "outputs": [],
   "source": [
    "radius = 0.1\n",
    "\n",
    "\n",
    "bound = dde.geometry.Rectangle([-1,-1], [1,1])\n",
    "cathode = dde.geometry.Disk([-0.5,0], radius)\n",
    "anode = dde.geometry.Disk([0.5,0], radius)\n",
    "geom = bound - cathode - anode\n",
    "# geom = dde.geometry.CSGDifference(bound, cathode)\n",
    "# geom = dde.geometry.CSGDifference(geom, anode)\n",
    "bc_outer = dde.DirichletBC(geom, value_outer, boundary_outer)\n",
    "bc_cathode = dde.DirichletBC(geom, value_cathode, boundary_cathode)\n",
    "bc_anode = dde.DirichletBC(geom, value_anode, boundary_anode)"
   ]
  },
  {
   "cell_type": "markdown",
   "id": "2ce54d89-ce6d-448d-bfdb-54e82f210c91",
   "metadata": {},
   "source": [
    "# Define PDE, Net, and Model"
   ]
  },
  {
   "cell_type": "code",
   "execution_count": null,
   "id": "2c60cbc6-9b47-47b4-ad40-58d6932fc8c4",
   "metadata": {},
   "outputs": [],
   "source": [
    "data = dde.data.PDE(geom, pde, [bc_outer, bc_cathode, bc_anode], num_domain=60000, num_boundary=6000, num_test=15000)\n",
    "net = dde.maps.FNN([2] + [50] * 4 + [1], \"tanh\", \"Glorot uniform\")\n",
    "model = dde.Model(data, net)"
   ]
  },
  {
   "cell_type": "markdown",
   "id": "c0b628d7",
   "metadata": {},
   "source": [
    "# Define Paths"
   ]
  },
  {
   "cell_type": "code",
   "execution_count": null,
   "id": "65f6ae13",
   "metadata": {},
   "outputs": [],
   "source": [
    "save_dir = 'Complex_Geometry'\n",
    "model_name = 'model'\n",
    "os.makedirs(save_dir, exist_ok=True)\n",
    "model_path = os.path.join(save_dir, model_name)\n",
    "ckpt_path = tf.train.latest_checkpoint(save_dir)\n",
    "loss_fname = 'loss_complex_geometry.dat'\n",
    "train_fname = 'train_complex_geometry.dat'\n",
    "test_fname = 'test_complex_geometry.dat'\n",
    "loss_path = os.path.join(save_dir, loss_fname)\n",
    "train_path = os.path.join(save_dir, train_fname)\n",
    "test_path = os.path.join(save_dir, test_fname)\n",
    "\n",
    "# ckpt_path = os.path.join(save_dir, 'checkpoint')\n",
    "# model.save(model_path)"
   ]
  },
  {
   "cell_type": "markdown",
   "id": "706b6401",
   "metadata": {},
   "source": [
    "# Load Model"
   ]
  },
  {
   "cell_type": "code",
   "execution_count": null,
   "id": "01bbc3e4",
   "metadata": {},
   "outputs": [],
   "source": [
    "model.compile(\"adam\", lr=1e-3)\n",
    "model.restore(ckpt_path, verbose=1)"
   ]
  },
  {
   "cell_type": "markdown",
   "id": "df687ccf-8961-4b4b-9294-c3e6ea1b3f8f",
   "metadata": {},
   "source": [
    "# Train the Network"
   ]
  },
  {
   "cell_type": "code",
   "execution_count": null,
   "id": "1fd826c5-73b9-439a-877b-88400fd34cba",
   "metadata": {},
   "outputs": [],
   "source": [
    "# Note that we can adjust the loss weights.  Here the PDE loss is has a weight of 1, while the BCs each have a weight of 50\n",
    "model.compile(\"adam\", lr=0.001, loss_weights = [1, 50, 50, 50])\n",
    "losshistory, train_state = model.train(epochs=25000)\n",
    "model.compile(\"L-BFGS-B\")\n",
    "losshistory, train_state = model.train()"
   ]
  },
  {
   "cell_type": "markdown",
   "id": "29624d85",
   "metadata": {},
   "source": [
    "# Save Model"
   ]
  },
  {
   "cell_type": "code",
   "execution_count": null,
   "id": "510f6149",
   "metadata": {},
   "outputs": [],
   "source": [
    "model.save(model_path)"
   ]
  },
  {
   "cell_type": "markdown",
   "id": "2452d17d",
   "metadata": {},
   "source": [
    "# Plot Training Performance"
   ]
  },
  {
   "cell_type": "code",
   "execution_count": null,
   "id": "b5ebf59e-36be-42d4-964f-df2facd650a2",
   "metadata": {},
   "outputs": [],
   "source": [
    "dde.saveplot(losshistory, train_state, issave=True, isplot=True, loss_fname=loss_path, train_fname=train_path, test_fname=test_path)"
   ]
  },
  {
   "cell_type": "markdown",
   "id": "83f55bb2",
   "metadata": {},
   "source": [
    "# Get Predictions on Test Data"
   ]
  },
  {
   "cell_type": "code",
   "execution_count": null,
   "id": "e5151b2c-b91d-47de-b064-021b18f7b17c",
   "metadata": {},
   "outputs": [],
   "source": [
    "\n",
    "u_pred = model.predict(data.test_x).flatten()"
   ]
  },
  {
   "cell_type": "code",
   "execution_count": null,
   "id": "08d62836-5866-40a7-954d-6876a17baa84",
   "metadata": {},
   "outputs": [],
   "source": [
    "x = data.test_x[:,0]\n",
    "y = data.test_x[:,1]\n"
   ]
  },
  {
   "cell_type": "markdown",
   "id": "d934770a",
   "metadata": {},
   "source": [
    "# Plot Results"
   ]
  },
  {
   "cell_type": "code",
   "execution_count": null,
   "id": "4dfa9eb5-b8e9-40bb-b206-4e5562154def",
   "metadata": {},
   "outputs": [],
   "source": [
    "\n",
    "fig = plt.figure(figsize=(7,5))\n",
    "\n",
    "triang = tri.Triangulation(x, y)\n",
    "triang.set_mask((np.hypot((x[triang.triangles].mean(axis=1) - 0.5), y[triang.triangles].mean(axis=1)) < radius ) | (np.hypot((x[triang.triangles].mean(axis=1) + 0.5), y[triang.triangles].mean(axis=1)) < radius))\n",
    "\n",
    "# plt.pcolor(data.test_x, u_pred, cmap='jet', shading='gouraud')\n",
    "tpc = plt.tripcolor(triang, u_pred, cmap='jet', shading='gouraud')\n",
    "\n",
    "plt.colorbar(tpc)\n",
    "plt.axis('square')\n",
    "\n",
    "plt.xlim([-1,1])\n",
    "plt.ylim([-1,1])\n",
    "plt.xlabel('$x$')\n",
    "plt.ylabel('$y$')\n",
    "plt.title('$u_{pred}$')\n",
    "\n",
    "\n",
    "plt.show()"
   ]
  },
  {
   "cell_type": "code",
   "execution_count": null,
   "id": "dbeb9299-4540-456a-a400-45c5beb832c4",
   "metadata": {},
   "outputs": [],
   "source": [
    "fig = plt.figure(figsize =(16, 9)) \n",
    "ax = plt.axes(projection ='3d') \n",
    "trisurf = ax.plot_trisurf(x, y, u_pred,\n",
    "                         cmap = 'jet',\n",
    "                         linewidth = 0.2,\n",
    "                         antialiased = True,\n",
    "                         edgecolor = 'grey') \n",
    "fig.colorbar(trisurf, ax = ax, shrink = 0.5, aspect = 5)\n",
    "ax.set_title('Predictions', fontweight='bold')\n",
    "# Adding labels\n",
    "ax.set_xlabel('x', fontweight ='bold')\n",
    "ax.set_ylabel('y', fontweight ='bold')\n",
    "ax.set_zlabel('u', fontweight ='bold')\n",
    "plt.show()"
   ]
  },
  {
   "cell_type": "code",
   "execution_count": null,
   "id": "755228df",
   "metadata": {},
   "outputs": [],
   "source": []
  }
 ],
 "metadata": {
  "kernelspec": {
   "display_name": "env",
   "language": "python",
   "name": "env"
  },
  "language_info": {
   "codemirror_mode": {
    "name": "ipython",
    "version": 3
   },
   "file_extension": ".py",
   "mimetype": "text/x-python",
   "name": "python",
   "nbconvert_exporter": "python",
   "pygments_lexer": "ipython3",
   "version": "3.8.10"
  }
 },
 "nbformat": 4,
 "nbformat_minor": 5
}
