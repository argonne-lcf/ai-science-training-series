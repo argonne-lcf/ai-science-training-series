{
 "cells": [
  {
   "cell_type": "markdown",
   "metadata": {},
   "source": [
    "# Taking a look inside the ImageNet Dataset\n",
    "\n",
    "This script is just to help one understand how the ImageNet dataset is stored and annotated.\n",
    "\n",
    "ImageNet is a dataset of images (in JPEG format) that contain 1000 different objects. For each object, there are about 1000 different images. \n",
    "\n",
    "Many, though not all, image files contain a corresponding XML file that has annotation information such as a bounding box to explicitly outline where the object is located, or many independent objects in the same image."
   ]
  },
  {
   "cell_type": "code",
   "execution_count": null,
   "metadata": {},
   "outputs": [],
   "source": [
    "# import some tools\n",
    "import json,os\n",
    "import matplotlib.pyplot as plt\n",
    "import matplotlib.image as mpimg\n",
    "import xml.etree.ElementTree as ET\n",
    "import matplotlib.patches as patches\n",
    "%matplotlib inline"
   ]
  },
  {
   "cell_type": "code",
   "execution_count": null,
   "metadata": {},
   "outputs": [],
   "source": [
    "# load the json config file because it has the path to the filelist\n",
    "json_fn = 'ilsvrc.json'\n",
    "config = json.load(open(json_fn))\n",
    "print(json.dumps(config,indent=3))"
   ]
  },
  {
   "cell_type": "code",
   "execution_count": null,
   "metadata": {},
   "outputs": [],
   "source": [
    "# open the file list\n",
    "filelist = config['data']['train_filelist']\n",
    "file = open(filelist)\n",
    "# read all the lines, there is one file path per line in the files\n",
    "train_filelist = file.readlines()\n",
    "print('total image files: ',len(train_filelist))\n",
    "# choose one image to use as an example, you can change this index to choose another image\n",
    "image_index = 4000\n",
    "image_filename = train_filelist[image_index].strip()\n",
    "print('plotting filename: ',image_filename)\n",
    "image = mpimg.imread(image_filename)\n",
    "print('data shape: ',image.shape)\n",
    "plt.imshow(image)\n"
   ]
  },
  {
   "cell_type": "code",
   "execution_count": null,
   "metadata": {},
   "outputs": [],
   "source": [
    "# convert JPEG filename to be the corresponding XML filename\n",
    "xml_fn = image_filename.replace('Data','Annotations').replace('JPEG','xml')\n",
    "# some images have no corresponding annotations XML file\n",
    "if os.path.exists(xml_fn): \n",
    "    print('xml filename:',xml_fn,os.path.exists(xml_fn))\n",
    "    for line in open(xml_fn):\n",
    "        print(line.replace('\\n',''))\n",
    "else:\n",
    "    print('no xml file found')\n",
    "    xml_fn = None"
   ]
  },
  {
   "cell_type": "code",
   "execution_count": null,
   "metadata": {},
   "outputs": [],
   "source": [
    "# read the XML file with Python's XML reader (XML is a bit antiquated)\n",
    "tree = ET.parse(xml_fn)\n",
    "root = tree.getroot()\n",
    "\n",
    "# read image properties\n",
    "img_size = root.find('size')\n",
    "img_width = int(img_size.find('width').text)\n",
    "img_height = int(img_size.find('height').text)\n",
    "# img_depth = int(img_size.find('depth').text)\n",
    "\n",
    "# there can be multiple objects per iamge\n",
    "objs = root.findall('object')\n",
    "# holder for the bouding box coordinates\n",
    "bndbxs = []\n",
    "# loop over the objects\n",
    "for object in objs:\n",
    "    # inside object, locate bouding box\n",
    "    bndbox = object.find('bndbox')\n",
    "    bndbxs.append([\n",
    "    int(bndbox.find('ymin').text),\n",
    "    int(bndbox.find('xmin').text),\n",
    "    int(bndbox.find('ymax').text),\n",
    "    int(bndbox.find('xmax').text)\n",
    "    ])\n",
    "\n",
    "print(bndbxs)\n",
    "\n",
    "# plot image\n",
    "f,a = plt.subplots(1)\n",
    "a.imshow(image)\n",
    "\n",
    "# show bounding boxes\n",
    "for box in bndbxs:\n",
    "    x0 = box[1]\n",
    "    y0 = box[0]\n",
    "    dx = box[3] - box[1]\n",
    "    dy = box[2] - box[0]\n",
    "    rect = patches.Rectangle((x0, y0), dx, dy, linewidth=1, edgecolor='r', facecolor='none')\n",
    "    a.add_patch(rect)"
   ]
  },
  {
   "cell_type": "code",
   "execution_count": null,
   "metadata": {},
   "outputs": [],
   "source": []
  }
 ],
 "metadata": {
  "interpreter": {
   "hash": "97881f9993164b54b3eff045b89e2d179c98226d61ded95bc1a2f44037c180a5"
  },
  "kernelspec": {
   "display_name": "Python 3",
   "language": "python",
   "name": "python3"
  },
  "language_info": {
   "codemirror_mode": {
    "name": "ipython",
    "version": 3
   },
   "file_extension": ".py",
   "mimetype": "text/x-python",
   "name": "python",
   "nbconvert_exporter": "python",
   "pygments_lexer": "ipython3",
   "version": "3.7.4"
  }
 },
 "nbformat": 4,
 "nbformat_minor": 2
}
