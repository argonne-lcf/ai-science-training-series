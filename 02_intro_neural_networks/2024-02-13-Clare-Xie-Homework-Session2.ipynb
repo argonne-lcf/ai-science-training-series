{
 "cells": [
  {
   "cell_type": "code",
   "execution_count": null,
   "id": "993fb283-a24a-4487-b089-e22a2c6ae407",
   "metadata": {},
   "outputs": [],
   "source": []
  }
 ],
 "metadata": {
  "kernelspec": {
   "display_name": "Python 3",
   "language": "python",
   "name": "python3"
  },
  "language_info": {
   "codemirror_mode": {
    "name": "ipython",
    "version": 3
   },
   "file_extension": ".py",
   "mimetype": "text/x-python",
   "name": "python",
   "nbconvert_exporter": "python",
   "pygments_lexer": "ipython3",
   "version": "3.9.15"
  }
 },
 "nbformat": 4,
 "nbformat_minor": 5
}
